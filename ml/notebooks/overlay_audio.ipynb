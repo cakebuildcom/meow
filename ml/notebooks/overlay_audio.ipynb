{
 "cells": [
  {
   "cell_type": "code",
   "execution_count": null,
   "id": "fd6c2eae",
   "metadata": {},
   "outputs": [],
   "source": [
    "from pydub import AudioSegment\n",
    "import os\n",
    "import moviepy.editor as mp\n",
    "from pathlib import Path\n",
    "from typing import Tuple, Dict, Union\n",
    "import IPython.display as ipd"
   ]
  },
  {
   "cell_type": "code",
   "execution_count": null,
   "id": "d8b29be8",
   "metadata": {},
   "outputs": [],
   "source": [
    "ROOT_DIR = os.path.dirname(os.getcwd())\n",
    "DATA_FOLDER = os.path.join(ROOT_DIR, \"data\")"
   ]
  },
  {
   "cell_type": "code",
   "execution_count": null,
   "id": "d70bbce3",
   "metadata": {},
   "outputs": [],
   "source": [
    "def extract_filename_without_extension(path) -> str:\n",
    "    filename = Path(path).stem\n",
    "    return filename\n",
    "\n",
    "\n",
    "def split_file_from_extension(path, without_dot=True) -> Tuple[str, str]:\n",
    "    filename, extension = os.path.splitext(path)\n",
    "    if without_dot:\n",
    "        extension = extension.replace('.', '').lower()\n",
    "    return filename, extension\n",
    "\n",
    "def extract_folder_from_path(path) -> str:\n",
    "    return os.path.dirname(path)\n",
    "\n",
    "\n",
    "# Separate path to three parts: folder, filename, file extension\n",
    "def separate_path_to_parts(path) -> Tuple[str, str, str]:\n",
    "    filename = extract_filename_without_extension(path)\n",
    "    file_extension = split_file_from_extension(path)[1]\n",
    "    folder = extract_folder_from_path(path)\n",
    "    \n",
    "    return folder, filename, file_extension"
   ]
  },
  {
   "cell_type": "code",
   "execution_count": null,
   "id": "418ba420",
   "metadata": {},
   "outputs": [],
   "source": [
    "def extract_audio_and_write(video_path):\n",
    "    video = mp.VideoFileClip(video_path)\n",
    "    audio = video.audio\n",
    "    folder, filename, extension = separate_path_to_parts(video_path)\n",
    "    audio_path = os.path.join(folder, f\"{filename}.wav\")\n",
    "    print(f\"Writing audio to {audio_path}\")\n",
    "    audio.write_audiofile(audio_path)\n",
    "    return audio_path"
   ]
  },
  {
   "cell_type": "code",
   "execution_count": null,
   "id": "b2fb51c3",
   "metadata": {},
   "outputs": [],
   "source": [
    "audio_waltter_path = os.path.join(DATA_FOLDER, \"example_waltter.wav\")\n",
    "audio_vikture_path = os.path.join(DATA_FOLDER, \"example_vikture.wav\")\n",
    "\n",
    "video_keparoicam_L = os.path.join(DATA_FOLDER, \"keparoicam_clipL.mp4\")\n",
    "video_keparoicam_R = os.path.join(DATA_FOLDER, \"keparoicam_clipR.mp4\")\n",
    "\n",
    "video_keparoicam_L_test = os.path.join(DATA_FOLDER, \"keparoicam_clipL_sync_test.mp4\")\n",
    "video_keparoicam_R_test = os.path.join(DATA_FOLDER, \"keparoicam_clipR_sync_test.mp4\")\n",
    "\n",
    "video_keparoicam_L_test2 = os.path.join(DATA_FOLDER, \"keparoicam_clipL_sync_test2.mp4\")\n",
    "video_keparoicam_R_test2 = os.path.join(DATA_FOLDER, \"keparoicam_clipR_sync_test2.mp4\")"
   ]
  },
  {
   "cell_type": "code",
   "execution_count": null,
   "id": "04dabeec",
   "metadata": {},
   "outputs": [],
   "source": [
    "audio1 = extract_audio_and_write(video_keparoicam_L_test)\n",
    "audio2 = extract_audio_and_write(video_keparoicam_R_test)\n",
    "\n",
    "sound1 = AudioSegment.from_file(audio1, format=\"wav\")\n",
    "sound2 = AudioSegment.from_file(audio2, format=\"wav\")"
   ]
  },
  {
   "cell_type": "code",
   "execution_count": null,
   "id": "6526fa59",
   "metadata": {},
   "outputs": [],
   "source": [
    "# Output length sound1 + sound2\n",
    "combined = sound1 + sound2"
   ]
  },
  {
   "cell_type": "code",
   "execution_count": null,
   "id": "5fac535b",
   "metadata": {},
   "outputs": [],
   "source": [
    "output_file_path = os.path.join(DATA_FOLDER, \"example_audio_combined.mp3\")\n",
    "file_handle = combined.export(output_file_path, format=\"mp3\")"
   ]
  },
  {
   "cell_type": "code",
   "execution_count": null,
   "id": "137d76f7",
   "metadata": {},
   "outputs": [],
   "source": [
    "# Output length (sound1 + sound2) / 2\n",
    "overlay = sound1.overlay(sound2, position=0)"
   ]
  },
  {
   "cell_type": "code",
   "execution_count": null,
   "id": "f139eb40",
   "metadata": {},
   "outputs": [],
   "source": [
    "overlay"
   ]
  },
  {
   "cell_type": "code",
   "execution_count": null,
   "id": "e6a7a119",
   "metadata": {},
   "outputs": [],
   "source": [
    "output_file_path = os.path.join(DATA_FOLDER, \"example_audio_overlay.mp3\")\n",
    "file_handle = overlay.export(output_file_path, format=\"mp3\")"
   ]
  }
 ],
 "metadata": {
  "kernelspec": {
   "display_name": "meow",
   "language": "python",
   "name": "meow"
  },
  "language_info": {
   "codemirror_mode": {
    "name": "ipython",
    "version": 3
   },
   "file_extension": ".py",
   "mimetype": "text/x-python",
   "name": "python",
   "nbconvert_exporter": "python",
   "pygments_lexer": "ipython3",
   "version": "3.10.12"
  }
 },
 "nbformat": 4,
 "nbformat_minor": 5
}
