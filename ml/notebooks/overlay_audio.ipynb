{
 "cells": [
  {
   "cell_type": "code",
   "execution_count": null,
   "id": "fd6c2eae",
   "metadata": {},
   "outputs": [],
   "source": [
    "from pydub import AudioSegment\n",
    "import os"
   ]
  },
  {
   "cell_type": "code",
   "execution_count": null,
   "id": "d8b29be8",
   "metadata": {},
   "outputs": [],
   "source": [
    "ROOT_DIR = os.path.dirname(os.getcwd())\n",
    "DATA_FOLDER = os.path.join(ROOT_DIR, \"data\")"
   ]
  },
  {
   "cell_type": "code",
   "execution_count": null,
   "id": "b2fb51c3",
   "metadata": {},
   "outputs": [],
   "source": [
    "audio_waltter_path = os.path.join(DATA_FOLDER, \"example_waltter.wav\")\n",
    "audio_vikture_path = os.path.join(DATA_FOLDER, \"example_vikture.wav\")"
   ]
  },
  {
   "cell_type": "code",
   "execution_count": null,
   "id": "04dabeec",
   "metadata": {},
   "outputs": [],
   "source": [
    "sound1 = AudioSegment.from_file(audio_waltter_path, format=\"wav\")\n",
    "sound2 = AudioSegment.from_file(audio_vikture_path, format=\"wav\")"
   ]
  },
  {
   "cell_type": "code",
   "execution_count": null,
   "id": "6526fa59",
   "metadata": {},
   "outputs": [],
   "source": [
    "# Output length sound1 + sound2\n",
    "combined = sound1 + sound2"
   ]
  },
  {
   "cell_type": "code",
   "execution_count": null,
   "id": "5fac535b",
   "metadata": {},
   "outputs": [],
   "source": [
    "output_file_path = os.path.join(DATA_FOLDER, \"example_audio_combined.mp3\")\n",
    "file_handle = combined.export(output_file_path, format=\"mp3\")"
   ]
  },
  {
   "cell_type": "code",
   "execution_count": null,
   "id": "137d76f7",
   "metadata": {},
   "outputs": [],
   "source": [
    "# Output length (sound1 + sound2) / 2\n",
    "overlay = sound1.overlay(sound2, position=0)"
   ]
  },
  {
   "cell_type": "code",
   "execution_count": null,
   "id": "e6a7a119",
   "metadata": {},
   "outputs": [],
   "source": [
    "output_file_path = os.path.join(DATA_FOLDER, \"example_audio_overlay.mp3\")\n",
    "file_handle = overlay.export(output_file_path, format=\"mp3\")"
   ]
  }
 ],
 "metadata": {
  "kernelspec": {
   "display_name": "meow",
   "language": "python",
   "name": "meow"
  },
  "language_info": {
   "codemirror_mode": {
    "name": "ipython",
    "version": 3
   },
   "file_extension": ".py",
   "mimetype": "text/x-python",
   "name": "python",
   "nbconvert_exporter": "python",
   "pygments_lexer": "ipython3",
   "version": "3.10.12"
  }
 },
 "nbformat": 4,
 "nbformat_minor": 5
}
