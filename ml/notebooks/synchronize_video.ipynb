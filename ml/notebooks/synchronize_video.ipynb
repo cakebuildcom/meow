{
 "cells": [
  {
   "cell_type": "code",
   "execution_count": 13,
   "id": "680bc047",
   "metadata": {},
   "outputs": [],
   "source": [
    "import scipy\n",
    "import matplotlib.pyplot as plt\n",
    "import os\n",
    "import ffmpeg\n",
    "import moviepy.editor as mp\n",
    "from scipy.io.wavfile import read\n",
    "import numpy as np\n",
    "from scipy.fft import fft, ifft\n",
    "import math\n",
    "import numpy as np\n",
    "from pathlib import Path\n",
    "#from moviepy.video.io.ffmpeg_tools import ffmpeg_extract_subclip\n",
    "from typing import Tuple, Dict, Union\n",
    "import ffmpeg"
   ]
  },
  {
   "cell_type": "code",
   "execution_count": 14,
   "id": "9c9a9062",
   "metadata": {},
   "outputs": [],
   "source": [
    "ROOT_DIR = os.path.dirname(os.getcwd())\n",
    "DATA_FOLDER = os.path.join(ROOT_DIR, \"data\")"
   ]
  },
  {
   "cell_type": "code",
   "execution_count": 15,
   "id": "8c101900",
   "metadata": {},
   "outputs": [],
   "source": [
    "video_waltter_path = os.path.join(DATA_FOLDER, \"example_waltter.MOV\")\n",
    "video_vikture_path = os.path.join(DATA_FOLDER, \"example_vikture.MOV\")\n",
    "\n",
    "video_waltter_e15_path = os.path.join(DATA_FOLDER, \"example_waltter_early_15s.MOV\")\n",
    "video_vikture_e15_path = os.path.join(DATA_FOLDER, \"example_vikture_early_15s.MOV\")\n",
    "\n",
    "video_waltter_l15_path = os.path.join(DATA_FOLDER, \"example_waltter_late_15s.MOV\")\n",
    "video_vikture_l15_path = os.path.join(DATA_FOLDER, \"example_vikture_late_15s.MOV\")\n",
    "\n",
    "video_waltter_e30_path = os.path.join(DATA_FOLDER, \"example_waltter_early_30s.MOV\")\n",
    "video_vikture_e30_path = os.path.join(DATA_FOLDER, \"example_vikture_early_30s.MOV\")\n",
    "\n",
    "video_keparoicam_L = os.path.join(DATA_FOLDER, \"keparoicam_clipL.mp4\")\n",
    "video_keparoicam_R = os.path.join(DATA_FOLDER, \"keparoicam_clipR.mp4\")\n",
    "\n",
    "video_keparoicam_example_L = os.path.join(DATA_FOLDER, \"example_videos_left\", \"keparoicam_left_part1.mp4\")\n",
    "video_keparoicam_example_R = os.path.join(DATA_FOLDER, \"example_videos_right\", \"keparoicam_right_part1.mp4\")"
   ]
  },
  {
   "cell_type": "code",
   "execution_count": 16,
   "id": "061c9ed6",
   "metadata": {},
   "outputs": [],
   "source": [
    "# Get delay from synchronize_audio notebook\n",
    "delay = 0.2263265306122449"
   ]
  },
  {
   "cell_type": "code",
   "execution_count": 17,
   "id": "5648efac",
   "metadata": {},
   "outputs": [],
   "source": [
    "import ast\n",
    "import operator as op\n",
    "\n",
    "allowed_operators = {ast.Add: op.add, ast.Sub: op.sub, ast.Mult: op.mul,\n",
    "                     ast.Div: op.truediv, ast.Pow: op.pow, ast.BitXor: op.xor,\n",
    "                     ast.USub: op.neg}\n",
    "\n",
    "def eval_expr(expr):\n",
    "    \"\"\"\n",
    "    >>> eval_expr('2^6')\n",
    "    4\n",
    "    >>> eval_expr('2**6')\n",
    "    64\n",
    "    >>> eval_expr('1 + 2*3**(4^5) / (6 + -7)')\n",
    "    -5.0\n",
    "    \"\"\"\n",
    "    return eval_(ast.parse(expr, mode='eval').body)\n",
    "\n",
    "def eval_(node):\n",
    "    if isinstance(node, ast.Num):  # <number>\n",
    "        return node.n\n",
    "    elif isinstance(node, ast.BinOp):  # <left> <operator> <right>\n",
    "        return allowed_operators[type(node.op)](eval_(node.left), eval_(node.right))\n",
    "    elif isinstance(node, ast.UnaryOp):  # <operator> <operand> e.g., -1\n",
    "        return allowed_operators[type(node.op)](eval_(node.operand))\n",
    "    else:\n",
    "        raise TypeError(node)\n",
    "\n",
    "def get_video_info(video_path) -> Dict[str, Union[int, float, str]]:\n",
    "    probe = ffmpeg.probe(video_path)\n",
    "    file_path = str(probe['format']['filename'])\n",
    "    video_stream = next((stream for stream in probe['streams'] if stream['codec_type'] == 'video'), None)\n",
    "    width = int(video_stream['width'])\n",
    "    height = int(video_stream['height'])\n",
    "    duration = float(probe['format']['duration'])\n",
    "    frame_rate = round(eval_expr(video_stream['avg_frame_rate']))\n",
    "    # Frame rate removed in notebook because cannot import relative local utils\n",
    "    \n",
    "    return {\n",
    "        \"file_path\" : file_path,\n",
    "        \"frame_height\": height,\n",
    "        \"frame_width\": width,\n",
    "        \"frame_rate\": frame_rate,\n",
    "        \"duration\": duration\n",
    "    }"
   ]
  },
  {
   "cell_type": "code",
   "execution_count": 18,
   "id": "f242e25c",
   "metadata": {},
   "outputs": [
    {
     "name": "stdout",
     "output_type": "stream",
     "text": [
      "{'file_path': '/home/jakki/git_personal/meow/ml/data/example_videos_left/keparoicam_left_part1.mp4', 'frame_height': 1080, 'frame_width': 1920, 'frame_rate': 60, 'duration': 30.016}\n"
     ]
    }
   ],
   "source": [
    "print(get_video_info(video_keparoicam_example_L))"
   ]
  },
  {
   "cell_type": "code",
   "execution_count": 19,
   "id": "4c8855e2",
   "metadata": {},
   "outputs": [
    {
     "name": "stdout",
     "output_type": "stream",
     "text": [
      "('/home/jakki/git_personal/meow/ml/data/example_videos_left', 'keparoicam_left_part1', 'mp4')\n"
     ]
    }
   ],
   "source": [
    "def extract_filename_without_extension(path) -> str:\n",
    "    filename = Path(path).stem\n",
    "    return filename\n",
    "\n",
    "\n",
    "def split_file_from_extension(path, without_dot=True) -> Tuple[str, str]:\n",
    "    filename, extension = os.path.splitext(path)\n",
    "    if without_dot:\n",
    "        extension = extension.replace('.', '').lower()\n",
    "    return filename, extension\n",
    "\n",
    "def extract_folder_from_path(path) -> str:\n",
    "    return os.path.dirname(path)\n",
    "\n",
    "\n",
    "# Separate path to three parts: folder, filename, file extension\n",
    "def separate_path_to_parts(path) -> Tuple[str, str, str]:\n",
    "    filename = extract_filename_without_extension(path)\n",
    "    file_extension = split_file_from_extension(path)[1]\n",
    "    folder = extract_folder_from_path(path)\n",
    "    \n",
    "    return folder, filename, file_extension\n",
    "\n",
    "\n",
    "print(separate_path_to_parts(video_keparoicam_example_L))"
   ]
  },
  {
   "cell_type": "code",
   "execution_count": 20,
   "id": "fba5fe78",
   "metadata": {},
   "outputs": [],
   "source": [
    "from moviepy.tools import subprocess_call\n",
    "from moviepy.config import get_setting\n",
    "\n",
    "def ffmpeg_extract_subclip(filename, t1, t2, targetname=None):\n",
    "    \"\"\" Makes a new video file playing video file ``filename`` between\n",
    "    the times ``t1`` and ``t2``. \"\"\"\n",
    "    name, ext = os.path.splitext(filename)\n",
    "    if not targetname:\n",
    "        T1, T2 = [int(1000*t) for t in [t1, t2]]\n",
    "        targetname = \"%sSUB%d_%d.%s\" % (name, T1, T2, ext)\n",
    "\n",
    "    cmd = [get_setting(\"FFMPEG_BINARY\"),\"-y\",\n",
    "           \"-ss\", \"%0.2f\"%t1,\n",
    "           \"-i\", filename,\n",
    "           \"-t\", \"%0.2f\"%(t2-t1),\n",
    "           \"-vcodec\", \"copy\", \"-acodec\", \"copy\", targetname]\n",
    "\n",
    "    subprocess_call(cmd)"
   ]
  },
  {
   "cell_type": "code",
   "execution_count": 21,
   "id": "f17215d5",
   "metadata": {},
   "outputs": [],
   "source": [
    "# If delay is positive, audio1 needs to be delayed and negative if audio2 needs to be delayed\n",
    "def synchronize_videos(video1_path, video2_path, delay: float, output_path=None):\n",
    "    video1_info = get_video_info(video1_path)\n",
    "    video2_info = get_video_info(video2_path)\n",
    "    video1_path_separated = separate_path_to_parts(video1_path)\n",
    "    video2_path_separated = separate_path_to_parts(video2_path)\n",
    "\n",
    "    final_duration = min(video1_info['duration'], video2_info['duration']) - abs(delay)\n",
    "    \n",
    "    if delay >= 0:\n",
    "        print(f\"Delay {video1_path} by {delay} seconds\")\n",
    "        video1_start_time = delay\n",
    "        video1_end_time = final_duration + delay\n",
    "        video1_name = os.path.join(video1_path_separated[0], f\"{video1_path_separated[1]}_synchronized.{video1_path_separated[2]}\")\n",
    "        video2_start_time = 0\n",
    "        video2_end_time = final_duration\n",
    "        video2_name = os.path.join(video2_path_separated[0], f\"{video2_path_separated[1]}_synchronized.{video2_path_separated[2]}\")\n",
    "\n",
    "        ffmpeg_extract_subclip(video1_path, video1_start_time, video1_end_time, targetname=video1_name)\n",
    "        ffmpeg_extract_subclip(video2_path, video2_start_time, video2_end_time, targetname=video2_name)\n",
    "\n",
    "    else:\n",
    "        print(f\"Delay {video2_path} by {delay} seconds\")\n",
    "        video1_start_time = 0\n",
    "        video1_end_time = final_duration\n",
    "        video1_name = os.path.join(video1_path_separated[0], f\"{video1_path_separated[1]}_synchronized.{video1_path_separated[2]}\")\n",
    "\n",
    "        video2_start_time = abs(delay)\n",
    "        video2_end_time = final_duration + abs(delay)\n",
    "        video2_name = os.path.join(video2_path_separated[0], f\"{video2_path_separated[1]}_synchronized.{video2_path_separated[2]}\")\n",
    "\n",
    "        ffmpeg_extract_subclip(video1_path, video1_start_time, video1_end_time, targetname=video1_name)\n",
    "        ffmpeg_extract_subclip(video2_path, video2_start_time, video2_end_time, targetname=video2_name)"
   ]
  },
  {
   "cell_type": "code",
   "execution_count": 22,
   "id": "ae64917d",
   "metadata": {},
   "outputs": [
    {
     "name": "stdout",
     "output_type": "stream",
     "text": [
      "Delay /home/jakki/git_personal/meow/ml/data/example_videos_left/keparoicam_left_part1.mp4 by 0.2263265306122449 seconds\n",
      "Moviepy - Running:\n",
      ">>> \"+ \" \".join(cmd)\n",
      "Moviepy - Command successful\n",
      "Moviepy - Running:\n",
      ">>> \"+ \" \".join(cmd)\n",
      "Moviepy - Command successful\n"
     ]
    }
   ],
   "source": [
    "synchronize_videos(video_keparoicam_example_L, video_keparoicam_example_R, delay=delay)"
   ]
  },
  {
   "cell_type": "code",
   "execution_count": null,
   "id": "429921fb",
   "metadata": {},
   "outputs": [],
   "source": []
  }
 ],
 "metadata": {
  "kernelspec": {
   "display_name": "meow",
   "language": "python",
   "name": "meow"
  },
  "language_info": {
   "codemirror_mode": {
    "name": "ipython",
    "version": 3
   },
   "file_extension": ".py",
   "mimetype": "text/x-python",
   "name": "python",
   "nbconvert_exporter": "python",
   "pygments_lexer": "ipython3",
   "version": "3.10.12"
  }
 },
 "nbformat": 4,
 "nbformat_minor": 5
}
