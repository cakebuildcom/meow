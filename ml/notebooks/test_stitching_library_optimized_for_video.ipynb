{
 "cells": [
  {
   "cell_type": "code",
   "execution_count": 2,
   "id": "3cc8963e",
   "metadata": {},
   "outputs": [],
   "source": [
    "import os\n",
    "import math\n",
    "import numpy as np\n",
    "import ffmpeg\n",
    "import cv2\n",
    "import imutils\n",
    "from imutils.video import count_frames\n",
    "import matplotlib.pyplot as plt\n",
    "from IPython.display import Audio\n",
    "\n",
    "import stitching\n",
    "\n",
    "from stitching.image_handler import ImageHandler\n",
    "from stitching.feature_detector import FeatureDetector\n",
    "from stitching.feature_matcher import FeatureMatcher\n",
    "from stitching.subsetter import Subsetter\n",
    "from stitching.camera_estimator import CameraEstimator\n",
    "from stitching.camera_adjuster import CameraAdjuster\n",
    "from stitching.camera_wave_corrector import WaveCorrector\n",
    "from stitching.warper import Warper\n",
    "from stitching.cropper import Cropper\n",
    "from stitching.seam_finder import SeamFinder\n",
    "from stitching.exposure_error_compensator import ExposureErrorCompensator\n",
    "from stitching.blender import Blender\n",
    "from stitching.timelapser import Timelapser"
   ]
  },
  {
   "cell_type": "code",
   "execution_count": 3,
   "id": "5608f15e",
   "metadata": {},
   "outputs": [],
   "source": [
    "ROOT_DIR = os.path.dirname(os.getcwd())\n",
    "DATA_FOLDER = os.path.join(ROOT_DIR, \"data\")"
   ]
  },
  {
   "cell_type": "code",
   "execution_count": 4,
   "id": "c60489bc",
   "metadata": {},
   "outputs": [],
   "source": [
    "video_keparoicam_L = os.path.join(DATA_FOLDER, \"keparoicam_clipL_synchronized.mp4\")\n",
    "video_keparoicam_R = os.path.join(DATA_FOLDER, \"keparoicam_clipR_synchronized.mp4\")"
   ]
  },
  {
   "cell_type": "code",
   "execution_count": 6,
   "id": "7d83ac8d",
   "metadata": {},
   "outputs": [],
   "source": [
    "video_left_capture = cv2.VideoCapture(video_keparoicam_L)\n",
    "video_right_capture = cv2.VideoCapture(video_keparoicam_R)"
   ]
  },
  {
   "cell_type": "markdown",
   "id": "25d72894",
   "metadata": {},
   "source": [
    "## Calculate intermediate objects for panorama stitching"
   ]
  },
  {
   "cell_type": "code",
   "execution_count": 13,
   "id": "586626b3",
   "metadata": {},
   "outputs": [],
   "source": [
    "ret_left, left_frame = video_left_capture.read()\n",
    "ret_right, right_frame = video_right_capture.read()"
   ]
  },
  {
   "cell_type": "code",
   "execution_count": 17,
   "id": "b3fc644f",
   "metadata": {},
   "outputs": [],
   "source": [
    "images = [left_frame, right_frame]\n",
    "\n",
    "left_path = os.path.join(\"/tmp\" , 'stitcher_left_image.jpg')\n",
    "right_path = os.path.join(\"/tmp\" , 'stitcher_right_image.jpg')\n",
    "\n",
    "cv2.imwrite(left_path, left_frame)\n",
    "cv2.imwrite(right_path, right_frame)\n",
    "image_names = [left_path, right_path]"
   ]
  },
  {
   "cell_type": "code",
   "execution_count": 18,
   "id": "043afb32",
   "metadata": {},
   "outputs": [],
   "source": [
    "img_handler = ImageHandler()\n",
    "finder = FeatureDetector(detector=\"sift\")"
   ]
  },
  {
   "cell_type": "code",
   "execution_count": 19,
   "id": "04840b0c",
   "metadata": {},
   "outputs": [],
   "source": [
    "img_handler.set_img_names(image_names)\n",
    "\n",
    "medium_imgs = list(img_handler.resize_to_medium_resolution())\n",
    "low_imgs = list(img_handler.resize_to_low_resolution(medium_imgs))\n",
    "final_imgs = list(img_handler.resize_to_final_resolution())"
   ]
  },
  {
   "cell_type": "code",
   "execution_count": 20,
   "id": "4e26f80c",
   "metadata": {},
   "outputs": [],
   "source": [
    "features = [finder.detect_features(img) for img in medium_imgs]\n",
    "keypoints_center_img = finder.draw_keypoints(medium_imgs[1], features[1])"
   ]
  },
  {
   "cell_type": "code",
   "execution_count": null,
   "id": "8a0a5394",
   "metadata": {},
   "outputs": [],
   "source": [
    " "
   ]
  }
 ],
 "metadata": {
  "kernelspec": {
   "display_name": "meow",
   "language": "python",
   "name": "meow"
  },
  "language_info": {
   "codemirror_mode": {
    "name": "ipython",
    "version": 3
   },
   "file_extension": ".py",
   "mimetype": "text/x-python",
   "name": "python",
   "nbconvert_exporter": "python",
   "pygments_lexer": "ipython3",
   "version": "3.10.12"
  }
 },
 "nbformat": 4,
 "nbformat_minor": 5
}
