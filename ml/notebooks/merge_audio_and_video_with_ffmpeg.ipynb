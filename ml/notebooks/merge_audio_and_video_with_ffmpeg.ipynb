{
 "cells": [
  {
   "cell_type": "code",
   "execution_count": null,
   "id": "69cf5cb0",
   "metadata": {},
   "outputs": [],
   "source": [
    "import ffmpeg"
   ]
  },
  {
   "cell_type": "code",
   "execution_count": null,
   "id": "5c3c49f4",
   "metadata": {},
   "outputs": [],
   "source": [
    "input_video = '/media/jakki/Qumran/Videos/keparoi/matsi_19092023/left/GOPR0036.MP4'\n",
    "input_audio = '/media/jakki/Qumran/Videos/keparoi/matsi_19092023/left/GOPR0036.WAV'\n",
    "final_video_path = 'test_output.mp4'"
   ]
  },
  {
   "cell_type": "code",
   "execution_count": null,
   "id": "5489e5af",
   "metadata": {},
   "outputs": [],
   "source": [
    "input_video = ffmpeg.input(input_video)\n",
    "input_audio = ffmpeg.input(input_audio)"
   ]
  },
  {
   "cell_type": "code",
   "execution_count": null,
   "id": "661eca7d",
   "metadata": {},
   "outputs": [],
   "source": [
    "print(f\"Saving final output to file {final_video_path}\")\n",
    "ffmpeg.output(\n",
    "    input_video.video,\n",
    "    input_audio.audio,\n",
    "    final_video_path,\n",
    "    vcodec='copy',\n",
    "    acodec='aac',\n",
    ").run()"
   ]
  },
  {
   "cell_type": "code",
   "execution_count": null,
   "id": "1bcab353",
   "metadata": {},
   "outputs": [],
   "source": [
    "ffmpeg.concat(input_video, input_audio, v=1, a=1).output(final_video_path).run()"
   ]
  },
  {
   "cell_type": "code",
   "execution_count": null,
   "id": "63e07b80",
   "metadata": {},
   "outputs": [],
   "source": []
  }
 ],
 "metadata": {
  "kernelspec": {
   "display_name": "meow",
   "language": "python",
   "name": "meow"
  },
  "language_info": {
   "codemirror_mode": {
    "name": "ipython",
    "version": 3
   },
   "file_extension": ".py",
   "mimetype": "text/x-python",
   "name": "python",
   "nbconvert_exporter": "python",
   "pygments_lexer": "ipython3",
   "version": "3.10.12"
  }
 },
 "nbformat": 4,
 "nbformat_minor": 5
}
