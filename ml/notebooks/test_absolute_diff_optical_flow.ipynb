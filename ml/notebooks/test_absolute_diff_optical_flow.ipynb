{
 "cells": [
  {
   "cell_type": "code",
   "execution_count": null,
   "id": "d67f588b",
   "metadata": {},
   "outputs": [],
   "source": [
    "import cv2\n",
    "import numpy as np\n",
    "import os\n",
    "import matplotlib.pyplot as plt\n",
    "from tqdm.notebook import tqdm"
   ]
  },
  {
   "cell_type": "code",
   "execution_count": null,
   "id": "40d7b9c9",
   "metadata": {},
   "outputs": [],
   "source": [
    "ROOT_DIR = os.path.dirname(os.getcwd())\n",
    "DATA_FOLDER = os.path.join(ROOT_DIR, \"data\")"
   ]
  },
  {
   "cell_type": "code",
   "execution_count": null,
   "id": "b86c9841",
   "metadata": {},
   "outputs": [],
   "source": [
    "video_L_path = os.path.join(DATA_FOLDER, \"keparoicam_clipL_synchronized.mp4\")\n",
    "video_R_path = os.path.join(DATA_FOLDER, \"keparoicam_clipR_synchronized.mp4\")\n",
    "video_left_capture = cv2.VideoCapture(video_L_path)\n",
    "video_right_capture = cv2.VideoCapture(video_R_path)"
   ]
  },
  {
   "cell_type": "code",
   "execution_count": null,
   "id": "06af2429",
   "metadata": {},
   "outputs": [],
   "source": [
    "left_test_image = cv2.imread(os.path.join(DATA_FOLDER, \"keparoi_left_frame.jpg\"))\n",
    "right_test_image = cv2.imread(os.path.join(DATA_FOLDER, \"keparoi_right_frame.jpg\"))"
   ]
  },
  {
   "cell_type": "code",
   "execution_count": null,
   "id": "372b3d51",
   "metadata": {},
   "outputs": [],
   "source": [
    "def prepare_frame(frame, mask):\n",
    "    frame = cv2.cvtColor(frame, cv2.COLOR_BGR2GRAY)\n",
    "    frame = cv2.GaussianBlur(frame, (9,9), 0)\n",
    "    frame = cv2.bitwise_and(frame, frame, mask=mask)\n",
    "    return frame"
   ]
  },
  {
   "cell_type": "code",
   "execution_count": null,
   "id": "f24299a4",
   "metadata": {},
   "outputs": [],
   "source": [
    "def find_absolute_diff_frame(frame1, frame2):\n",
    "    diff_frame = cv2.absdiff(frame1, frame2)\n",
    "\n",
    "    kernel = np.ones((5, 5))\n",
    "    diff_frame = cv2.dilate(diff_frame, kernel, 1)\n",
    "    \n",
    "    thresh_frame = cv2.threshold(src=diff_frame, thresh=30, maxval=255, type=cv2.THRESH_BINARY)[1]\n",
    "    return thresh_frame"
   ]
  },
  {
   "cell_type": "code",
   "execution_count": null,
   "id": "74b555a4",
   "metadata": {},
   "outputs": [],
   "source": [
    "def mask_field_from_image(frame):\n",
    "    median_blurred_image = cv2.medianBlur(frame, 51)\n",
    "    gray_image = cv2.cvtColor(median_blurred_image, cv2.COLOR_RGB2GRAY)\n",
    "    _ , mask = cv2.threshold(gray_image, 100, 255, cv2.THRESH_BINARY)\n",
    "    mask = ~mask\n",
    "    kernel = cv2.getStructuringElement(cv2.MORPH_RECT, (151,151))\n",
    "    mask = cv2.morphologyEx(mask,cv2.MORPH_CLOSE, kernel)\n",
    "    contours, hierarchy = cv2.findContours(mask, cv2.RETR_TREE, cv2.CHAIN_APPROX_NONE)\n",
    "    max_contour = max(contours, key = cv2.contourArea)\n",
    "    approx = cv2.approxPolyDP(max_contour, 0.1 * cv2.arcLength(max_contour, True), True)\n",
    "    final_mask = np.zeros(gray_image.shape, np.uint8)\n",
    "    cv2.drawContours(final_mask, [approx], 0, (255),-1)\n",
    "    final_mask = ~final_mask\n",
    "    return final_mask"
   ]
  },
  {
   "cell_type": "code",
   "execution_count": null,
   "id": "6ee3cee7",
   "metadata": {},
   "outputs": [],
   "source": [
    "ret_left, frame_left = video_left_capture.read()\n",
    "ret_right, frame_right = video_right_capture.read()\n",
    "\n",
    "left_mask = mask_field_from_image(frame_left)\n",
    "right_mask = mask_field_from_image(frame_right)\n",
    "\n",
    "plt.imshow(left_mask)\n",
    "plt.show()\n",
    "plt.imshow(right_mask)\n",
    "plt.show()"
   ]
  },
  {
   "cell_type": "code",
   "execution_count": null,
   "id": "4fc0a3ef",
   "metadata": {},
   "outputs": [],
   "source": [
    "prev_left = None\n",
    "prev_right = None\n",
    "\n",
    "for i in range(100):\n",
    "    \n",
    "    frame_number = i*10\n",
    "    \n",
    "    video_left_capture.set(cv2.CAP_PROP_POS_FRAMES, frame_number)\n",
    "    video_right_capture.set(cv2.CAP_PROP_POS_FRAMES, frame_number)\n",
    "    \n",
    "    res_left, frame_left = video_left_capture.read()\n",
    "    res_right, frame_right = video_right_capture.read()\n",
    "    \n",
    "    if i == 0:\n",
    "        prev_left = frame_left\n",
    "        prev_right = frame_right\n",
    "        continue\n",
    "    \n",
    "    thresh_l = find_absolute_diff_frame(prev_left, frame_left)\n",
    "    thresh_r = find_absolute_diff_frame(prev_right, frame_right)\n",
    "\n",
    "    contours_l, _ = cv2.findContours(image=thresh_l, mode=cv2.RETR_EXTERNAL, method=cv2.CHAIN_APPROX_SIMPLE)\n",
    "    contours_r, _ = cv2.findContours(image=thresh_r, mode=cv2.RETR_EXTERNAL, method=cv2.CHAIN_APPROX_SIMPLE)\n",
    "\n",
    "    \n",
    "    #left_copy = frame_left.copy()\n",
    "    #right_copy = frame_right.copy()\n",
    "    #cv2.drawContours(image=left_copy, contours=contours_l, contourIdx=-1, color=(0, 255, 0), thickness=2, lineType=cv2.LINE_AA)\n",
    "    #cv2.drawContours(image=right_copy, contours=contours_r, contourIdx=-1, color=(0, 255, 0), thickness=2, lineType=cv2.LINE_AA)\n",
    "\n",
    "    left_movement = np.sum(thresh_l)\n",
    "    right_movement = np.sum(thresh_r)\n",
    "        \n",
    "    if left_movement >= right_movement:\n",
    "        plt.imshow(frame_left)\n",
    "    else:\n",
    "        plt.imshow(frame_right)\n",
    "        \n",
    "    plt.show()\n",
    "    \n",
    "    #plt.imshow(thresh_l)\n",
    "    #plt.show()\n",
    "    #plt.imshow(right_copy)\n",
    "    \n",
    "    prev_left = frame_left\n",
    "    prev_right = frame_right"
   ]
  },
  {
   "cell_type": "code",
   "execution_count": null,
   "id": "3f32cce8",
   "metadata": {},
   "outputs": [],
   "source": [
    "final_fps = 60.0\n",
    "final_height = 1080\n",
    "final_width = 1920\n",
    "fourcc = cv2.VideoWriter_fourcc('M','J','P','G')"
   ]
  },
  {
   "cell_type": "code",
   "execution_count": null,
   "id": "a3faf4b0",
   "metadata": {},
   "outputs": [],
   "source": [
    "video_path = os.path.join(DATA_FOLDER, \"example_keparoiCam_absolute_diff_of_cutter.avi\")\n",
    "video_output = cv2.VideoWriter(video_path, fourcc, final_fps, (final_width,final_height))"
   ]
  },
  {
   "cell_type": "code",
   "execution_count": null,
   "id": "397e767f",
   "metadata": {},
   "outputs": [],
   "source": [
    "video_left_capture.set(cv2.CAP_PROP_POS_FRAMES, 0)\n",
    "video_right_capture.set(cv2.CAP_PROP_POS_FRAMES, 0)"
   ]
  },
  {
   "cell_type": "code",
   "execution_count": null,
   "id": "6a082bde",
   "metadata": {},
   "outputs": [],
   "source": [
    "left_n_frames = int(video_left_capture.get(cv2.CAP_PROP_FRAME_COUNT))-1\n",
    "right_n_frames = int(video_right_capture.get(cv2.CAP_PROP_FRAME_COUNT))-1\n",
    "total_frames = min(left_n_frames, right_n_frames)\n",
    "print(total_frames)"
   ]
  },
  {
   "cell_type": "code",
   "execution_count": null,
   "id": "5a4998a1",
   "metadata": {},
   "outputs": [],
   "source": [
    "left_image = cv2.bitwise_and(left_test_image, left_test_image, mask=left_mask)\n",
    "plt.imshow(left_image)\n",
    "plt.show()\n",
    "\n",
    "right_image = cv2.bitwise_and(right_test_image, right_test_image, mask=right_mask)\n",
    "plt.imshow(right_image)\n",
    "plt.show()"
   ]
  },
  {
   "cell_type": "code",
   "execution_count": null,
   "id": "c5c5a8f3",
   "metadata": {},
   "outputs": [],
   "source": [
    "# Settings\n",
    "flow_fps = 5\n",
    "history_length = 24\n",
    "\n",
    "prev_left = None\n",
    "prev_right = None\n",
    "\n",
    "# Denote 0 for left frame, 1 for right frame. Always write the frame that has more \"wins\" in the last 10 frames\n",
    "optical_flow_history = []\n",
    "\n",
    "for i in tqdm(range(total_frames)):\n",
    "    \n",
    "    res_left, frame_left = video_left_capture.read()\n",
    "    res_right, frame_right = video_right_capture.read()    \n",
    "    \n",
    "    if res_left is False or res_right is False:\n",
    "        break\n",
    "    \n",
    "    if i == 0:\n",
    "        \n",
    "        masked_left = prepare_frame(frame_left, left_mask)\n",
    "        masked_right = prepare_frame(frame_right, right_mask)\n",
    "        \n",
    "        prev_left = masked_left\n",
    "        prev_right = masked_right\n",
    "        continue\n",
    "    \n",
    "    if i < flow_fps:\n",
    "        video_output.write(frame_left)\n",
    "    elif i % flow_fps == 0:\n",
    "        \n",
    "        masked_left = prepare_frame(frame_left, left_mask)\n",
    "        masked_right = prepare_frame(frame_right, right_mask)\n",
    "        \n",
    "        thresh_l = find_absolute_diff_frame(prev_left, masked_left)\n",
    "        thresh_r = find_absolute_diff_frame(prev_right, masked_right)\n",
    "        \n",
    "        left_movement = np.sum(thresh_l)\n",
    "        right_movement = np.sum(thresh_r)\n",
    "        \n",
    "        if left_movement >= right_movement:\n",
    "            optical_flow_history.append(0)\n",
    "        else:\n",
    "            optical_flow_history.append(1)\n",
    "            \n",
    "        last_history = optical_flow_history[-history_length:]\n",
    "        if np.mean(last_history) < 0.5:\n",
    "            #print(\"Write left\")\n",
    "            video_output.write(frame_left)\n",
    "        else:\n",
    "            #print(\"Write right\")\n",
    "            video_output.write(frame_right)\n",
    "        \n",
    "        \n",
    "        #contours_l, _ = cv2.findContours(image=thresh_l, mode=cv2.RETR_EXTERNAL, method=cv2.CHAIN_APPROX_SIMPLE)\n",
    "        #contours_r, _ = cv2.findContours(image=thresh_r, mode=cv2.RETR_EXTERNAL, method=cv2.CHAIN_APPROX_SIMPLE)\n",
    "        #left_copy = frame_left.copy()\n",
    "        #right_copy = frame_right.copy()\n",
    "        #cv2.drawContours(image=left_copy, contours=contours_l, contourIdx=-1, color=(0, 255, 0), thickness=2, lineType=cv2.LINE_AA)\n",
    "        #cv2.drawContours(image=right_copy, contours=contours_r, contourIdx=-1, color=(0, 255, 0), thickness=2, lineType=cv2.LINE_AA)\n",
    "        #plt.imshow(left_copy)\n",
    "        #plt.show()\n",
    "        #plt.imshow(right_copy)\n",
    "        #plt.show()\n",
    "            \n",
    "    else:\n",
    "        last_history = optical_flow_history[-history_length:]\n",
    "        if np.mean(last_history) < 0.5:\n",
    "            video_output.write(frame_left)\n",
    "        else:\n",
    "            video_output.write(frame_right)\n",
    "\n",
    "    prev_left = masked_left\n",
    "    prev_right = masked_right\n",
    "    \n",
    "video_left_capture.release()\n",
    "video_right_capture.release()\n",
    "video_output.release()"
   ]
  },
  {
   "cell_type": "code",
   "execution_count": null,
   "id": "8cb9b450",
   "metadata": {},
   "outputs": [],
   "source": []
  }
 ],
 "metadata": {
  "language_info": {
   "name": "python"
  }
 },
 "nbformat": 4,
 "nbformat_minor": 5
}
