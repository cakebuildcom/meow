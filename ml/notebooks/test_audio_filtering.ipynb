{
 "cells": [
  {
   "cell_type": "code",
   "execution_count": null,
   "id": "10f799d9",
   "metadata": {},
   "outputs": [],
   "source": [
    "import os\n",
    "import soundfile as sf\n",
    "import librosa\n",
    "import numpy as np\n",
    "from scipy import signal\n",
    "from IPython.display import Audio"
   ]
  },
  {
   "cell_type": "code",
   "execution_count": null,
   "id": "65407527",
   "metadata": {},
   "outputs": [],
   "source": [
    "audio_path = \"/media/jakki/Seagate_Expansion_Drive/keparoi/2023/matsi_13062023/tmp/m04qs9i4.wav\""
   ]
  },
  {
   "cell_type": "code",
   "execution_count": null,
   "id": "fd8dffef",
   "metadata": {},
   "outputs": [],
   "source": [
    "y1, sr1 = librosa.load(audio_path)"
   ]
  },
  {
   "cell_type": "code",
   "execution_count": null,
   "id": "6d02e8b9",
   "metadata": {},
   "outputs": [],
   "source": [
    "start = 60 * 10 * sr1\n",
    "end = 60 * 11 * sr1\n",
    "\n",
    "y1 = y1[start:end]"
   ]
  },
  {
   "cell_type": "code",
   "execution_count": null,
   "id": "e1c92f60",
   "metadata": {},
   "outputs": [],
   "source": [
    "def butter_lowpass_filter(data: np.ndarray, cutoff: float, samplerate: float, order: int = 5) -> np.ndarray:\n",
    "    nyq = 0.5 * samplerate\n",
    "    normal_cutoff = cutoff / nyq\n",
    "    b, a = signal.butter(order, normal_cutoff, btype='low', analog=False)\n",
    "    y = signal.filtfilt(b, a, data)\n",
    "    return y\n",
    "\n",
    "\n",
    "def butter_highpass_filter(data: np.ndarray, cutoff: float, samplerate: float, order: int = 5) -> np.ndarray:\n",
    "    nyq = 0.5 * samplerate\n",
    "    normal_cutoff = cutoff / nyq\n",
    "    b, a = signal.butter(order, normal_cutoff, btype='high', analog=False)\n",
    "    y = signal.filtfilt(b, a, data)\n",
    "    return y\n",
    "\n",
    "def butter_bandpass_filter(data: np.ndarray, lowcut: float, highcut: float, samplerate: float, order: int = 5) -> np.ndarray:\n",
    "    nyq = 0.5 * samplerate\n",
    "    low = lowcut / nyq\n",
    "    high = highcut / nyq\n",
    "    b, a = signal.butter(order, [low, high], btype='band')\n",
    "    y = signal.filtfilt(b, a, data)\n",
    "    return y\n",
    "\n",
    "def spectral_noise_reduction(audio: np.ndarray, sr: int) -> np.ndarray:\n",
    "    \"\"\"Remove noise using spectral gating.\"\"\"\n",
    "    D = librosa.stft(audio)\n",
    "    \n",
    "    noise_profile = np.mean(np.abs(D[:, :sr//2]), axis=1)\n",
    "    \n",
    "    D_denoised = D * (np.abs(D) > 2 * noise_profile[:, np.newaxis])\n",
    "    \n",
    "    return librosa.istft(D_denoised)\n",
    "\n",
    "def remove_wind_noise(audio: np.ndarray, frame_size: int = 2048, overlap: float = 0.75) -> np.ndarray:\n",
    "    \"\"\"Remove wind noise using spectral subtraction.\n",
    "    \n",
    "    Args:\n",
    "        audio: Input audio\n",
    "        frame_size: Size of FFT frames (default 2048)\n",
    "        overlap: Overlap between frames (default 0.75)\n",
    "    \n",
    "    Returns:\n",
    "        Processed audio with reduced wind noise\n",
    "    \"\"\"\n",
    "    hop_length = int(frame_size * (1 - overlap))\n",
    "    frames = librosa.util.frame(audio, frame_length=frame_size, hop_length=hop_length)\n",
    "    window = np.hanning(frame_size)\n",
    "    \n",
    "    processed_frames = []\n",
    "    for frame in frames.T:\n",
    "        windowed = frame * window\n",
    "        fft = np.fft.rfft(windowed)\n",
    "        magnitude = np.abs(fft)\n",
    "        phase = np.angle(fft)\n",
    "        \n",
    "        # Focus on low frequency range where wind noise typically occurs (0-200 Hz)\n",
    "        wind_region = magnitude[:int(len(magnitude) * 0.05)]  # First 5% of frequencies\n",
    "        noise_floor = np.mean(wind_region)\n",
    "        \n",
    "        # More conservative gain calculation\n",
    "        gain = np.ones_like(magnitude)\n",
    "        \n",
    "        # Only apply reduction to low frequencies\n",
    "        low_freq_idx = int(len(magnitude) * 0.1)  # First 10% of frequencies\n",
    "        gain[:low_freq_idx] = np.maximum(0.3, 1 - (noise_floor / (magnitude[:low_freq_idx] + 1e-10)))\n",
    "        \n",
    "        # Smooth transitions\n",
    "        gain = signal.medfilt(gain, 3)\n",
    "        \n",
    "        # Apply gain and reconstruct\n",
    "        magnitude_clean = magnitude * gain\n",
    "        fft_clean = magnitude_clean * np.exp(1j * phase)\n",
    "        frame_clean = np.fft.irfft(fft_clean)\n",
    "        \n",
    "        processed_frames.append(frame_clean[:frame_size])\n",
    "    \n",
    "    # Overlap-add reconstruction\n",
    "    output = np.zeros(len(audio))\n",
    "    for i, frame in enumerate(processed_frames):\n",
    "        start = i * hop_length\n",
    "        end = start + frame_size\n",
    "        if end > len(output):\n",
    "            break\n",
    "        output[start:end] += frame\n",
    "    \n",
    "    # Normalize but preserve some headroom\n",
    "    output = 0.95 * (output / np.max(np.abs(output)))\n",
    "    \n",
    "    return output\n"
   ]
  },
  {
   "cell_type": "code",
   "execution_count": null,
   "id": "38de795a",
   "metadata": {},
   "outputs": [],
   "source": [
    "Audio(y1, rate=sr1)"
   ]
  },
  {
   "cell_type": "code",
   "execution_count": null,
   "id": "88fb9dbf",
   "metadata": {},
   "outputs": [],
   "source": [
    "y1_lowpass = butter_lowpass_filter(y1, cutoff=8000, samplerate=sr1)"
   ]
  },
  {
   "cell_type": "code",
   "execution_count": null,
   "id": "0eb3b3b3",
   "metadata": {},
   "outputs": [],
   "source": [
    "Audio(y1_lowpass, rate=sr1)"
   ]
  },
  {
   "cell_type": "code",
   "execution_count": null,
   "id": "9b791ef1",
   "metadata": {},
   "outputs": [],
   "source": [
    "y1_highpass = butter_highpass_filter(y1, cutoff=300, samplerate=sr1)"
   ]
  },
  {
   "cell_type": "code",
   "execution_count": null,
   "id": "395b7da6",
   "metadata": {},
   "outputs": [],
   "source": [
    "Audio(y1_highpass, rate=sr1)"
   ]
  },
  {
   "cell_type": "code",
   "execution_count": null,
   "id": "c9f12115",
   "metadata": {},
   "outputs": [],
   "source": [
    "y1_bandpass = butter_bandpass_filter(y1, lowcut=300, highcut=8000, samplerate=sr1)"
   ]
  },
  {
   "cell_type": "code",
   "execution_count": null,
   "id": "fc170425",
   "metadata": {},
   "outputs": [],
   "source": [
    "Audio(y1_bandpass, rate=sr1)"
   ]
  },
  {
   "cell_type": "code",
   "execution_count": null,
   "id": "349c69ae",
   "metadata": {},
   "outputs": [],
   "source": [
    "y1_filtered = librosa.effects.preemphasis(y1_bandpass)"
   ]
  },
  {
   "cell_type": "code",
   "execution_count": null,
   "id": "bdd6a4fe",
   "metadata": {},
   "outputs": [],
   "source": [
    "Audio(y1_filtered, rate=sr1)"
   ]
  },
  {
   "cell_type": "code",
   "execution_count": null,
   "id": "da9b486b",
   "metadata": {},
   "outputs": [],
   "source": [
    "y1_spectral_noise = spectral_noise_reduction(y1, sr1)"
   ]
  },
  {
   "cell_type": "code",
   "execution_count": null,
   "id": "3116e071",
   "metadata": {},
   "outputs": [],
   "source": [
    "Audio(y1_spectral_noise, rate=sr1)"
   ]
  },
  {
   "cell_type": "code",
   "execution_count": null,
   "id": "8efad036",
   "metadata": {},
   "outputs": [],
   "source": [
    "y1_windoff = remove_wind_noise(y1)"
   ]
  },
  {
   "cell_type": "code",
   "execution_count": null,
   "id": "695bb1ad",
   "metadata": {},
   "outputs": [],
   "source": [
    "Audio(y1_windoff, rate=sr1)"
   ]
  },
  {
   "cell_type": "code",
   "execution_count": null,
   "id": "0cc0d99a",
   "metadata": {},
   "outputs": [],
   "source": [
    "y1_windoff_band = remove_wind_noise(y1_bandpass)"
   ]
  },
  {
   "cell_type": "code",
   "execution_count": null,
   "id": "463d8fa0",
   "metadata": {},
   "outputs": [],
   "source": [
    "Audio(y1_windoff_band, rate=sr1)"
   ]
  },
  {
   "cell_type": "code",
   "execution_count": null,
   "id": "2cc48534",
   "metadata": {},
   "outputs": [],
   "source": [
    "audio2 = \"/media/jakki/Seagate_Expansion_Drive/keparoi/2024/matsi_08062024/right/GOPR0044.WAV\""
   ]
  },
  {
   "cell_type": "code",
   "execution_count": null,
   "id": "692a7c53",
   "metadata": {},
   "outputs": [],
   "source": [
    "y2, sr2 = librosa.load(audio2)"
   ]
  },
  {
   "cell_type": "code",
   "execution_count": null,
   "id": "72c5f699",
   "metadata": {},
   "outputs": [],
   "source": [
    "start = 0\n",
    "end = 60 * 2 * sr2\n",
    "\n",
    "y2 = y2[start:end]"
   ]
  },
  {
   "cell_type": "code",
   "execution_count": null,
   "id": "bf8fe8f5",
   "metadata": {},
   "outputs": [],
   "source": [
    "y2_bandpass = butter_bandpass_filter(y2, lowcut=6500, highcut=8500, samplerate=sr2)"
   ]
  },
  {
   "cell_type": "code",
   "execution_count": null,
   "id": "3ecd046b",
   "metadata": {},
   "outputs": [],
   "source": [
    "Audio(y2_bandpass, rate=sr2)"
   ]
  },
  {
   "cell_type": "code",
   "execution_count": null,
   "id": "49a8016f",
   "metadata": {},
   "outputs": [],
   "source": []
  }
 ],
 "metadata": {
  "language_info": {
   "name": "python"
  }
 },
 "nbformat": 4,
 "nbformat_minor": 5
}
