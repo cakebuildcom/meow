{
 "cells": [
  {
   "cell_type": "code",
   "execution_count": null,
   "id": "781eeef4",
   "metadata": {},
   "outputs": [],
   "source": [
    "import cv2\n",
    "import numpy as np\n",
    "import os\n",
    "import matplotlib.pyplot as plt"
   ]
  },
  {
   "cell_type": "code",
   "execution_count": null,
   "id": "8eba4f33",
   "metadata": {},
   "outputs": [],
   "source": [
    "ROOT_DIR = os.path.dirname(os.getcwd())\n",
    "DATA_FOLDER = os.path.join(ROOT_DIR, \"data\")"
   ]
  },
  {
   "cell_type": "code",
   "execution_count": null,
   "id": "4afb2fa7",
   "metadata": {},
   "outputs": [],
   "source": [
    "def correct_distortion(image, k1=-0.5, k2=0):\n",
    "    \"\"\"\n",
    "    Correct lens distortion using radial distortion parameters.\n",
    "    k1, k2: radial distortion coefficients\n",
    "    \"\"\"\n",
    "    height, width = image.shape[:2]\n",
    "    camera_matrix = np.array([[width, 0, width/2],\n",
    "                            [0, width, height/2],\n",
    "                            [0, 0, 1]], dtype=np.float32)\n",
    "    dist_coeffs = np.array([k1, k2, 0, 0], dtype=np.float32)\n",
    "    \n",
    "    # Get optimal new camera matrix\n",
    "    newcameramtx, roi = cv2.getOptimalNewCameraMatrix(\n",
    "        camera_matrix, dist_coeffs, (width, height), 1, (width, height))\n",
    "    \n",
    "    # Undistort the image\n",
    "    dst = cv2.undistort(image, camera_matrix, dist_coeffs, None, newcameramtx)\n",
    "    \n",
    "    return dst"
   ]
  },
  {
   "cell_type": "code",
   "execution_count": null,
   "id": "60669ea9",
   "metadata": {},
   "outputs": [],
   "source": [
    "image = os.path.join(DATA_FOLDER, \"distortion.png\")"
   ]
  },
  {
   "cell_type": "code",
   "execution_count": null,
   "id": "c72ce581",
   "metadata": {},
   "outputs": [],
   "source": [
    "image1 = cv2.imread(image)\n",
    "corrected1 = correct_distortion(image1)"
   ]
  },
  {
   "cell_type": "code",
   "execution_count": null,
   "id": "9e22a631",
   "metadata": {},
   "outputs": [],
   "source": [
    "plt.figure(figsize=(20,20))\n",
    "plt.imshow(corrected1)"
   ]
  },
  {
   "cell_type": "code",
   "execution_count": null,
   "id": "0fa8f41d",
   "metadata": {},
   "outputs": [],
   "source": [
    "for i in np.arange(-1, 1, 0.2):\n",
    "    for j in np.arange(-1, 1, 0.2):\n",
    "        image1 = cv2.imread(image)\n",
    "        corrected1 = correct_distortion(image1, k1=i, k2=j)\n",
    "        plt.figure(figsize=(20,20))\n",
    "        plt.imshow(corrected1)\n",
    "        plt.show()"
   ]
  },
  {
   "cell_type": "code",
   "execution_count": null,
   "id": "1dfbf49b",
   "metadata": {},
   "outputs": [],
   "source": []
  }
 ],
 "metadata": {
  "language_info": {
   "name": "python"
  }
 },
 "nbformat": 4,
 "nbformat_minor": 5
}
