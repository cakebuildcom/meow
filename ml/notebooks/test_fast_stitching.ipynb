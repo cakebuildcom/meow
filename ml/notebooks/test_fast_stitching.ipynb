{
 "cells": [
  {
   "cell_type": "code",
   "execution_count": null,
   "id": "f1eb795d",
   "metadata": {},
   "outputs": [],
   "source": [
    "import os\n",
    "import cv2\n",
    "import numpy as np\n",
    "import matplotlib.pyplot as plt"
   ]
  },
  {
   "cell_type": "code",
   "execution_count": null,
   "id": "01804dde",
   "metadata": {},
   "outputs": [],
   "source": [
    "ROOT_DIR = os.path.dirname(os.getcwd())\n",
    "DATA_FOLDER = os.path.join(ROOT_DIR, \"data\")"
   ]
  },
  {
   "cell_type": "code",
   "execution_count": null,
   "id": "68bf0948",
   "metadata": {},
   "outputs": [],
   "source": [
    "left_image = cv2.imread(os.path.join(DATA_FOLDER, \"keparoi_left_frame_aligned.jpg\"))\n",
    "right_image = cv2.imread(os.path.join(DATA_FOLDER, \"keparoi_right_frame_aligned.jpg\"))\n",
    "\n",
    "camera_distortion = np.load(os.path.join(DATA_FOLDER, \"camera_distortion.npy\"))\n",
    "intrinsic_matrix = np.load(os.path.join(DATA_FOLDER, \"camera_matrix.npy\"))\n",
    "undistorted_camera_matrix = np.load(os.path.join(DATA_FOLDER, \"undistorted_camera_matrix.npy\"))"
   ]
  },
  {
   "cell_type": "code",
   "execution_count": null,
   "id": "63ca97c0",
   "metadata": {},
   "outputs": [],
   "source": [
    "print(camera_distortion)\n",
    "print(intrinsic_matrix)"
   ]
  },
  {
   "cell_type": "code",
   "execution_count": null,
   "id": "9cf90a20",
   "metadata": {},
   "outputs": [],
   "source": [
    "left_image_padded = cv2.copyMakeBorder(\n",
    "     left_image, \n",
    "     200, \n",
    "     200, \n",
    "     200, \n",
    "     200, \n",
    "     cv2.BORDER_CONSTANT, \n",
    "     value=[0, 0, 0]\n",
    ")\n",
    "\n",
    "right_image_padded = cv2.copyMakeBorder(\n",
    "     right_image, \n",
    "     200, \n",
    "     200, \n",
    "     200, \n",
    "     200, \n",
    "     cv2.BORDER_CONSTANT, \n",
    "     value=[0, 0, 0]\n",
    ")\n",
    "\n",
    "print(left_image_padded.shape)\n",
    "plt.imshow(left_image_padded)\n",
    "plt.show()"
   ]
  },
  {
   "cell_type": "code",
   "execution_count": null,
   "id": "b3ff4836",
   "metadata": {},
   "outputs": [],
   "source": [
    "# CAMERA PARAMS\n",
    "\n",
    "ppx = 365\n",
    "ppy = 365\n",
    "aspect = 1\n",
    "focal = 2442\n",
    "# focal 2425\n",
    "\n",
    "K = np.array([[1.8908248e+03, 0.0000000e+00, 3.6500000e+02],\n",
    " [0.0000000e+00, 1.8908248e+03, 2.0550000e+02],\n",
    " [0.0000000e+00, 0.0000000e+00, 1.0000000e+00]])\n",
    "\n",
    "print(K)\n",
    "\n",
    "distortion = np.array([])"
   ]
  },
  {
   "cell_type": "code",
   "execution_count": null,
   "id": "ad98be6a",
   "metadata": {},
   "outputs": [],
   "source": [
    "intrinsic_matrix = np.array([[1.87758667e+03, 0.00000000e+0, 3.65000000e+02],\n",
    " [0.00000000e+00, 1.87758667e+03, 2.05500000e+02],\n",
    " [0.00000000e+00, 0.00000000e+00, 1.00000000e+00]])"
   ]
  },
  {
   "cell_type": "code",
   "execution_count": null,
   "id": "b4a29fd2",
   "metadata": {},
   "outputs": [],
   "source": [
    "intrinsic_matrix = np.array([\n",
    "    [2.7, 0, 0.145],\n",
    "    [0, 2.7, 0],\n",
    "    [0, 0, 0]\n",
    "])\n",
    "\n",
    "camera_distortion = np.array([[4.56e-04, 2.70e-07, 6.00e-05, 3.46e-06, 3.86e-11]])\n",
    "w, h = 1920, 1080\n",
    "undistorted_camera_matrix, roi = cv2.getOptimalNewCameraMatrix(intrinsic_matrix, camera_distortion, (w,h), 1, (w,h))\n",
    "print(undistorted_camera_matrix)"
   ]
  },
  {
   "cell_type": "code",
   "execution_count": null,
   "id": "b389ccfd",
   "metadata": {},
   "outputs": [],
   "source": [
    "undistorted_left_image = cv2.undistort(left_image_padded, intrinsic_matrix, camera_distortion, None, undistorted_camera_matrix)\n",
    "undistorted_right_image = cv2.undistort(right_image_padded, intrinsic_matrix, camera_distortion, None, undistorted_camera_matrix)\n",
    "\n",
    "print(undistorted_left_image.shape)\n",
    "\n",
    "plt.figure(figsize=(30,50))\n",
    "plt.subplot(1,2,1)\n",
    "plt.imshow(left_image)\n",
    "plt.subplot(1,2,2)\n",
    "plt.imshow(undistorted_left_image)\n",
    "plt.show()"
   ]
  },
  {
   "cell_type": "code",
   "execution_count": null,
   "id": "bc1ba37c",
   "metadata": {},
   "outputs": [],
   "source": [
    "left_image_path = os.path.join(DATA_FOLDER, \"left_image_undistorted.jpg\")\n",
    "right_image_path = os.path.join(DATA_FOLDER, \"right_image_undistorted.jpg\")\n",
    "\n",
    "cv2.imwrite(left_image_path, undistorted_left_image) \n",
    "cv2.imwrite(right_image_path, undistorted_right_image)"
   ]
  },
  {
   "cell_type": "code",
   "execution_count": null,
   "id": "baac1645",
   "metadata": {},
   "outputs": [],
   "source": [
    "R = np.array([[1,0,0],[0,1,0],[0,0,1]])\n",
    "map1, map2 = cv2.initUndistortRectifyMap(intrinsic_matrix, camera_distortion, R, undistorted_camera_matrix, \n",
    "                                         (1920, 1080), cv2.CV_16SC2)\n",
    "\n",
    "# remap\n",
    "left_image_undistorted = cv2.remap(left_image_padded, map1, map2, cv2.INTER_LINEAR)\n",
    "plt.imshow(left_image_undistorted)\n",
    "plt.show()"
   ]
  },
  {
   "cell_type": "code",
   "execution_count": null,
   "id": "40b8eba2",
   "metadata": {},
   "outputs": [],
   "source": []
  },
  {
   "cell_type": "code",
   "execution_count": null,
   "id": "c7ebafcb",
   "metadata": {},
   "outputs": [],
   "source": []
  }
 ],
 "metadata": {
  "language_info": {
   "name": "python"
  }
 },
 "nbformat": 4,
 "nbformat_minor": 5
}
