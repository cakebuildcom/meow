{
 "cells": [
  {
   "cell_type": "code",
   "execution_count": null,
   "id": "5799be31",
   "metadata": {},
   "outputs": [],
   "source": [
    "import cv2\n",
    "import numpy as np\n",
    "import matplotlib.pyplot as plt\n",
    "import os\n",
    "from scipy import ndimage"
   ]
  },
  {
   "cell_type": "code",
   "execution_count": null,
   "id": "220c54ec",
   "metadata": {},
   "outputs": [],
   "source": [
    "ROOT_PATH = os.path.dirname(os.getcwd())\n",
    "DATA_PATH = os.path.join(ROOT_PATH, \"data\")"
   ]
  },
  {
   "cell_type": "code",
   "execution_count": null,
   "id": "c6d8195a",
   "metadata": {},
   "outputs": [],
   "source": [
    "left_test_image = cv2.imread(os.path.join(DATA_PATH, \"keparoi_left_frame.jpg\"))\n",
    "right_test_image = cv2.imread(os.path.join(DATA_PATH, \"keparoi_right_frame.jpg\"))"
   ]
  },
  {
   "cell_type": "code",
   "execution_count": null,
   "id": "7dbd8e22",
   "metadata": {},
   "outputs": [],
   "source": []
  }
 ],
 "metadata": {
  "language_info": {
   "name": "python"
  }
 },
 "nbformat": 4,
 "nbformat_minor": 5
}
