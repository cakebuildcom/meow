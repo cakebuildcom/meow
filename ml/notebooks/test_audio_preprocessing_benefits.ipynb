{
 "cells": [
  {
   "cell_type": "code",
   "execution_count": null,
   "id": "030f634c",
   "metadata": {},
   "outputs": [],
   "source": [
    "import numpy as np\n",
    "import os\n",
    "import librosa\n",
    "from scipy import fft\n",
    "import matplotlib.pyplot as plt\n",
    "from scipy.io.wavfile import read\n",
    "from scipy import signal\n",
    "import librosa.display\n",
    "import IPython.display as ipd\n",
    "import pyloudnorm as pyln"
   ]
  },
  {
   "cell_type": "code",
   "execution_count": null,
   "id": "8471117e",
   "metadata": {},
   "outputs": [],
   "source": [
    "ROOT_DIR = os.path.dirname(os.getcwd())\n",
    "DATA_FOLDER = os.path.join(ROOT_DIR, \"data\")"
   ]
  },
  {
   "cell_type": "code",
   "execution_count": null,
   "id": "8ea7fd80",
   "metadata": {},
   "outputs": [],
   "source": [
    "audio_keparoicamL_path = os.path.join(DATA_FOLDER, \"keparoicam_clipL.wav\")\n",
    "audio_keparoicamR_path = os.path.join(DATA_FOLDER, \"keparoicam_clipR.wav\")"
   ]
  },
  {
   "cell_type": "code",
   "execution_count": null,
   "id": "2bd52a04",
   "metadata": {},
   "outputs": [],
   "source": [
    "target_left = audio_keparoicamL_path\n",
    "target_right = audio_keparoicamR_path"
   ]
  },
  {
   "cell_type": "code",
   "execution_count": null,
   "id": "b26bab9c",
   "metadata": {},
   "outputs": [],
   "source": [
    "def plot_audio(data, samplerate=44100):\n",
    "    plt.figure(figsize=(14, 5))\n",
    "    librosa.display.waveshow(data, sr=samplerate)\n",
    "    #plt.title(\"Audio\")\n",
    "    #plt.plot(data)\n",
    "    plt.show()"
   ]
  },
  {
   "cell_type": "code",
   "execution_count": null,
   "id": "41e2fb98",
   "metadata": {},
   "outputs": [],
   "source": [
    "def stereo_to_mono(wav_array: np.ndarray):\n",
    "    mono_wav = wav_array.mean(axis=1)\n",
    "    return mono_wav\n",
    "\n",
    "def z_normalization(wav_array: np.ndarray):\n",
    "    normalized_wav_array = 2.*(wav_array - np.min(wav_array))/np.ptp(wav_array)-1\n",
    "    return normalized_wav_array\n",
    "\n",
    "def normalize_audio(data: np.ndarray, samplerate: int, loudness_reduction=-12.0) -> np.ndarray:\n",
    "    meter = pyln.Meter(samplerate)\n",
    "    loudness = meter.integrated_loudness(data)\n",
    "    loudness_normalized_audio = pyln.normalize.loudness(data, loudness, loudness_reduction)\n",
    "    return loudness_normalized_audio\n",
    "\n",
    "def butter_lowpass_filter(data: np.ndarray, cutoff: float, samplerate: float, order: int = 5) -> np.ndarray:\n",
    "    nyq = 0.5 * samplerate\n",
    "    normal_cutoff = cutoff / nyq\n",
    "    b, a = signal.butter(order, normal_cutoff, btype='low', analog=False)\n",
    "    y = signal.filtfilt(b, a, data)\n",
    "    return y\n",
    "\n",
    "\n",
    "def butter_highpass_filter(data: np.ndarray, cutoff: float, samplerate: float, order: int = 5) -> np.ndarray:\n",
    "    nyq = 0.5 * samplerate\n",
    "    normal_cutoff = cutoff / nyq\n",
    "    b, a = signal.butter(order, normal_cutoff, btype='high', analog=False)\n",
    "    y = signal.filtfilt(b, a, data)\n",
    "    return y"
   ]
  },
  {
   "cell_type": "code",
   "execution_count": null,
   "id": "762c395b",
   "metadata": {},
   "outputs": [],
   "source": [
    "def preprocess_audio(audio_file_path: str, to_mono=True, z_normalize = False, normalize=False, \n",
    "                     high_pass=False, low_pass=False):\n",
    "    samplerate, audio = read(audio_file_path)\n",
    "    audio_data = np.array(audio, dtype=float)\n",
    "    if to_mono:\n",
    "        audio_data = stereo_to_mono(audio_data)\n",
    "    if z_normalize:\n",
    "        audio_data = z_normalization(audio_data)\n",
    "    if normalize:\n",
    "        audio_data = normalize_audio(audio_data, samplerate)\n",
    "    if low_pass:\n",
    "        audio_data = butter_lowpass_filter(audio_data, 5000, samplerate)\n",
    "    if high_pass:\n",
    "        audio_data = butter_highpass_filter(audio_data, 1000, samplerate)\n",
    "\n",
    "    return audio_data"
   ]
  },
  {
   "cell_type": "code",
   "execution_count": null,
   "id": "38cee36e",
   "metadata": {},
   "outputs": [],
   "source": [
    "def audio_fft_correlation(audio1,audio2):\n",
    "    audio1_length = len(audio1)\n",
    "    audio2_length = len(audio2)\n",
    "    \n",
    "    padsize = audio1_length+audio2_length+1\n",
    "    padsize = 2**(int(np.log(padsize)/np.log(2))+1)\n",
    "    \n",
    "    audio1_pad = np.zeros(padsize)\n",
    "    audio1_pad[:audio1_length] = audio1\n",
    "    \n",
    "    audio2_pad = np.zeros(padsize)\n",
    "    audio2_pad[:audio2_length] = audio2\n",
    "    \n",
    "    corr = fft.ifft(fft.fft(audio1_pad)*np.conj(fft.fft(audio2_pad)))\n",
    "    ca = np.absolute(corr)\n",
    "    xmax = np.argmax(ca)\n",
    "    \n",
    "    return padsize, corr, ca, xmax"
   ]
  },
  {
   "cell_type": "code",
   "execution_count": null,
   "id": "98bd90df",
   "metadata": {},
   "outputs": [],
   "source": [
    "def print_delay(audio1, audio2, samplerate=44100):\n",
    "    padsize, corr, ca, xmax = audio_fft_correlation(audio1, audio2)\n",
    "    fs = samplerate\n",
    "\n",
    "    if xmax > padsize // 2:\n",
    "        offset = (padsize-xmax)/fs\n",
    "        print(f\"Audio 1 needs {offset} second delay\")\n",
    "    else:\n",
    "        offset = xmax/fs\n",
    "        print(f\"Audio 2 needs {offset} second delay\")"
   ]
  },
  {
   "cell_type": "code",
   "execution_count": null,
   "id": "a2451250",
   "metadata": {},
   "outputs": [],
   "source": [
    "audio_left = preprocess_audio(target_left, to_mono=True, normalize=False, high_pass=False)\n",
    "audio_right = preprocess_audio(target_right, to_mono=True, normalize=False, high_pass=False)\n",
    "\n",
    "plot_audio(audio_left)\n",
    "plot_audio(audio_right)\n",
    "\n",
    "print_delay(audio_left, audio_right)"
   ]
  },
  {
   "cell_type": "code",
   "execution_count": null,
   "id": "c5f18fcc",
   "metadata": {},
   "outputs": [],
   "source": [
    "ipd.Audio(audio_left, rate=44100)"
   ]
  },
  {
   "cell_type": "code",
   "execution_count": null,
   "id": "c2bc5dc6",
   "metadata": {},
   "outputs": [],
   "source": [
    "ipd.Audio(audio_right, rate=44100)"
   ]
  },
  {
   "cell_type": "code",
   "execution_count": null,
   "id": "c6df9963",
   "metadata": {},
   "outputs": [],
   "source": [
    "audio_left = preprocess_audio(target_left, to_mono=True, normalize=True, high_pass=False)\n",
    "audio_right = preprocess_audio(target_right, to_mono=True, normalize=True, high_pass=False)\n",
    "\n",
    "plot_audio(audio_left)\n",
    "plot_audio(audio_right)\n",
    "\n",
    "print_delay(audio_left, audio_right)"
   ]
  },
  {
   "cell_type": "code",
   "execution_count": null,
   "id": "65faf512",
   "metadata": {},
   "outputs": [],
   "source": [
    "ipd.Audio(audio_left, rate=44100)"
   ]
  },
  {
   "cell_type": "code",
   "execution_count": null,
   "id": "2bdc9d0f",
   "metadata": {},
   "outputs": [],
   "source": [
    "ipd.Audio(audio_right, rate=44100)"
   ]
  },
  {
   "cell_type": "code",
   "execution_count": null,
   "id": "8dcc7c86",
   "metadata": {},
   "outputs": [],
   "source": [
    "audio_left = preprocess_audio(target_left, to_mono=True, normalize=False, high_pass=True)\n",
    "audio_right = preprocess_audio(target_right, to_mono=True, normalize=False, high_pass=True)\n",
    "\n",
    "plot_audio(audio_left)\n",
    "plot_audio(audio_right)\n",
    "\n",
    "print_delay(audio_left, audio_right)"
   ]
  },
  {
   "cell_type": "code",
   "execution_count": null,
   "id": "e519e521",
   "metadata": {},
   "outputs": [],
   "source": [
    "ipd.Audio(audio_left, rate=44100)"
   ]
  },
  {
   "cell_type": "code",
   "execution_count": null,
   "id": "b7dc9811",
   "metadata": {},
   "outputs": [],
   "source": [
    "ipd.Audio(audio_right, rate=44100)"
   ]
  },
  {
   "cell_type": "code",
   "execution_count": null,
   "id": "4c51c42a",
   "metadata": {},
   "outputs": [],
   "source": [
    "audio_left = preprocess_audio(target_left, to_mono=True, normalize=True, high_pass=True)\n",
    "audio_right = preprocess_audio(target_right, to_mono=True, normalize=True, high_pass=True)\n",
    "\n",
    "plot_audio(audio_left)\n",
    "plot_audio(audio_right)\n",
    "\n",
    "print_delay(audio_left, audio_right)"
   ]
  },
  {
   "cell_type": "code",
   "execution_count": null,
   "id": "040b0162",
   "metadata": {},
   "outputs": [],
   "source": [
    "ipd.Audio(audio_left, rate=44100)"
   ]
  },
  {
   "cell_type": "code",
   "execution_count": null,
   "id": "d9e738f3",
   "metadata": {},
   "outputs": [],
   "source": [
    "ipd.Audio(audio_right, rate=44100)"
   ]
  },
  {
   "cell_type": "code",
   "execution_count": null,
   "id": "4f3fdf59",
   "metadata": {},
   "outputs": [],
   "source": [
    "audio_left = preprocess_audio(target_left, to_mono=True, normalize=True, high_pass=True, low_pass=True)\n",
    "audio_right = preprocess_audio(target_right, to_mono=True, normalize=True, high_pass=True, low_pass=True)\n",
    "\n",
    "plot_audio(audio_left)\n",
    "plot_audio(audio_right)\n",
    "\n",
    "print_delay(audio_left, audio_right)"
   ]
  },
  {
   "cell_type": "code",
   "execution_count": null,
   "id": "3276dda1",
   "metadata": {},
   "outputs": [],
   "source": [
    "ipd.Audio(audio_left, rate=44100)"
   ]
  },
  {
   "cell_type": "code",
   "execution_count": null,
   "id": "b26de5d0",
   "metadata": {},
   "outputs": [],
   "source": [
    "ipd.Audio(audio_right, rate=44100)"
   ]
  },
  {
   "cell_type": "code",
   "execution_count": null,
   "id": "8f75280b",
   "metadata": {},
   "outputs": [],
   "source": [
    "audio_left = preprocess_audio(target_left, to_mono=True, z_normalize=True, normalize=True, high_pass=True, low_pass=True)\n",
    "audio_right = preprocess_audio(target_right, to_mono=True, z_normalize=True, normalize=True, high_pass=True, low_pass=True)\n",
    "\n",
    "plot_audio(audio_left)\n",
    "plot_audio(audio_right)\n",
    "\n",
    "print_delay(audio_left, audio_right)"
   ]
  },
  {
   "cell_type": "code",
   "execution_count": null,
   "id": "8ea86ac0",
   "metadata": {},
   "outputs": [],
   "source": []
  }
 ],
 "metadata": {
  "language_info": {
   "name": "python"
  }
 },
 "nbformat": 4,
 "nbformat_minor": 5
}
