{
 "cells": [
  {
   "cell_type": "code",
   "execution_count": null,
   "id": "46ca128e",
   "metadata": {},
   "outputs": [],
   "source": [
    "import cv2\n",
    "import glob\n",
    "import os\n",
    "import imutils\n",
    "import numpy as np\n",
    "import matplotlib.pyplot as plt\n",
    "import stitching\n",
    "from stitching.cropper import Cropper"
   ]
  },
  {
   "cell_type": "code",
   "execution_count": null,
   "id": "10fbace6",
   "metadata": {},
   "outputs": [],
   "source": [
    "ROOT_DIR = os.path.dirname(os.getcwd())\n",
    "DATA_FOLDER = os.path.join(ROOT_DIR, \"data\")"
   ]
  },
  {
   "cell_type": "code",
   "execution_count": null,
   "id": "a0ca45e4",
   "metadata": {},
   "outputs": [],
   "source": [
    "video_path_left = os.path.join(\"/media/jakki/Qumran/Videos/meow_tmp/wb8y5mj8.mp4\")\n",
    "video_path_right = os.path.join(\"/media/jakki/Qumran/Videos/meow_tmp/t8pxz3yw.mp4\")"
   ]
  },
  {
   "cell_type": "code",
   "execution_count": null,
   "id": "08c676be",
   "metadata": {},
   "outputs": [],
   "source": [
    "capture_left = cv2.VideoCapture(video_path_left)\n",
    "_, image_left = capture_left.read()\n",
    "\n",
    "capture_right = cv2.VideoCapture(video_path_right)\n",
    "_, image_right = capture_right.read()"
   ]
  },
  {
   "cell_type": "code",
   "execution_count": null,
   "id": "ec893ed4",
   "metadata": {},
   "outputs": [],
   "source": [
    "image_left.shape"
   ]
  },
  {
   "cell_type": "code",
   "execution_count": null,
   "id": "b5e14263",
   "metadata": {},
   "outputs": [],
   "source": [
    "best_matrix = \"camera_1_checkerboard_8x10_20x20_slow\"\n",
    "\n",
    "calibration_data_folder = os.path.join(DATA_FOLDER, \"camera_calibration\", \"go_pro_5_hero_black\")\n",
    "\n",
    "intrinsic_matrix = np.array([\n",
    "    [1039.788495388855, 0, 961.4873458747151],\n",
    "    [0, 1045.3324681263186, 532.5995495852319], \n",
    "    [0, 0, 1]\n",
    "])\n",
    "\n",
    "distortion = np.array([\n",
    "    -0.2830088858305849, 0.1353401508767815, -0.0005040870884686496, -0.000176582493717214\n",
    "])"
   ]
  },
  {
   "cell_type": "code",
   "execution_count": null,
   "id": "fb2e37cb",
   "metadata": {},
   "outputs": [],
   "source": [
    "h, w = 1080, 1920\n",
    "undistorted_matrix, roi = cv2.getOptimalNewCameraMatrix(intrinsic_matrix, distortion, (w, h), 1, (w, h))\n",
    "\n",
    "undistorted_image_left = cv2.undistort(image_left, intrinsic_matrix, distortion, None, undistorted_matrix)\n",
    "\n",
    "plt.figure(figsize=(30,50))\n",
    "plt.subplot(1,2,1)\n",
    "plt.imshow(image_left)\n",
    "plt.subplot(1,2,2)\n",
    "plt.imshow(undistorted_image_left)\n",
    "plt.show()"
   ]
  },
  {
   "cell_type": "code",
   "execution_count": null,
   "id": "23c2d31c",
   "metadata": {},
   "outputs": [],
   "source": [
    "h, w = 1080, 1920\n",
    "undistorted_matrix, roi = cv2.getOptimalNewCameraMatrix(intrinsic_matrix, distortion, (w, h), 1, (w, h))\n",
    "\n",
    "undistorted_image_right = cv2.undistort(image_right, intrinsic_matrix, distortion, None, undistorted_matrix)\n",
    "\n",
    "plt.figure(figsize=(30,50))\n",
    "plt.subplot(1,2,1)\n",
    "plt.imshow(image_right)\n",
    "plt.subplot(1,2,2)\n",
    "plt.imshow(undistorted_image_right)\n",
    "plt.show()"
   ]
  },
  {
   "cell_type": "code",
   "execution_count": null,
   "id": "91e2761c",
   "metadata": {},
   "outputs": [],
   "source": [
    "# Fisheye, affine, stereographic and portrait projections don't work\n",
    "\n",
    "projections = [\n",
    "    \"spherical\",\n",
    "    \"plane\",\n",
    "    \"affine\",\n",
    "    \"cylindrical\",\n",
    "    \"compressedPlaneA2B1\",\n",
    "    \"compressedPlaneA1.5B1\",\n",
    "    \"paniniA2B1\",\n",
    "    \"paniniA1.5B1\",\n",
    "    \"mercator\",\n",
    "    \"transverseMercator\"\n",
    "]\n",
    "\n",
    "for proj in projections:\n",
    "    try:\n",
    "        stitcher = stitching.Stitcher(warper_type=proj, crop=None, wave_correct_kind=\"horiz\", blend_strength=20, try_use_gpu=True)\n",
    "        panorama = stitcher.stitch([undistorted_image_left, undistorted_image_right])\n",
    "    except Exception as exc:\n",
    "        print(exc)\n",
    "        continue\n",
    "        \n",
    "    plt.figure(figsize=(32,32))\n",
    "    plt.title(f\"Project: {proj}\")\n",
    "    plt.imshow(panorama)\n",
    "    plt.show()"
   ]
  },
  {
   "cell_type": "code",
   "execution_count": null,
   "id": "e6e2b752",
   "metadata": {},
   "outputs": [],
   "source": [
    "stitcher = stitching.Stitcher(warper_type=\"transverseMercator\", crop=None, wave_correct_kind=\"horiz\", blend_strength=20, try_use_gpu=True)\n",
    "panorama = stitcher.stitch([undistorted_image_left, undistorted_image_right])\n",
    "panorama = imutils.rotate(panorama, 3)\n",
    "cropped_pano = panorama[150:1000, 100:3000]\n",
    "plt.figure(figsize=(30,30))\n",
    "plt.imshow(cropped_pano)\n",
    "plt.show()"
   ]
  },
  {
   "cell_type": "code",
   "execution_count": null,
   "id": "92783cfc",
   "metadata": {},
   "outputs": [],
   "source": [
    "best_matrix = \"camera_1_checkerboard_8x10_20x20_slow\"\n",
    "\n",
    "calibration_data_folder = os.path.join(DATA_FOLDER, \"camera_calibration\", \"go_pro_5_hero_black\")\n",
    "\n",
    "intrinsic_matrix = np.load(\n",
    "    os.path.join(\n",
    "        calibration_data_folder, \"camera_1\", f\"{best_matrix}_intrinsic_matrix.npy\"\n",
    "    )\n",
    ")\n",
    "distortion = np.load(\n",
    "    os.path.join(\n",
    "        calibration_data_folder, \"camera_1\", f\"{best_matrix}_camera_distortion.npy\"\n",
    "    )\n",
    ")"
   ]
  },
  {
   "cell_type": "code",
   "execution_count": null,
   "id": "4566d3ac",
   "metadata": {},
   "outputs": [],
   "source": [
    "h, w = 1080, 1920\n",
    "undistorted_matrix, roi = cv2.getOptimalNewCameraMatrix(intrinsic_matrix, distortion, (w, h), 1, (w, h))\n",
    "\n",
    "x, y, w, h = roi\n",
    "undistorted_image_right2 = cv2.undistort(image_right, intrinsic_matrix, distortion, None, undistorted_matrix)\n",
    "#undistorted_image_right2 = undistorted_image_right2[y:y+h, x:x+w]\n",
    "\n",
    "plt.figure(figsize=(30,50))\n",
    "plt.subplot(1,2,1)\n",
    "plt.imshow(image_right)\n",
    "plt.subplot(1,2,2)\n",
    "plt.imshow(undistorted_image_right2)\n",
    "plt.show()"
   ]
  },
  {
   "cell_type": "code",
   "execution_count": null,
   "id": "dc74bf60",
   "metadata": {},
   "outputs": [],
   "source": []
  }
 ],
 "metadata": {
  "language_info": {
   "name": "python"
  }
 },
 "nbformat": 4,
 "nbformat_minor": 5
}
