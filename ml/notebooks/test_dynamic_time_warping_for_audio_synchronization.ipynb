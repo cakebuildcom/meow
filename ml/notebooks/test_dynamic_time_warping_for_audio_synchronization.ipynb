{
 "cells": [
  {
   "cell_type": "code",
   "execution_count": null,
   "id": "9e609929",
   "metadata": {},
   "outputs": [],
   "source": [
    "\"\"\"source: https://github.com/dsholes/python-warpdrive/blob/master/warpdrive.py\"\"\"\n",
    "\n",
    "\n",
    "import os\n",
    "import librosa\n",
    "import numpy as np\n",
    "import soundfile as sf\n",
    "import json\n",
    "import sys\n",
    "from pathlib import Path\n",
    "from scipy.io import wavfile"
   ]
  },
  {
   "cell_type": "code",
   "execution_count": null,
   "id": "04936a4f",
   "metadata": {},
   "outputs": [],
   "source": [
    "ROOT_DIR = os.path.dirname(os.getcwd())\n",
    "DATA_FOLDER = os.path.join(ROOT_DIR, \"data\")"
   ]
  },
  {
   "cell_type": "code",
   "execution_count": null,
   "id": "58c8220e",
   "metadata": {},
   "outputs": [],
   "source": [
    "audio_keparoicamL_A_path = os.path.join(DATA_FOLDER, \"keparoicam_left_test_A.wav\")\n",
    "audio_keparoicamR_A_path = os.path.join(DATA_FOLDER, \"keparoicam_right_test_A.wav\")\n",
    "\n",
    "audio_keparoicamL_B_path = os.path.join(DATA_FOLDER, \"keparoicam_left_test_B.wav\")\n",
    "audio_keparoicamR_B_path = os.path.join(DATA_FOLDER, \"keparoicam_right_test_B.wav\")\n",
    "\n",
    "audio_keparoicamL_C_path = os.path.join(DATA_FOLDER, \"keparoicam_left_test_C.wav\")\n",
    "audio_keparoicamR_C_path = os.path.join(DATA_FOLDER, \"keparoicam_right_test_C.wav\")"
   ]
  },
  {
   "cell_type": "code",
   "execution_count": null,
   "id": "bb9f20e6",
   "metadata": {},
   "outputs": [],
   "source": [
    "target_left = audio_keparoicamL_B_path\n",
    "target_right = audio_keparoicamR_B_path"
   ]
  },
  {
   "cell_type": "code",
   "execution_count": null,
   "id": "73288515",
   "metadata": {},
   "outputs": [],
   "source": [
    "def dtw_shift_param(sig1, sig2, sr):\n",
    "    \"\"\"\n",
    "    Find warping parameters for time shift calculation using Dynamic\n",
    "    Time Warping (DTW) algorithm from `librosa` package.\n",
    "    \"\"\"\n",
    "    # Code taken from librosa docs\n",
    "    # Changed metric to 'euclidean', much more robust\n",
    "    # But Why?\n",
    "\n",
    "    x_1 = sig1\n",
    "    x_2 = sig2\n",
    "    n_fft = int((sr/10.)*2.)\n",
    "    hop_size = int(n_fft/2.)\n",
    "\n",
    "    x_1_chroma = librosa.feature.chroma_stft(y=x_1, sr=sr, tuning=0,\n",
    "                                             norm=2, hop_length=hop_size,\n",
    "                                             n_fft=n_fft)\n",
    "    x_2_chroma = librosa.feature.chroma_stft(y=x_2, sr=sr, tuning=0,\n",
    "                                             norm=2, hop_length=hop_size,\n",
    "                                             n_fft=n_fft)\n",
    "\n",
    "    D, wp = librosa.sequence.dtw(X=x_1_chroma, Y=x_2_chroma,\n",
    "                                 metric='euclidean')\n",
    "    return (wp, hop_size)"
   ]
  },
  {
   "cell_type": "code",
   "execution_count": null,
   "id": "9d6f6263",
   "metadata": {},
   "outputs": [],
   "source": [
    "def pseudo_hist_time_shift(wp, sr, hop_size):\n",
    "    \"\"\"\n",
    "    Build Pseudo Histogram to select \"mode\" of time shift data.\n",
    "\n",
    "    Most common time shift treated as actual time shift.\n",
    "\n",
    "    Need proper test to determine confidence in result.\n",
    "    \"\"\"\n",
    "    tdiff_unitless = wp[:,0] - wp[:,1]\n",
    "    tdiff_unique, tdiff_count = np.unique(tdiff_unitless,\n",
    "                                          return_counts=True)\n",
    "    tdiff_sec = tdiff_unique * hop_size / sr\n",
    "\n",
    "    return (tdiff_sec, tdiff_count)"
   ]
  },
  {
   "cell_type": "code",
   "execution_count": null,
   "id": "f7847abe",
   "metadata": {},
   "outputs": [],
   "source": [
    "def find_delay_sec(sig1, sig2, sr):\n",
    "    \"\"\"\n",
    "    Return Time Shift between signals in seconds. Note signals must\n",
    "    have same sample rate\n",
    "    \"\"\"\n",
    "    # Use Dynamic Time Warping (DTW)\n",
    "    wp, hop_size = dtw_shift_param(sig1, sig2, sr)\n",
    "\n",
    "    # Build Pseudo Histogram of time shift \"guesses\"\n",
    "    tdiff_sec, tdiff_count = pseudo_hist_time_shift(wp, sr, hop_size)\n",
    "\n",
    "    # Need a better confidence metric...\n",
    "    count_argmax = tdiff_count.argmax()\n",
    "    nearest_argmax_idx = np.array([count_argmax - 1,\n",
    "                                   count_argmax,\n",
    "                                   count_argmax + 1])\n",
    "    nearest_counts = tdiff_count[nearest_argmax_idx]\n",
    "    nearest_tdiff = tdiff_sec[nearest_argmax_idx]\n",
    "    confidence = nearest_counts.sum()/tdiff_count.sum()\n",
    "\n",
    "    # Weighted average of peak and 2 nearest neighbors\n",
    "    time_shift = (nearest_tdiff*nearest_counts).sum()/nearest_counts.sum()\n",
    "    return (time_shift, confidence)"
   ]
  },
  {
   "cell_type": "code",
   "execution_count": null,
   "id": "4e4528a3",
   "metadata": {},
   "outputs": [],
   "source": [
    "audio1, samplerate1 = librosa.load(target_left, sr=None)\n",
    "audio2, samplerate2 = librosa.load(target_right, sr=None)\n",
    "\n",
    "assert samplerate1 == samplerate2\n",
    "\n",
    "delay = find_delay_sec(audio1, audio2, samplerate1)\n",
    "print(delay)"
   ]
  },
  {
   "cell_type": "code",
   "execution_count": null,
   "id": "65fde05d",
   "metadata": {},
   "outputs": [],
   "source": []
  }
 ],
 "metadata": {
  "kernelspec": {
   "display_name": "meow",
   "language": "python",
   "name": "meow"
  },
  "language_info": {
   "codemirror_mode": {
    "name": "ipython",
    "version": 3
   },
   "file_extension": ".py",
   "mimetype": "text/x-python",
   "name": "python",
   "nbconvert_exporter": "python",
   "pygments_lexer": "ipython3",
   "version": "3.10.12"
  }
 },
 "nbformat": 4,
 "nbformat_minor": 5
}
