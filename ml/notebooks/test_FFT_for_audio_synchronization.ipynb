{
 "cells": [
  {
   "cell_type": "code",
   "execution_count": null,
   "id": "69fac5a5",
   "metadata": {},
   "outputs": [],
   "source": [
    "import numpy as np\n",
    "import os\n",
    "import librosa\n",
    "from scipy import fft\n",
    "import matplotlib.pyplot as plt"
   ]
  },
  {
   "cell_type": "code",
   "execution_count": null,
   "id": "0e1a7211",
   "metadata": {},
   "outputs": [],
   "source": [
    "ROOT_DIR = os.path.dirname(os.getcwd())\n",
    "DATA_FOLDER = os.path.join(ROOT_DIR, \"data\")"
   ]
  },
  {
   "cell_type": "code",
   "execution_count": null,
   "id": "37149139",
   "metadata": {},
   "outputs": [],
   "source": [
    "audio_keparoicamL_path = os.path.join(DATA_FOLDER, \"keparoicam_clipL.wav\")\n",
    "audio_keparoicamR_path = os.path.join(DATA_FOLDER, \"keparoicam_clipR.wav\")\n",
    "\n",
    "audio_keparoicamL_sync_path = os.path.join(DATA_FOLDER, \"keparoicam_clipL_synchronized.wav\")\n",
    "audio_keparoicamR_sync_path = os.path.join(DATA_FOLDER, \"keparoicam_clipR_synchronized.wav\")\n",
    "\n",
    "audio_keparoicamL_A_path = os.path.join(DATA_FOLDER, \"keparoicam_left_test_A.wav\")\n",
    "audio_keparoicamR_A_path = os.path.join(DATA_FOLDER, \"keparoicam_right_test_A.wav\")\n",
    "\n",
    "audio_keparoicamL_B_path = os.path.join(DATA_FOLDER, \"keparoicam_left_test_B.wav\")\n",
    "audio_keparoicamR_B_path = os.path.join(DATA_FOLDER, \"keparoicam_right_test_B.wav\")\n",
    "\n",
    "audio_keparoicamL_C_path = os.path.join(DATA_FOLDER, \"keparoicam_left_test_C.wav\")\n",
    "audio_keparoicamR_C_path = os.path.join(DATA_FOLDER, \"keparoicam_right_test_C.wav\")"
   ]
  },
  {
   "cell_type": "code",
   "execution_count": null,
   "id": "b4b4896b",
   "metadata": {},
   "outputs": [],
   "source": [
    "target_left = audio_keparoicamL_sync_path\n",
    "target_right = audio_keparoicamR_sync_path"
   ]
  },
  {
   "cell_type": "code",
   "execution_count": null,
   "id": "4f54edbb",
   "metadata": {},
   "outputs": [],
   "source": [
    "def audio_fft_correlation(audio1,audio2):\n",
    "    audio1_length = len(audio1)\n",
    "    audio2_length = len(audio2)\n",
    "    \n",
    "    padsize = audio1_length+audio2_length+1\n",
    "    padsize = 2**(int(np.log(padsize)/np.log(2))+1)\n",
    "    \n",
    "    audio1_pad = np.zeros(padsize)\n",
    "    audio1_pad[:audio1_length] = audio1\n",
    "    \n",
    "    audio2_pad = np.zeros(padsize)\n",
    "    audio2_pad[:audio2_length] = audio2\n",
    "    \n",
    "    corr = fft.ifft(fft.fft(audio1_pad)*np.conj(fft.fft(audio2_pad)))\n",
    "    ca = np.absolute(corr)\n",
    "    xmax = np.argmax(ca)\n",
    "    \n",
    "    return padsize, corr, ca, xmax"
   ]
  },
  {
   "cell_type": "code",
   "execution_count": null,
   "id": "0aa9f41d",
   "metadata": {},
   "outputs": [],
   "source": [
    "audio1, samplerate1 = librosa.load(target_left, sr=None)\n",
    "audio2, samplerate2 = librosa.load(target_right, sr=None)\n",
    "\n",
    "assert samplerate1 == samplerate2"
   ]
  },
  {
   "cell_type": "code",
   "execution_count": null,
   "id": "44915a35",
   "metadata": {},
   "outputs": [],
   "source": [
    "audio1.shape"
   ]
  },
  {
   "cell_type": "code",
   "execution_count": null,
   "id": "1d61d975",
   "metadata": {},
   "outputs": [],
   "source": [
    "padsize, corr, ca, xmax = audio_fft_correlation(audio1, audio2)"
   ]
  },
  {
   "cell_type": "code",
   "execution_count": null,
   "id": "24133950",
   "metadata": {},
   "outputs": [],
   "source": [
    "plt.plot(ca)\n",
    "plt.title(\"FFT correlations\")\n",
    "plt.ylabel(\"correlation\")\n",
    "plt.show()"
   ]
  },
  {
   "cell_type": "code",
   "execution_count": null,
   "id": "0a8e2913",
   "metadata": {},
   "outputs": [],
   "source": [
    "plt.plot(corr)\n",
    "plt.title(\"FFT correlations\")\n",
    "plt.ylabel(\"correlation\")\n",
    "plt.show()"
   ]
  },
  {
   "cell_type": "code",
   "execution_count": null,
   "id": "79776aa7",
   "metadata": {},
   "outputs": [],
   "source": [
    "fs = samplerate1\n",
    "\n",
    "if xmax > padsize // 2:\n",
    "    offset = (padsize-xmax)/fs\n",
    "    print(f\"Audio 1 needs {offset} second delay\")\n",
    "else:\n",
    "    offset = xmax/fs\n",
    "    print(f\"Audio 2 needs {offset} second delay\")"
   ]
  },
  {
   "cell_type": "code",
   "execution_count": null,
   "id": "2f7eadf2",
   "metadata": {},
   "outputs": [],
   "source": [
    "-offset"
   ]
  },
  {
   "cell_type": "code",
   "execution_count": null,
   "id": "ee050be3",
   "metadata": {},
   "outputs": [],
   "source": []
  }
 ],
 "metadata": {
  "kernelspec": {
   "display_name": "meow",
   "language": "python",
   "name": "meow"
  },
  "language_info": {
   "codemirror_mode": {
    "name": "ipython",
    "version": 3
   },
   "file_extension": ".py",
   "mimetype": "text/x-python",
   "name": "python",
   "nbconvert_exporter": "python",
   "pygments_lexer": "ipython3",
   "version": "3.10.12"
  }
 },
 "nbformat": 4,
 "nbformat_minor": 5
}
