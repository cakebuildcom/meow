{
 "cells": [
  {
   "cell_type": "code",
   "execution_count": null,
   "id": "26d3a940",
   "metadata": {},
   "outputs": [],
   "source": [
    "import os\n",
    "import cv2\n",
    "import matplotlib.pyplot as plt"
   ]
  },
  {
   "cell_type": "code",
   "execution_count": null,
   "id": "2c3bc8f4",
   "metadata": {},
   "outputs": [],
   "source": [
    "video1_path = \"/media/jakki/Seagate_Expansion_Drive/keparoi/2023/matsi_15042023/matsi_15042023_cut.mp4\"\n",
    "video2_path = \"/media/jakki/Seagate_Expansion_Drive/keparoi/2023/matsi_19092023/matsi_19092023.mp4\""
   ]
  },
  {
   "cell_type": "code",
   "execution_count": null,
   "id": "f0cf893c",
   "metadata": {},
   "outputs": [],
   "source": [
    "stream1 = cv2.VideoCapture(video1_path)\n",
    "stream2 = cv2.VideoCapture(video2_path)"
   ]
  },
  {
   "cell_type": "code",
   "execution_count": null,
   "id": "f8ba72e9",
   "metadata": {},
   "outputs": [],
   "source": [
    "print(stream1.get(cv2.CAP_PROP_FPS))\n",
    "print(stream2.get(cv2.CAP_PROP_FPS))"
   ]
  },
  {
   "cell_type": "code",
   "execution_count": null,
   "id": "0371da11",
   "metadata": {},
   "outputs": [],
   "source": [
    "stream1.set(cv2.CAP_PROP_POS_FRAMES, 0)\n",
    "\n",
    "for i in range(1):\n",
    "    ret, frame = stream1.read()\n",
    "    plt.title(i)\n",
    "    plt.imshow(frame)\n",
    "    plt.show()\n",
    "    cv2.imwrite('panorama.jpg', frame)"
   ]
  },
  {
   "cell_type": "code",
   "execution_count": null,
   "id": "9befd80c",
   "metadata": {},
   "outputs": [],
   "source": [
    "stream2.set(cv2.CAP_PROP_POS_FRAMES, 0)\n",
    "\n",
    "for i in range(1):\n",
    "    ret, frame = stream2.read()\n",
    "    frame = cv2.cvtColor(frame, cv2.COLOR_BGR2RGB)\n",
    "    plt.title(i)\n",
    "    plt.imshow(frame)\n",
    "    plt.show()"
   ]
  },
  {
   "cell_type": "code",
   "execution_count": null,
   "id": "4eb4baee",
   "metadata": {},
   "outputs": [],
   "source": []
  },
  {
   "cell_type": "code",
   "execution_count": null,
   "id": "078d54e1",
   "metadata": {},
   "outputs": [],
   "source": []
  }
 ],
 "metadata": {
  "language_info": {
   "name": "python"
  }
 },
 "nbformat": 4,
 "nbformat_minor": 5
}
