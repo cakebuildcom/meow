{
 "cells": [
  {
   "cell_type": "code",
   "execution_count": null,
   "id": "b1cb5987",
   "metadata": {},
   "outputs": [],
   "source": [
    "import numpy as np\n",
    "import os\n",
    "import librosa\n",
    "import matplotlib.pyplot as plt\n",
    "from scipy.io.wavfile import read\n",
    "from scipy import signal\n",
    "from scipy import fft\n",
    "import librosa.display\n",
    "import IPython.display as ipd"
   ]
  },
  {
   "cell_type": "code",
   "execution_count": null,
   "id": "d767c376",
   "metadata": {},
   "outputs": [],
   "source": [
    "ROOT_DIR = os.path.dirname(os.getcwd())\n",
    "DATA_FOLDER = os.path.join(ROOT_DIR, \"data\")"
   ]
  },
  {
   "cell_type": "code",
   "execution_count": null,
   "id": "1a693433",
   "metadata": {},
   "outputs": [],
   "source": [
    "audio_keparoicamL_path = os.path.join(DATA_FOLDER, \"keparoicam_clipL.wav\")\n",
    "audio_keparoicamR_path = os.path.join(DATA_FOLDER, \"keparoicam_clipR.wav\")\n",
    "whistle_path = os.path.join(DATA_FOLDER, \"whistle.wav\")"
   ]
  },
  {
   "cell_type": "code",
   "execution_count": null,
   "id": "551e6328",
   "metadata": {},
   "outputs": [],
   "source": [
    "target_left = audio_keparoicamL_path\n",
    "target_right = audio_keparoicamR_path"
   ]
  },
  {
   "cell_type": "code",
   "execution_count": null,
   "id": "e356fb1f",
   "metadata": {},
   "outputs": [],
   "source": [
    "def plot_audio(data, samplerate=44100):\n",
    "    plt.figure(figsize=(14, 5))\n",
    "    librosa.display.waveshow(data, sr=samplerate)\n",
    "    #plt.title(\"Audio\")\n",
    "    #plt.plot(data)\n",
    "    plt.show()"
   ]
  },
  {
   "cell_type": "code",
   "execution_count": null,
   "id": "3ec21678",
   "metadata": {},
   "outputs": [],
   "source": [
    "def stereo_to_mono(wav_array: np.ndarray):\n",
    "    mono_wav = wav_array.mean(axis=1)\n",
    "    return mono_wav\n",
    "\n",
    "\n",
    "def normalize_audio(wav_array: np.ndarray, bits=16.):\n",
    "    max_value = 2**bits\n",
    "    normalized_audio = (wav_array/max_value)*2\n",
    "    return normalized_audio\n",
    "\n",
    "def butter_lowpass_filter(data: np.ndarray, cutoff: float, samplerate: float, order: int = 5) -> np.ndarray:\n",
    "    nyq = 0.5 * samplerate\n",
    "    normal_cutoff = cutoff / nyq\n",
    "    b, a = signal.butter(order, normal_cutoff, btype='low', analog=False)\n",
    "    y = signal.filtfilt(b, a, data)\n",
    "    return y\n",
    "\n",
    "\n",
    "def butter_highpass_filter(data: np.ndarray, cutoff: float, samplerate: float, order: int = 5) -> np.ndarray:\n",
    "    nyq = 0.5 * samplerate\n",
    "    normal_cutoff = cutoff / nyq\n",
    "    b, a = signal.butter(order, normal_cutoff, btype='high', analog=False)\n",
    "    y = signal.filtfilt(b, a, data)\n",
    "    return y"
   ]
  },
  {
   "cell_type": "code",
   "execution_count": null,
   "id": "77e12771",
   "metadata": {},
   "outputs": [],
   "source": [
    "def filter_whistles(audio_file_path: str):\n",
    "    samplerate, audio = read(audio_file_path)\n",
    "    audio_data = butter_lowpass_filter(audio_data, 5000, samplerate)\n",
    "    audio_data = butter_highpass_filter(audio_data, 1000, samplerate)\n",
    "\n",
    "    return audio_data"
   ]
  },
  {
   "cell_type": "code",
   "execution_count": null,
   "id": "ee52a644",
   "metadata": {},
   "outputs": [],
   "source": [
    "def fft_conversion(data: np.ndarray, samplerate: float = 44100):\n",
    "    normalized_audio = normalize_audio(data)\n",
    "    fft_audio = fft.fft(normalized_audio) \n",
    "    return fft_audio"
   ]
  },
  {
   "cell_type": "code",
   "execution_count": null,
   "id": "d7a35913",
   "metadata": {},
   "outputs": [],
   "source": [
    "samplerate, audio = read(whistle_path)\n",
    "length = audio.shape[0] / samplerate\n",
    "time = np.linspace(0., length, audio.shape[0])\n",
    "audio = stereo_to_mono(audio)"
   ]
  },
  {
   "cell_type": "code",
   "execution_count": null,
   "id": "270d3825",
   "metadata": {},
   "outputs": [],
   "source": [
    "plot_audio(audio, samplerate)"
   ]
  },
  {
   "cell_type": "code",
   "execution_count": null,
   "id": "0e3a5527",
   "metadata": {},
   "outputs": [],
   "source": [
    "ipd.Audio(audio, rate=44100)"
   ]
  },
  {
   "cell_type": "code",
   "execution_count": null,
   "id": "be1f6e73",
   "metadata": {},
   "outputs": [],
   "source": [
    "audio_fft = fft_conversion(audio)"
   ]
  },
  {
   "cell_type": "code",
   "execution_count": null,
   "id": "58fadabb",
   "metadata": {},
   "outputs": [],
   "source": [
    "k = np.arange(len(audio_fft))\n",
    "T = len(audio_fft)/samplerate\n",
    "frequency_label = k/T"
   ]
  },
  {
   "cell_type": "code",
   "execution_count": null,
   "id": "40231034",
   "metadata": {},
   "outputs": [],
   "source": [
    "plt.figure(figsize=(16, 16))\n",
    "plt.plot(frequency_label, abs(audio_fft),'r')\n",
    "plt.show()"
   ]
  },
  {
   "cell_type": "code",
   "execution_count": null,
   "id": "e52a58d8",
   "metadata": {},
   "outputs": [],
   "source": [
    "xf = fft.fftfreq(audio_fft.size, 1/samplerate) \n",
    "\n",
    "# show transformed signal (frequencies domain)\n",
    "plt.figure(figsize=(32, 16))\n",
    "plt.plot(xf, abs(audio_fft)/np.linalg.norm(audio_fft))\n",
    "plt.xlabel(\"Frequency (Hz)\")\n",
    "plt.ylabel(\"Amplitude\")\n",
    "plt.xticks(np.arange(min(xf), max(xf)+1, 1000.0))\n",
    "plt.title(\"Frequency domain signal\")\n",
    "plt.show()"
   ]
  },
  {
   "cell_type": "code",
   "execution_count": null,
   "id": "5a676ef0",
   "metadata": {},
   "outputs": [],
   "source": [
    "np.arange(min(xf), max(xf)+1, 3000.0)"
   ]
  },
  {
   "cell_type": "code",
   "execution_count": null,
   "id": "e35fc69e",
   "metadata": {},
   "outputs": [],
   "source": [
    "threshold = 0.5\n",
    "filtered = np.copy(audio_fft)\n",
    "filtered[abs(audio_fft) < threshold] = 0\n",
    "\n",
    "# show filtered transformed signal\n",
    "plt.plot(xf,abs(filtered)/np.linalg.norm(filtered))\n",
    "plt.xlabel(\"Frequency (Hz)\")\n",
    "plt.ylabel(\"Amplitude\")\n",
    "plt.title(\"FILTERED time domain signal\")\n",
    "plt.show()"
   ]
  },
  {
   "cell_type": "code",
   "execution_count": null,
   "id": "0168c64e",
   "metadata": {},
   "outputs": [],
   "source": [
    "plt.figure(figsize=(16, 16))\n",
    "plt.plot(frequency_label, abs(filtered)/np.linalg.norm(filtered),'r')\n",
    "plt.show()"
   ]
  },
  {
   "cell_type": "code",
   "execution_count": null,
   "id": "9fb41e0f",
   "metadata": {},
   "outputs": [],
   "source": [
    "filtered = fft.ifft(filtered)\n",
    "    \n",
    "# show original signal filtered\n",
    "plt.plot(time, filtered)\n",
    "plt.xlabel(\"Time (s)\")\n",
    "plt.ylabel(\"Amplitude\")\n",
    "plt.title(\"Filtered signal\")\n",
    "plt.show()"
   ]
  },
  {
   "cell_type": "code",
   "execution_count": null,
   "id": "788c4e21",
   "metadata": {},
   "outputs": [],
   "source": [
    "ipd.Audio(filtered, rate=44100)"
   ]
  },
  {
   "cell_type": "code",
   "execution_count": null,
   "id": "d76e5b7d",
   "metadata": {},
   "outputs": [],
   "source": []
  }
 ],
 "metadata": {
  "kernelspec": {
   "display_name": "Python 3 (ipykernel)",
   "language": "python",
   "name": "python3"
  },
  "language_info": {
   "codemirror_mode": {
    "name": "ipython",
    "version": 3
   },
   "file_extension": ".py",
   "mimetype": "text/x-python",
   "name": "python",
   "nbconvert_exporter": "python",
   "pygments_lexer": "ipython3",
   "version": "3.10.12"
  }
 },
 "nbformat": 4,
 "nbformat_minor": 5
}
