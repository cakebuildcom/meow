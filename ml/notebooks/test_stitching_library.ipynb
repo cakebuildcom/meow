{
 "cells": [
  {
   "cell_type": "code",
   "execution_count": null,
   "id": "de10acee",
   "metadata": {},
   "outputs": [],
   "source": [
    "import os\n",
    "import stitching\n",
    "import cv2\n",
    "import matplotlib.pyplot as plt\n",
    "import numpy as np\n",
    "import stitching\n",
    "import time"
   ]
  },
  {
   "cell_type": "code",
   "execution_count": null,
   "id": "5a30a7b1",
   "metadata": {},
   "outputs": [],
   "source": [
    "ROOT_PATH = os.path.dirname(os.getcwd())\n",
    "DATA_PATH = os.path.join(ROOT_PATH, \"data\")"
   ]
  },
  {
   "cell_type": "code",
   "execution_count": null,
   "id": "f1b7cd9c",
   "metadata": {},
   "outputs": [],
   "source": [
    "#left_test_image_path = os.path.join(DATA_PATH, \"keparoi_left_frame_aligned.jpg\")\n",
    "#right_test_image_path = os.path.join(DATA_PATH, \"keparoi_right_frame_aligned.jpg\")\n",
    "\n",
    "left_test_image_path = \"/media/jakki/Seagate_Expansion_Drive/keparoi/2022/matsi_30082022/meow_tmp_matsi_30082022\"\n",
    "right_test_image_path = \"/media/jakki/Seagate_Expansion_Drive/keparoi/2022/matsi_30082022/meow_tmp_matsi_30082022\""
   ]
  },
  {
   "cell_type": "code",
   "execution_count": null,
   "id": "bb247dfd",
   "metadata": {},
   "outputs": [],
   "source": [
    "real_K = np.load(os.path.join(DATA_PATH, \"camera_matrix.npy\"))\n",
    "print(real_K)"
   ]
  },
  {
   "cell_type": "code",
   "execution_count": null,
   "id": "5356e045",
   "metadata": {},
   "outputs": [],
   "source": [
    "stitcher = stitching.Stitcher(blend_strength=20, try_use_gpu=True, warper_type=\"mercator\")\n",
    "panorama = stitcher.stitch([left_test_image_path, right_test_image_path])\n",
    "fix_colors = cv2.cvtColor(panorama, cv2.COLOR_BGR2RGB)"
   ]
  },
  {
   "cell_type": "code",
   "execution_count": null,
   "id": "bd77f299",
   "metadata": {},
   "outputs": [],
   "source": [
    "plt.figure(figsize=(32,32))\n",
    "plt.imshow(fix_colors)\n",
    "plt.show()"
   ]
  },
  {
   "cell_type": "code",
   "execution_count": null,
   "id": "7879fec3",
   "metadata": {},
   "outputs": [],
   "source": [
    "cv2.imwrite(os.path.join(DATA_PATH, \"stitching_library_mercator.jpg\"), panorama)"
   ]
  },
  {
   "cell_type": "markdown",
   "id": "9ccdcc88",
   "metadata": {},
   "source": [
    "## Test tutorial"
   ]
  },
  {
   "cell_type": "code",
   "execution_count": null,
   "id": "957f8f0f",
   "metadata": {},
   "outputs": [],
   "source": [
    "from matplotlib import pyplot as plt\n",
    "import cv2 as cv\n",
    "import numpy as np\n",
    "\n",
    "def plot_image(img, figsize_in_inches=(5,5)):\n",
    "    fig, ax = plt.subplots(figsize=figsize_in_inches)\n",
    "    ax.imshow(cv.cvtColor(img, cv.COLOR_BGR2RGB))\n",
    "    plt.show()\n",
    "    \n",
    "def plot_images(imgs, figsize_in_inches=(5,5)):\n",
    "    fig, axs = plt.subplots(1, len(imgs), figsize=figsize_in_inches)\n",
    "    for col, img in enumerate(imgs):\n",
    "        axs[col].imshow(cv.cvtColor(img, cv.COLOR_BGR2RGB))\n",
    "    plt.show()"
   ]
  },
  {
   "cell_type": "code",
   "execution_count": null,
   "id": "6c2e6879",
   "metadata": {},
   "outputs": [],
   "source": [
    "left_test_image_path = os.path.join(DATA_PATH, \"keparoi_left_frame_aligned.jpg\")\n",
    "right_test_image_path = os.path.join(DATA_PATH, \"keparoi_right_frame_aligned.jpg\")\n",
    "left_undistorted_test_image_path = os.path.join(DATA_PATH, \"left_image_undistorted.jpg\")\n",
    "right_undistorted_test_image_path = os.path.join(DATA_PATH, \"right_image_undistorted.jpg\")"
   ]
  },
  {
   "cell_type": "code",
   "execution_count": null,
   "id": "3eb7af73",
   "metadata": {},
   "outputs": [],
   "source": [
    "from stitching.images import Images\n",
    "\n",
    "#image_names = [left_test_image_path, right_test_image_path]\n",
    "image_names = [left_undistorted_test_image_path, right_undistorted_test_image_path]\n",
    "\n",
    "images = Images.of(image_names)\n",
    "\n",
    "medium_imgs = list(images.resize(Images.Resolution.MEDIUM))\n",
    "low_imgs = list(images.resize(Images.Resolution.LOW))\n",
    "final_imgs = list(images.resize(Images.Resolution.FINAL))"
   ]
  },
  {
   "cell_type": "code",
   "execution_count": null,
   "id": "1373e5c8",
   "metadata": {},
   "outputs": [],
   "source": [
    "plot_images(low_imgs, (20,20))"
   ]
  },
  {
   "cell_type": "code",
   "execution_count": null,
   "id": "c4f671c3",
   "metadata": {},
   "outputs": [],
   "source": [
    "original_size = images.sizes[0]\n",
    "medium_size = images.get_image_size(medium_imgs[0])\n",
    "low_size = images.get_image_size(low_imgs[0])\n",
    "final_size = images.get_image_size(final_imgs[0])\n",
    "\n",
    "print(f\"Original Size: {original_size}  -> {'{:,}'.format(np.prod(original_size))} px ~ 1 MP\")\n",
    "print(f\"Medium Size:   {medium_size}  -> {'{:,}'.format(np.prod(medium_size))} px ~ 0.6 MP\")\n",
    "print(f\"Low Size:      {low_size}   -> {'{:,}'.format(np.prod(low_size))} px ~ 0.1 MP\")\n",
    "print(f\"Final Size:    {final_size}  -> {'{:,}'.format(np.prod(final_size))} px ~ 1 MP\")"
   ]
  },
  {
   "cell_type": "code",
   "execution_count": null,
   "id": "687bd3bc",
   "metadata": {},
   "outputs": [],
   "source": [
    "from stitching.feature_detector import FeatureDetector\n",
    "\n",
    "finder = FeatureDetector()\n",
    "features = [finder.detect_features(img) for img in medium_imgs]\n",
    "keypoints_center_img = finder.draw_keypoints(medium_imgs[1], features[1])"
   ]
  },
  {
   "cell_type": "code",
   "execution_count": null,
   "id": "2cb399c6",
   "metadata": {},
   "outputs": [],
   "source": [
    "plot_image(keypoints_center_img, (15,10))"
   ]
  },
  {
   "cell_type": "code",
   "execution_count": null,
   "id": "15859c19",
   "metadata": {},
   "outputs": [],
   "source": [
    "from stitching.feature_matcher import FeatureMatcher\n",
    "\n",
    "matcher = FeatureMatcher()\n",
    "matches = matcher.match_features(features)"
   ]
  },
  {
   "cell_type": "code",
   "execution_count": null,
   "id": "64324992",
   "metadata": {},
   "outputs": [],
   "source": [
    "matcher.get_confidence_matrix(matches)"
   ]
  },
  {
   "cell_type": "code",
   "execution_count": null,
   "id": "bac3fa6e",
   "metadata": {},
   "outputs": [],
   "source": [
    "all_relevant_matches = matcher.draw_matches_matrix(medium_imgs, features, matches, conf_thresh=1, \n",
    "                                                   inliers=True, matchColor=(0, 255, 0))\n",
    "\n",
    "for idx1, idx2, img in all_relevant_matches:\n",
    "    print(f\"Matches Image {idx1+1} to Image {idx2+1}\")\n",
    "    plot_image(img, (20,10))"
   ]
  },
  {
   "cell_type": "code",
   "execution_count": null,
   "id": "724e3c47",
   "metadata": {},
   "outputs": [],
   "source": [
    "from stitching.subsetter import Subsetter\n",
    "\n",
    "subsetter = Subsetter()\n",
    "dot_notation = subsetter.get_matches_graph(images.names, matches)\n",
    "print(dot_notation)"
   ]
  },
  {
   "cell_type": "code",
   "execution_count": null,
   "id": "499a7a97",
   "metadata": {},
   "outputs": [],
   "source": [
    "indices = subsetter.get_indices_to_keep(features, matches)\n",
    "\n",
    "medium_imgs = subsetter.subset_list(medium_imgs, indices)\n",
    "low_imgs = subsetter.subset_list(low_imgs, indices)\n",
    "final_imgs = subsetter.subset_list(final_imgs, indices)\n",
    "features = subsetter.subset_list(features, indices)\n",
    "matches = subsetter.subset_matches(matches, indices)\n",
    "\n",
    "images.subset(indices)\n",
    "\n",
    "print(images.names)\n",
    "print(matcher.get_confidence_matrix(matches))"
   ]
  },
  {
   "cell_type": "code",
   "execution_count": null,
   "id": "209f9d07",
   "metadata": {},
   "outputs": [],
   "source": [
    "from stitching.camera_estimator import CameraEstimator\n",
    "from stitching.camera_adjuster import CameraAdjuster\n",
    "from stitching.camera_wave_corrector import WaveCorrector\n",
    "\n",
    "camera_estimator = CameraEstimator()\n",
    "camera_adjuster = CameraAdjuster()\n",
    "wave_corrector = WaveCorrector()\n",
    "\n",
    "cameras = camera_estimator.estimate(features, matches)\n",
    "cameras = camera_adjuster.adjust(features, matches, cameras)\n",
    "cameras = wave_corrector.correct(cameras)"
   ]
  },
  {
   "cell_type": "code",
   "execution_count": null,
   "id": "2d1c7f08",
   "metadata": {},
   "outputs": [],
   "source": [
    "from stitching.warper import Warper\n",
    "\n",
    "warper = Warper(warper_type=\"transverseMercator\")"
   ]
  },
  {
   "cell_type": "code",
   "execution_count": null,
   "id": "38ed0506",
   "metadata": {},
   "outputs": [],
   "source": [
    "warper.set_scale(cameras)"
   ]
  },
  {
   "cell_type": "code",
   "execution_count": null,
   "id": "fa8cc6bc",
   "metadata": {},
   "outputs": [],
   "source": [
    "low_sizes = images.get_scaled_img_sizes(Images.Resolution.LOW)\n",
    "camera_aspect = images.get_ratio(Images.Resolution.MEDIUM, Images.Resolution.LOW)  # since cameras were obtained on medium imgs\n",
    "\n",
    "warped_low_imgs = list(warper.warp_images(low_imgs, cameras, camera_aspect))\n",
    "warped_low_masks = list(warper.create_and_warp_masks(low_sizes, cameras, camera_aspect))\n",
    "low_corners, low_sizes = warper.warp_rois(low_sizes, cameras, camera_aspect)"
   ]
  },
  {
   "cell_type": "code",
   "execution_count": null,
   "id": "5abcb5c7",
   "metadata": {},
   "outputs": [],
   "source": [
    "final_sizes = images.get_scaled_img_sizes(Images.Resolution.FINAL)\n",
    "camera_aspect = images.get_ratio(Images.Resolution.MEDIUM, Images.Resolution.FINAL)\n",
    "\n",
    "warped_final_imgs = list(warper.warp_images(final_imgs, cameras, camera_aspect))\n",
    "warped_final_masks = list(warper.create_and_warp_masks(final_sizes, cameras, camera_aspect))\n",
    "final_corners, final_sizes = warper.warp_rois(final_sizes, cameras, camera_aspect)"
   ]
  },
  {
   "cell_type": "code",
   "execution_count": null,
   "id": "1d2a242c",
   "metadata": {},
   "outputs": [],
   "source": [
    "plot_images(warped_low_imgs, (10,10))\n",
    "plot_images(warped_low_masks, (10,10))"
   ]
  },
  {
   "cell_type": "code",
   "execution_count": null,
   "id": "58e8e78a",
   "metadata": {},
   "outputs": [],
   "source": [
    "print(final_corners)\n",
    "print(final_sizes)"
   ]
  },
  {
   "cell_type": "code",
   "execution_count": null,
   "id": "dfef43c6",
   "metadata": {},
   "outputs": [],
   "source": [
    "from stitching.timelapser import Timelapser\n",
    "\n",
    "timelapser = Timelapser('as_is')\n",
    "timelapser.initialize(final_corners, final_sizes)\n",
    "\n",
    "for img, corner in zip(warped_final_imgs, final_corners):\n",
    "    timelapser.process_frame(img, corner)\n",
    "    frame = timelapser.get_frame()\n",
    "    plot_image(frame, (10,10))"
   ]
  },
  {
   "cell_type": "code",
   "execution_count": null,
   "id": "c8a5bcd2",
   "metadata": {},
   "outputs": [],
   "source": [
    "from stitching.cropper import Cropper\n",
    "\n",
    "cropper = Cropper()"
   ]
  },
  {
   "cell_type": "code",
   "execution_count": null,
   "id": "e75fb264",
   "metadata": {},
   "outputs": [],
   "source": [
    "mask = cropper.estimate_panorama_mask(warped_low_imgs, warped_low_masks, low_corners, low_sizes)\n",
    "plot_image(mask, (5,5))"
   ]
  },
  {
   "cell_type": "code",
   "execution_count": null,
   "id": "61fbd52b",
   "metadata": {},
   "outputs": [],
   "source": [
    "lir = cropper.estimate_largest_interior_rectangle(mask)\n",
    "print(lir)"
   ]
  },
  {
   "cell_type": "code",
   "execution_count": null,
   "id": "c7c64dcb",
   "metadata": {},
   "outputs": [],
   "source": [
    "plot = lir.draw_on(mask, size=2)\n",
    "plot_image(plot, (5,5))"
   ]
  },
  {
   "cell_type": "code",
   "execution_count": null,
   "id": "8c9043a2",
   "metadata": {},
   "outputs": [],
   "source": [
    "low_corners = cropper.get_zero_center_corners(low_corners)\n",
    "rectangles = cropper.get_rectangles(low_corners, low_sizes)\n",
    "\n",
    "plot = rectangles[1].draw_on(plot, (0, 255, 0), 2)  # The rectangle of the center img\n",
    "plot_image(plot, (5,5))"
   ]
  },
  {
   "cell_type": "code",
   "execution_count": null,
   "id": "b9b5e5a7",
   "metadata": {},
   "outputs": [],
   "source": [
    "overlap = cropper.get_overlap(rectangles[1], lir)\n",
    "plot = overlap.draw_on(plot, (255, 0, 0), 2)\n",
    "plot_image(plot, (5,5))"
   ]
  },
  {
   "cell_type": "code",
   "execution_count": null,
   "id": "3f60fb31",
   "metadata": {},
   "outputs": [],
   "source": [
    "intersection = cropper.get_intersection(rectangles[1], overlap)\n",
    "plot = intersection.draw_on(warped_low_masks[1], (255, 0, 0), 2)\n",
    "plot_image(plot, (2.5,2.5))"
   ]
  },
  {
   "cell_type": "code",
   "execution_count": null,
   "id": "482453c2",
   "metadata": {},
   "outputs": [],
   "source": [
    "cropper.prepare(warped_low_imgs, warped_low_masks, low_corners, low_sizes)\n",
    "\n",
    "cropped_low_masks = list(cropper.crop_images(warped_low_masks))\n",
    "cropped_low_imgs = list(cropper.crop_images(warped_low_imgs))\n",
    "low_corners, low_sizes = cropper.crop_rois(low_corners, low_sizes)\n",
    "\n",
    "lir_aspect = images.get_ratio(Images.Resolution.LOW, Images.Resolution.FINAL)  # since lir was obtained on low imgs\n",
    "cropped_final_masks = list(cropper.crop_images(warped_final_masks, lir_aspect))\n",
    "cropped_final_imgs = list(cropper.crop_images(warped_final_imgs, lir_aspect))\n",
    "final_corners, final_sizes = cropper.crop_rois(final_corners, final_sizes, lir_aspect)"
   ]
  },
  {
   "cell_type": "code",
   "execution_count": null,
   "id": "4f5e6b78",
   "metadata": {},
   "outputs": [],
   "source": [
    "timelapser = Timelapser('as_is')\n",
    "timelapser.initialize(final_corners, final_sizes)\n",
    "\n",
    "for img, corner in zip(cropped_final_imgs, final_corners):\n",
    "    timelapser.process_frame(img, corner)\n",
    "    frame = timelapser.get_frame()\n",
    "    plot_image(frame, (10,10))"
   ]
  },
  {
   "cell_type": "code",
   "execution_count": null,
   "id": "c03253cf",
   "metadata": {},
   "outputs": [],
   "source": [
    "from stitching.seam_finder import SeamFinder\n",
    "\n",
    "seam_finder = SeamFinder()\n",
    "\n",
    "seam_masks = seam_finder.find(cropped_low_imgs, low_corners, cropped_low_masks)\n",
    "seam_masks = [seam_finder.resize(seam_mask, mask) for seam_mask, mask in zip(seam_masks, cropped_final_masks)]\n",
    "\n",
    "seam_masks_plots = [SeamFinder.draw_seam_mask(img, seam_mask) for img, seam_mask in zip(cropped_final_imgs, seam_masks)]\n",
    "plot_images(seam_masks_plots, (15,10))"
   ]
  },
  {
   "cell_type": "code",
   "execution_count": null,
   "id": "5a1ba21f",
   "metadata": {},
   "outputs": [],
   "source": [
    "from stitching.exposure_error_compensator import ExposureErrorCompensator\n",
    "\n",
    "compensator = ExposureErrorCompensator()\n",
    "\n",
    "compensator.feed(low_corners, cropped_low_imgs, cropped_low_masks)\n",
    "\n",
    "compensated_imgs = [compensator.apply(idx, corner, img, mask) \n",
    "                    for idx, (img, mask, corner) \n",
    "                    in enumerate(zip(cropped_final_imgs, cropped_final_masks, final_corners))]"
   ]
  },
  {
   "cell_type": "code",
   "execution_count": null,
   "id": "02688aa1",
   "metadata": {},
   "outputs": [],
   "source": [
    "from stitching.blender import Blender\n",
    "\n",
    "blender = Blender()\n",
    "blender.prepare(final_corners, final_sizes)\n",
    "for img, mask, corner in zip(compensated_imgs, seam_masks, final_corners):\n",
    "    blender.feed(img, mask, corner)\n",
    "panorama, _ = blender.blend()"
   ]
  },
  {
   "cell_type": "code",
   "execution_count": null,
   "id": "1f6f1c63",
   "metadata": {},
   "outputs": [],
   "source": [
    "plot_image(panorama, (20,20))"
   ]
  },
  {
   "cell_type": "code",
   "execution_count": null,
   "id": "a9dbbc5f",
   "metadata": {},
   "outputs": [],
   "source": [
    "blended_seam_masks = seam_finder.blend_seam_masks(seam_masks, final_corners, final_sizes)\n",
    "plot_image(blended_seam_masks, (5,5))"
   ]
  },
  {
   "cell_type": "code",
   "execution_count": null,
   "id": "9c9f1f3a",
   "metadata": {},
   "outputs": [],
   "source": [
    "plot_image(seam_finder.draw_seam_lines(panorama, blended_seam_masks, linesize=3), (15,10))\n",
    "plot_image(seam_finder.draw_seam_polygons(panorama, blended_seam_masks), (15,10))"
   ]
  },
  {
   "cell_type": "code",
   "execution_count": null,
   "id": "1bdc970c",
   "metadata": {},
   "outputs": [],
   "source": [
    "panorama.shape"
   ]
  },
  {
   "cell_type": "code",
   "execution_count": null,
   "id": "a46385eb",
   "metadata": {},
   "outputs": [],
   "source": [
    "plt.figure(figsize=(16, 16))\n",
    "plt.imshow(panorama)\n",
    "plt.show()"
   ]
  },
  {
   "cell_type": "code",
   "execution_count": null,
   "id": "c4560ca5",
   "metadata": {},
   "outputs": [],
   "source": [
    "h, w, d = panorama.shape\n",
    "print(h)\n",
    "print(w)\n",
    "print(d)\n",
    "\n",
    "final_height, final_width = 1626, 2890\n",
    "x, y = 1800, 0\n",
    "crop_img = panorama[y:y+final_height,x:final_width+x]\n",
    "plt.figure(figsize=(16,16))\n",
    "plt.imshow(crop_img)\n",
    "plt.show()"
   ]
  },
  {
   "cell_type": "code",
   "execution_count": null,
   "id": "55794cfa",
   "metadata": {},
   "outputs": [],
   "source": [
    "camera_matrix = np.load(os.path.join(DATA_PATH, 'camera_matrix.npy'))\n",
    "distortions = np.load(os.path.join(DATA_PATH, 'camera_distortion.npy'))\n",
    "undistorted_camera_matrix = np.load(os.path.join(DATA_PATH, 'undistorted_camera_matrix.npy'))\n",
    "\n",
    "h, w = crop_img.shape[0:2]\n",
    "undistorted_image = cv2.undistort(crop_img, camera_matrix, distortions, None, undistorted_camera_matrix)\n",
    "\n",
    "plt.imshow(undistorted_image)\n",
    "plt.show()"
   ]
  },
  {
   "cell_type": "code",
   "execution_count": null,
   "id": "0ba5a359",
   "metadata": {},
   "outputs": [],
   "source": []
  },
  {
   "cell_type": "code",
   "execution_count": null,
   "id": "198c142d",
   "metadata": {},
   "outputs": [],
   "source": []
  },
  {
   "cell_type": "code",
   "execution_count": null,
   "id": "5d919cf9",
   "metadata": {},
   "outputs": [],
   "source": []
  },
  {
   "cell_type": "code",
   "execution_count": null,
   "id": "2af1618c",
   "metadata": {},
   "outputs": [],
   "source": []
  }
 ],
 "metadata": {
  "language_info": {
   "name": "python"
  }
 },
 "nbformat": 4,
 "nbformat_minor": 5
}
