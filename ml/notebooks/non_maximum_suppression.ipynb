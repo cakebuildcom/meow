{
 "cells": [
  {
   "cell_type": "code",
   "execution_count": null,
   "id": "22571ad5",
   "metadata": {},
   "outputs": [],
   "source": [
    "import os\n",
    "import cv2\n",
    "import numpy as np\n",
    "import matplotlib.pyplot as plt\n",
    "import largestinteriorrectangle as lir"
   ]
  },
  {
   "cell_type": "code",
   "execution_count": null,
   "id": "3bd95732",
   "metadata": {},
   "outputs": [],
   "source": [
    "ROOT_DIR = os.path.dirname(os.getcwd())\n",
    "DATA_FOLDER = os.path.join(ROOT_DIR, \"data\")"
   ]
  },
  {
   "cell_type": "code",
   "execution_count": null,
   "id": "96a848e4",
   "metadata": {},
   "outputs": [],
   "source": [
    "def find_max_rectangle_lir(binary_mask, contour = None):\n",
    "    \"\"\"\n",
    "    Find maximum rectangle using LiR library.\n",
    "    \n",
    "    Args:\n",
    "        binary_mask: Binary mask (numpy array of 0s and 1s)\n",
    "    Returns:\n",
    "        tuple: (x, y, width, height) of maximum rectangle\n",
    "    \"\"\"\n",
    "    # Find maximum interior rectangle using LiR\n",
    "    rect = lir.lir(binary_mask, contour)\n",
    "    return rect\n",
    "\n",
    "def visualize_max_rectangle(image, rect, color=(0, 255, 0), thickness=10):\n",
    "    \"\"\"\n",
    "    Draw rectangle on image for visualization.\n",
    "    \n",
    "    Args:\n",
    "        image: Input image\n",
    "        rect: Rectangle tuple (x, y, w, h)\n",
    "        color: BGR color tuple\n",
    "        thickness: Line thickness\n",
    "    Returns:\n",
    "        Image with rectangle drawn\n",
    "    \"\"\"\n",
    "    result = image.copy()\n",
    "    \n",
    "    cv2.rectangle(result, lir.pt1(rect), lir.pt2(rect), color, thickness)\n",
    "    return result"
   ]
  },
  {
   "cell_type": "code",
   "execution_count": null,
   "id": "0fad2ef7",
   "metadata": {},
   "outputs": [],
   "source": [
    "def find_panorama_lir(panorama):\n",
    "    # Convert to grayscale if needed\n",
    "    if len(panorama.shape) == 3:\n",
    "        gray = cv2.cvtColor(panorama, cv2.COLOR_BGR2GRAY)\n",
    "    else:\n",
    "        gray = panorama.copy()\n",
    "    \n",
    "    # Create mask for content detection\n",
    "    mask = np.zeros(gray.shape, dtype=np.uint8)\n",
    "\n",
    "    # Analyze image in blocks\n",
    "    block_size = 16\n",
    "    for y in range(0, gray.shape[0], block_size):\n",
    "        for x in range(0, gray.shape[1], block_size):\n",
    "            # Define block region\n",
    "            block_height = min(block_size, gray.shape[0] - y)\n",
    "            block_width = min(block_size, gray.shape[1] - x)\n",
    "            roi = gray[y:y+block_height, x:x+block_width]\n",
    "\n",
    "            # Calculate local statistics\n",
    "            block_mean, block_std = cv2.meanStdDev(roi)\n",
    "            \n",
    "            # Check if block contains content\n",
    "            if (block_std[0] == 0):\n",
    "                mask[y:y+block_height, x:x+block_width] = 255\n",
    "\n",
    "    # Clean up mask with morphological operations\n",
    "    kernel = cv2.getStructuringElement(cv2.MORPH_RECT, (5, 5))\n",
    "    mask = cv2.morphologyEx(mask, cv2.MORPH_CLOSE, kernel)\n",
    "    mask = cv2.morphologyEx(mask, cv2.MORPH_OPEN, kernel)\n",
    "    \n",
    "    mask = cv2.bitwise_not(mask)\n",
    "    mask_lir = mask > 0.5\n",
    "\n",
    "    contours, _ = cv2.findContours(mask, cv2.RETR_EXTERNAL, cv2.CHAIN_APPROX_SIMPLE)\n",
    "    \n",
    "    contour = contours[0][:, 0, :]\n",
    "    \n",
    "    largest_rec = find_max_rectangle_lir(mask_lir, contour)\n",
    "\n",
    "    return largest_rec"
   ]
  },
  {
   "cell_type": "code",
   "execution_count": null,
   "id": "fcedaa15",
   "metadata": {},
   "outputs": [],
   "source": [
    "def crop_panorama(panorama, largest_rect, padding=0, content_threshold=0.05):\n",
    "    \"\"\"\n",
    "    Automatically crop panorama to content area with padding.\n",
    "\n",
    "    Args:\n",
    "        panorama: Input image\n",
    "        padding: Number of pixels to pad around content\n",
    "        content_threshold: Threshold for content detection\n",
    "\n",
    "    Returns:\n",
    "        Cropped panorama image\n",
    "    \"\"\"\n",
    "    \n",
    "    x, y, w, h = largest_rect    \n",
    "    mask = np.zeros(panorama.shape, np.uint8)\n",
    "    mask[y:y+h,x:x+w] = panorama[y:y+h,x:x+w]\n",
    "    return panorama[y:y+h, x:x+w]"
   ]
  },
  {
   "cell_type": "code",
   "execution_count": null,
   "id": "8da34a93",
   "metadata": {},
   "outputs": [],
   "source": [
    "def process_panorama(panorama):\n",
    "    largest_rec = find_panorama_lir(\n",
    "        panorama,\n",
    "    )\n",
    "    final = crop_panorama(panorama, largest_rec)\n",
    "    return final"
   ]
  },
  {
   "cell_type": "code",
   "execution_count": null,
   "id": "30628cd2",
   "metadata": {},
   "outputs": [],
   "source": [
    "def correct_distortion(image, k1=, k2=0):\n",
    "    \"\"\"\n",
    "    Correct lens distortion using radial distortion parameters.\n",
    "    k1, k2: radial distortion coefficients\n",
    "    \"\"\"\n",
    "    height, width = image.shape[:2]\n",
    "    camera_matrix = np.array([[width, 0, width/2],\n",
    "                            [0, width, height/2],\n",
    "                            [0, 0, 1]], dtype=np.float32)\n",
    "    dist_coeffs = np.array([k1, k2, 0, 0], dtype=np.float32)\n",
    "    \n",
    "    # Get optimal new camera matrix\n",
    "    newcameramtx, roi = cv2.getOptimalNewCameraMatrix(\n",
    "        camera_matrix, dist_coeffs, (width, height), 1, (width, height))\n",
    "    \n",
    "    # Undistort the image\n",
    "    dst = cv2.undistort(image, camera_matrix, dist_coeffs, None, newcameramtx)\n",
    "    \n",
    "    return dst"
   ]
  },
  {
   "cell_type": "code",
   "execution_count": null,
   "id": "48e17e2d",
   "metadata": {},
   "outputs": [],
   "source": [
    "image_path = os.path.join(DATA_FOLDER, \"distortion.png\")\n",
    "panorama = cv2.imread(image_path)\n",
    "result = process_panorama(panorama)"
   ]
  },
  {
   "cell_type": "code",
   "execution_count": null,
   "id": "28a1b479",
   "metadata": {},
   "outputs": [],
   "source": [
    "plt.imshow(panorama)"
   ]
  },
  {
   "cell_type": "code",
   "execution_count": null,
   "id": "68e2d784",
   "metadata": {},
   "outputs": [],
   "source": [
    "plt.figure(figsize = (20,20))\n",
    "plt.imshow(result)\n",
    "print(result.shape)"
   ]
  },
  {
   "cell_type": "code",
   "execution_count": null,
   "id": "0ba53878",
   "metadata": {},
   "outputs": [],
   "source": [
    "undistorted_pano = correct_distortion(panorama)\n",
    "plt.imshow(undistorted_pano)\n",
    "undist_result = process_panorama(undistorted_pano)"
   ]
  },
  {
   "cell_type": "code",
   "execution_count": null,
   "id": "39715565",
   "metadata": {},
   "outputs": [],
   "source": [
    "plt.figure(figsize = (20,20))\n",
    "plt.imshow(undist_result)\n",
    "print(result.shape)"
   ]
  },
  {
   "cell_type": "code",
   "execution_count": null,
   "id": "461daf0c",
   "metadata": {},
   "outputs": [],
   "source": [
    "for i in np.arange(-1, 1, 0.2):\n",
    "    for j in np.arange(-1, 1, 0.2):\n",
    "        undistorted_pano = correct_distortion(panorama, k1=i, k2=j)\n",
    "        plt.imshow(undistorted_pano)\n",
    "        plt.show()"
   ]
  },
  {
   "cell_type": "code",
   "execution_count": null,
   "id": "f0ee8eb7",
   "metadata": {},
   "outputs": [],
   "source": []
  }
 ],
 "metadata": {
  "language_info": {
   "name": "python"
  }
 },
 "nbformat": 4,
 "nbformat_minor": 5
}
