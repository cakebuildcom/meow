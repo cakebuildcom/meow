{
 "cells": [
  {
   "cell_type": "code",
   "execution_count": null,
   "id": "ec35d6d5",
   "metadata": {},
   "outputs": [],
   "source": [
    "import os\n",
    "import numpy as np\n",
    "import cv2\n",
    "import matplotlib.pyplot as plt\n",
    "import imutils"
   ]
  },
  {
   "cell_type": "code",
   "execution_count": null,
   "id": "beae8165",
   "metadata": {},
   "outputs": [],
   "source": [
    "ROOT_DIR = os.path.dirname(os.getcwd())\n",
    "DATA_FOLDER = os.path.join(ROOT_DIR, \"data\")"
   ]
  },
  {
   "cell_type": "code",
   "execution_count": null,
   "id": "aebdb500",
   "metadata": {},
   "outputs": [],
   "source": [
    "image_path = os.path.join(DATA_FOLDER, 'keparoi_left_frame.jpg')\n",
    "right_image_path = os.path.join(DATA_FOLDER, 'keparoi_right_frame.jpg')"
   ]
  },
  {
   "cell_type": "code",
   "execution_count": null,
   "id": "3f7c9a1c",
   "metadata": {},
   "outputs": [],
   "source": [
    "image = cv2.imread(image_path)\n",
    "right_image = cv2.imread(right_image_path)"
   ]
  },
  {
   "cell_type": "code",
   "execution_count": null,
   "id": "d4a446e4",
   "metadata": {},
   "outputs": [],
   "source": [
    "plt.imshow(image)"
   ]
  },
  {
   "cell_type": "code",
   "execution_count": null,
   "id": "544984a4",
   "metadata": {},
   "outputs": [],
   "source": [
    "camera_matrix = np.load(os.path.join(DATA_FOLDER, 'camera_matrix.npy'))\n",
    "distortions = np.load(os.path.join(DATA_FOLDER, 'camera_distortion.npy'))\n",
    "undistorted_camera_matrix = np.load(os.path.join(DATA_FOLDER, 'undistorted_camera_matrix.npy'))"
   ]
  },
  {
   "cell_type": "code",
   "execution_count": null,
   "id": "a562ff84",
   "metadata": {},
   "outputs": [],
   "source": [
    "camera_matrix"
   ]
  },
  {
   "cell_type": "code",
   "execution_count": null,
   "id": "4ce79186",
   "metadata": {},
   "outputs": [],
   "source": [
    "distortions"
   ]
  },
  {
   "cell_type": "code",
   "execution_count": null,
   "id": "f5ab183d",
   "metadata": {},
   "outputs": [],
   "source": [
    "undistorted_camera_matrix"
   ]
  },
  {
   "cell_type": "code",
   "execution_count": null,
   "id": "5ec77845",
   "metadata": {},
   "outputs": [],
   "source": [
    "h, w = image.shape[0:2]\n",
    "\n",
    "new_camera_matrix, roi = cv2.getOptimalNewCameraMatrix(camera_matrix, distortions, (w,h), 1, (w,h))\n",
    "undistorted_image = cv2.undistort(image, camera_matrix, distortions, None, new_camera_matrix)"
   ]
  },
  {
   "cell_type": "code",
   "execution_count": null,
   "id": "2f8fa8c2",
   "metadata": {},
   "outputs": [],
   "source": [
    "plt.imshow(undistorted_image)"
   ]
  },
  {
   "cell_type": "code",
   "execution_count": null,
   "id": "d01196bd",
   "metadata": {},
   "outputs": [],
   "source": [
    "mapx, mapy = cv2.initUndistortRectifyMap(camera_matrix, distortions, None, new_camera_matrix, (w,h), 5)\n",
    "undistorted_image = cv2.remap(image, mapx, mapy, cv2.INTER_LINEAR)\n",
    "x, y, w, h = roi\n",
    "undistorted_image = undistorted_image[y:y+h, x:x+w]\n",
    "plt.imshow(undistorted_image)"
   ]
  },
  {
   "cell_type": "code",
   "execution_count": null,
   "id": "cd92e908",
   "metadata": {},
   "outputs": [],
   "source": [
    "def unwrap(imgIn, Cb, offset):\n",
    "\n",
    "    img = imgIn\n",
    "\n",
    "    #MAPPING\n",
    "    def buildMap(Wd, Hd, R, Cx, Cy):\n",
    "        map_x = np.zeros((Hd, Wd), np.float32)\n",
    "        map_y = np.zeros((Hd, Wd), np.float32)\n",
    "        for y in range(0, int(Hd - 1)):\n",
    "            for x in range(0, int(Wd - 1)):\n",
    "                r = (float(y) / float(Hd)) * R\n",
    "                theta = (float(x-offset) / float(Wd)) * 2.0 * np.pi\n",
    "                xS = Cx + r * np.sin(theta)\n",
    "                yS = Cy + r * np.cos(theta)\n",
    "                map_x.itemset((y, x), int(xS))\n",
    "                map_y.itemset((y, x), int(yS))\n",
    "\n",
    "        return map_x, map_y\n",
    "\n",
    "    #UNWARP\n",
    "    def unwarp(img, xmap, ymap):\n",
    "        output = cv2.remap(img, xmap, ymap, cv2.INTER_LINEAR)\n",
    "        return output\n",
    "\n",
    "    #IMAGE CENTER\n",
    "    Cx = img.shape[0]/2\n",
    "    Cy = img.shape[1]/2\n",
    "\n",
    "    #RADIUS OUTER\n",
    "    R = Cb - Cx\n",
    "\n",
    "    #DESTINATION IMAGE SIZE\n",
    "    Wd = int(abs(2.0 * (R / 2) * np.pi))\n",
    "    Hd = int(abs(R))\n",
    "\n",
    "    #BUILD MAP\n",
    "    xmap, ymap = buildMap(Wd, Hd, R, Cx, Cy)\n",
    "\n",
    "    #UNWARP\n",
    "    result = unwarp(img, xmap, ymap)\n",
    "\n",
    "    return result"
   ]
  },
  {
   "cell_type": "code",
   "execution_count": null,
   "id": "58155e48",
   "metadata": {},
   "outputs": [],
   "source": [
    "unwarped = unwrap(image, 0, 0)"
   ]
  },
  {
   "cell_type": "code",
   "execution_count": null,
   "id": "7efc1f80",
   "metadata": {},
   "outputs": [],
   "source": [
    "def cylindricalWarp(img, K):\n",
    "    \"\"\"This function returns the cylindrical warp for a given image and intrinsics matrix K\"\"\"\n",
    "    h_,w_ = img.shape[:2]\n",
    "    # pixel coordinates\n",
    "    y_i, x_i = np.indices((h_,w_))\n",
    "    X = np.stack([x_i,y_i,np.ones_like(x_i)],axis=-1).reshape(h_*w_,3) # to homog\n",
    "    Kinv = np.linalg.inv(K) \n",
    "    X = Kinv.dot(X.T).T # normalized coords\n",
    "    # calculate cylindrical coords (sin\\theta, h, cos\\theta)\n",
    "    A = np.stack([np.sin(X[:,0]),X[:,1],np.cos(X[:,0])],axis=-1).reshape(w_*h_,3)\n",
    "    B = K.dot(A.T).T # project back to image-pixels plane\n",
    "    # back from homog coords\n",
    "    B = B[:,:-1] / B[:,[-1]]\n",
    "    # make sure warp coords only within image bounds\n",
    "    B[(B[:,0] < 0) | (B[:,0] >= w_) | (B[:,1] < 0) | (B[:,1] >= h_)] = -1\n",
    "    B = B.reshape(h_,w_,-1)\n",
    "    \n",
    "    img_rgba = cv2.cvtColor(img,cv2.COLOR_BGR2BGRA) # for transparent borders...\n",
    "    # warp the image according to cylindrical coords\n",
    "    return cv2.remap(img_rgba, B[:,:,0].astype(np.float32), B[:,:,1].astype(np.float32), cv2.INTER_AREA, borderMode=cv2.BORDER_TRANSPARENT)"
   ]
  },
  {
   "cell_type": "code",
   "execution_count": null,
   "id": "d34ba119",
   "metadata": {},
   "outputs": [],
   "source": [
    "img_cyl = cylindricalWarp(image, camera_matrix)\n",
    "plt.imshow(img_cyl)"
   ]
  },
  {
   "cell_type": "code",
   "execution_count": null,
   "id": "2e45bcca",
   "metadata": {},
   "outputs": [],
   "source": [
    "img_cyl_left = cylindricalWarp(image, camera_matrix)\n",
    "img_cyl_right = cylindricalWarp(right_image, camera_matrix)\n",
    "\n",
    "fig, axs = plt.subplots(1, 2, figsize=(12, 12))\n",
    "axs = axs.flatten()\n",
    "for img, ax in zip([img_cyl_left, img_cyl_right], axs):\n",
    "    ax.imshow(img)\n",
    "    ax.axis('off')\n",
    "fig.tight_layout()\n",
    "plt.show()"
   ]
  },
  {
   "cell_type": "code",
   "execution_count": null,
   "id": "57e4b515",
   "metadata": {},
   "outputs": [],
   "source": [
    "img_cyl_left = img_cyl_left[:,:,:3]\n",
    "img_cyl_right = imutils.rotate(img_cyl_right[:,:,:3], -20)"
   ]
  },
  {
   "cell_type": "code",
   "execution_count": null,
   "id": "e12a7f1b",
   "metadata": {},
   "outputs": [],
   "source": [
    "plt.imshow(img_cyl_right)"
   ]
  },
  {
   "cell_type": "code",
   "execution_count": null,
   "id": "92d7712d",
   "metadata": {},
   "outputs": [],
   "source": [
    "img_cyl_left.shape"
   ]
  },
  {
   "cell_type": "code",
   "execution_count": null,
   "id": "ea36c44f",
   "metadata": {},
   "outputs": [],
   "source": [
    "stitcher = cv2.Stitcher_create(cv2.Stitcher_PANORAMA)\n",
    "(status, stitched) = stitcher.stitch(images=[img_cyl_left, img_cyl_right])"
   ]
  },
  {
   "cell_type": "code",
   "execution_count": null,
   "id": "a8b9f2cd",
   "metadata": {},
   "outputs": [],
   "source": [
    "print(status)"
   ]
  },
  {
   "cell_type": "code",
   "execution_count": null,
   "id": "980e0cdc",
   "metadata": {},
   "outputs": [],
   "source": [
    "plt.imshow(stitched)\n",
    "plt.show()"
   ]
  },
  {
   "cell_type": "code",
   "execution_count": null,
   "id": "2f2e53aa",
   "metadata": {},
   "outputs": [],
   "source": []
  }
 ],
 "metadata": {
  "kernelspec": {
   "display_name": "meow",
   "language": "python",
   "name": "meow"
  },
  "language_info": {
   "codemirror_mode": {
    "name": "ipython",
    "version": 3
   },
   "file_extension": ".py",
   "mimetype": "text/x-python",
   "name": "python",
   "nbconvert_exporter": "python",
   "pygments_lexer": "ipython3",
   "version": "3.10.12"
  }
 },
 "nbformat": 4,
 "nbformat_minor": 5
}
