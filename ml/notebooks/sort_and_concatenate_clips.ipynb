{
 "cells": [
  {
   "cell_type": "code",
   "execution_count": null,
   "id": "1bf6b457",
   "metadata": {},
   "outputs": [],
   "source": [
    "import os\n",
    "import glob\n",
    "import cv2\n",
    "import numpy as np\n",
    "import matplotlib.pyplot as plt\n",
    "from moviepy.editor import VideoFileClip, concatenate_videoclips\n",
    "from typing import Dict, Union\n",
    "import ast\n",
    "import operator as op\n",
    "import ffmpeg"
   ]
  },
  {
   "cell_type": "code",
   "execution_count": null,
   "id": "2ea56d41",
   "metadata": {},
   "outputs": [],
   "source": [
    "ROOT_DIR = os.path.dirname(os.getcwd())\n",
    "DATA_FOLDER = os.path.join(ROOT_DIR, \"data\")\n",
    "QUMRAN_FOLDER = \"/media/jakki/Qumran/Videos/meow_tmp/example_matsi/left\""
   ]
  },
  {
   "cell_type": "code",
   "execution_count": null,
   "id": "dd6bee66",
   "metadata": {},
   "outputs": [],
   "source": [
    "#files = glob.glob(f'{os.path.join(DATA_FOLDER, \"example_videos_left\")}/*.mp4')\n",
    "files = sorted(glob.glob(f'{QUMRAN_FOLDER}/*.MP4'))"
   ]
  },
  {
   "cell_type": "code",
   "execution_count": null,
   "id": "e425f209",
   "metadata": {},
   "outputs": [],
   "source": [
    "files"
   ]
  },
  {
   "cell_type": "code",
   "execution_count": null,
   "id": "8db0bd28",
   "metadata": {},
   "outputs": [],
   "source": [
    "float(ffmpeg.probe(files[0])[\"format\"][\"duration\"])"
   ]
  },
  {
   "cell_type": "code",
   "execution_count": null,
   "id": "5a11fd33",
   "metadata": {},
   "outputs": [],
   "source": [
    "def frame_similarity(frame1, frame2):\n",
    "    \n",
    "    gray1 = cv2.cvtColor(frame1, cv2.COLOR_BGR2GRAY)\n",
    "    gray2 = cv2.cvtColor(frame2, cv2.COLOR_BGR2GRAY)\n",
    "\n",
    "    frame_height = gray1.shape[0]\n",
    "    frame_width = gray1.shape[1]\n",
    "    \n",
    "    n_pixels = frame_height * frame_width\n",
    "\n",
    "    diff_frame = cv2.absdiff(frame1, frame2)\n",
    "    \n",
    "    thresh_frame = cv2.threshold(src=diff_frame, thresh=50, maxval=255, type=cv2.THRESH_BINARY)[1]\n",
    "    \n",
    "    difference = np.sum(thresh_frame)\n",
    "    difference_per_pixel = difference / n_pixels\n",
    "    print(difference)\n",
    "    print(f\"Difference in %: {difference_per_pixel}\")\n",
    "    \n",
    "    return difference_per_pixel"
   ]
  },
  {
   "cell_type": "code",
   "execution_count": null,
   "id": "00258940",
   "metadata": {},
   "outputs": [],
   "source": [
    "allowed_operators = {ast.Add: op.add, ast.Sub: op.sub, ast.Mult: op.mul,\n",
    "                     ast.Div: op.truediv, ast.Pow: op.pow, ast.BitXor: op.xor,\n",
    "                     ast.USub: op.neg}\n",
    "\n",
    "def eval_expr(expr):\n",
    "    \"\"\"\n",
    "    >>> eval_expr('2^6')\n",
    "    4\n",
    "    >>> eval_expr('2**6')\n",
    "    64\n",
    "    >>> eval_expr('1 + 2*3**(4^5) / (6 + -7)')\n",
    "    -5.0\n",
    "    \"\"\"\n",
    "    return eval_(ast.parse(expr, mode='eval').body)\n",
    "\n",
    "def eval_(node):\n",
    "    if isinstance(node, ast.Num):  # <number>\n",
    "        return node.n\n",
    "    elif isinstance(node, ast.BinOp):  # <left> <operator> <right>\n",
    "        return allowed_operators[type(node.op)](eval_(node.left), eval_(node.right))\n",
    "    elif isinstance(node, ast.UnaryOp):  # <operator> <operand> e.g., -1\n",
    "        return allowed_operators[type(node.op)](eval_(node.operand))\n",
    "    else:\n",
    "        raise TypeError(node)\n",
    "\n",
    "def get_video_info(video_path) -> Dict[str, Union[int, float, str]]:\n",
    "    probe = ffmpeg.probe(video_path)\n",
    "    file_path = str(probe['format']['filename'])\n",
    "    video_stream = next((stream for stream in probe['streams'] if stream['codec_type'] == 'video'), None)\n",
    "    width = int(video_stream['width'])\n",
    "    height = int(video_stream['height'])\n",
    "    duration = float(probe['format']['duration'])\n",
    "    frame_rate = round(eval_expr(video_stream['avg_frame_rate']))\n",
    "    # Frame rate removed in notebook because cannot import relative local utils\n",
    "    \n",
    "    return {\n",
    "        \"file_path\" : file_path,\n",
    "        \"frame_height\": height,\n",
    "        \"frame_width\": width,\n",
    "        \"frame_rate\": frame_rate,\n",
    "        \"duration\": duration\n",
    "    }"
   ]
  },
  {
   "cell_type": "code",
   "execution_count": null,
   "id": "0dbc45de",
   "metadata": {},
   "outputs": [],
   "source": [
    "def get_last_frame(capture, duration):\n",
    "    # Dirty hack to get to last 3 seconds to avoid reading to whole video file\n",
    "    capture.set(cv2.CAP_PROP_POS_MSEC,(duration-3)*1000)\n",
    "    last_frame = None\n",
    "    while True:\n",
    "        ret, tmp_frame = capture.read()\n",
    "        if not ret:\n",
    "            break\n",
    "        last_frame = tmp_frame\n",
    "        \n",
    "    success = last_frame is not None\n",
    "    return success, last_frame"
   ]
  },
  {
   "cell_type": "code",
   "execution_count": null,
   "id": "04062ccc",
   "metadata": {},
   "outputs": [],
   "source": [
    "frames = {}\n",
    "\n",
    "for file_path in files:\n",
    "    \n",
    "    video_info = get_video_info(file_path)\n",
    "    duration = video_info['duration']\n",
    "    print(duration)\n",
    "    \n",
    "    capture = cv2.VideoCapture(file_path)\n",
    "    \n",
    "    # Read first frame\n",
    "    capture.set(cv2.CAP_PROP_POS_FRAMES, 0)\n",
    "    ret_first, first_frame = capture.read()\n",
    "\n",
    "    # Read last frame\n",
    "    ret_last, last_frame = get_last_frame(capture, duration)\n",
    "    \n",
    "    if ret_first is False or ret_last is False:\n",
    "        print(f\"Failed to read frame from video {file_path}, first frame: {ret_first}, last frame: {ret_last}\")\n",
    "    \n",
    "    frames[file_path] = {\n",
    "        'first_frame': first_frame,\n",
    "        'last_frame': last_frame\n",
    "    }\n",
    "    \n",
    "    capture.release()"
   ]
  },
  {
   "cell_type": "code",
   "execution_count": null,
   "id": "c4c67295",
   "metadata": {},
   "outputs": [],
   "source": [
    "for key, values in frames.items():\n",
    "    plt.imshow(values['first_frame'])\n",
    "    plt.show()\n",
    "    plt.imshow(values['last_frame'])\n",
    "    plt.show()"
   ]
  },
  {
   "cell_type": "code",
   "execution_count": null,
   "id": "ea30e225",
   "metadata": {},
   "outputs": [],
   "source": [
    "# Compare frames\n",
    "n_files = len(frames)\n",
    "similarity_matrix = {}\n",
    "\n",
    "for i, pair1 in enumerate(frames.items()):\n",
    "    for j, pair2 in enumerate(frames.items()):\n",
    "        if i < j:\n",
    "            key1, values1 = pair1\n",
    "            key2, values2 = pair2\n",
    "                                    \n",
    "            first_vs_last = frame_similarity(values1['first_frame'], values2['last_frame'])      \n",
    "            last_vs_first = frame_similarity(values1['last_frame'], values2['first_frame'])\n",
    "            \n",
    "            similarity_matrix[(key1, key2)] = [first_vs_last, last_vs_first]\n",
    "\n",
    "print(similarity_matrix)"
   ]
  },
  {
   "cell_type": "code",
   "execution_count": null,
   "id": "fdadf87a",
   "metadata": {},
   "outputs": [],
   "source": [
    "similarity_values = sorted([item for value in similarity_matrix.values() for item in value])\n",
    "print(similarity_values)"
   ]
  },
  {
   "cell_type": "code",
   "execution_count": null,
   "id": "9fb464b9",
   "metadata": {},
   "outputs": [],
   "source": [
    "plt.figure(figsize=(16, 16))\n",
    "plt.hist(similarity_values, bins=400)\n",
    "plt.show()"
   ]
  },
  {
   "cell_type": "code",
   "execution_count": null,
   "id": "05dc0f49",
   "metadata": {},
   "outputs": [],
   "source": [
    "print(len([value for value in similarity_values if value < 5]))"
   ]
  },
  {
   "cell_type": "code",
   "execution_count": null,
   "id": "64f67d0a",
   "metadata": {},
   "outputs": [],
   "source": [
    "def add_edge(mapping, node1, node2):\n",
    "    if node1 in mapping:\n",
    "        mapping[node1].append(node2)\n",
    "    else:\n",
    "        mapping[node1] = [node2]\n",
    "        \n",
    "def find_linking(mapping):\n",
    "    \n",
    "    valid_linking = check_linking_valid(mapping)\n",
    "    if valid_linking is False:\n",
    "        print(\"Cannot find linked list\")\n",
    "        return None\n",
    "    \n",
    "    childs = [value[0] for value in mapping.values()]\n",
    "    keys = list(mapping.keys())\n",
    "    \n",
    "    root_node = list(set(keys) - set(childs))[0]\n",
    "    order = [root_node]\n",
    "    \n",
    "    next_node = None\n",
    "    last_node = root_node\n",
    "    for _ in range(len(mapping)):\n",
    "        next_node = mapping[last_node][0]\n",
    "        order.append(next_node)\n",
    "        last_node = next_node\n",
    "        \n",
    "    return order\n",
    "        \n",
    "def check_linking_valid(mapping):\n",
    "    \"\"\"We want to check that\n",
    "        a) there is only one root node\n",
    "        b) the chain is not broken eg. each node links to another node\n",
    "        c) there is only one child node that doesn't exists in keys\n",
    "        d) each node has exactly one parent except root node and each node has exactly one child\n",
    "    \"\"\"\n",
    "    \n",
    "    childs = [value[0] for value in mapping.values()]\n",
    "    keys = list(mapping.keys())\n",
    "        \n",
    "    # a)\n",
    "    \n",
    "    root_nodes = list(set(keys) - set(childs))\n",
    "    if len(root_nodes) != 1:\n",
    "        return False\n",
    "    \n",
    "    # b)\n",
    "    \n",
    "    visited_nodes = []\n",
    "    last_node = root_nodes[0]\n",
    "    next_node = None\n",
    "    for _ in range(len(mapping)):\n",
    "        next_nodes = mapping[last_node]\n",
    "        assert len(next_nodes) == 1\n",
    "        next_node = next_nodes[0]\n",
    "        visited_nodes.append(next_node)\n",
    "        last_node = next_node\n",
    "        visited_nodes\n",
    "        \n",
    "    if len(visited_nodes) != len(mapping):\n",
    "        return False\n",
    "    \n",
    "    # c)\n",
    "    \n",
    "    leafs = list(set(childs) - set(keys))\n",
    "    if len(leafs) != 1:\n",
    "        return False\n",
    "    \n",
    "    return True"
   ]
  },
  {
   "cell_type": "code",
   "execution_count": null,
   "id": "b693a0d7",
   "metadata": {},
   "outputs": [],
   "source": [
    "threshold = 10\n",
    "\n",
    "video_linking = {}\n",
    "\n",
    "for key, values in similarity_matrix.items():\n",
    "    key1 = key[0]\n",
    "    key2 = key[1]\n",
    "    value1 = values[0]\n",
    "    value2 = values[1]\n",
    "    \n",
    "    if value1 < threshold:\n",
    "        add_edge(video_linking, key2, key1)\n",
    "    if value2 < threshold:\n",
    "        add_edge(video_linking, key1, key2)"
   ]
  },
  {
   "cell_type": "code",
   "execution_count": null,
   "id": "ccb1aeab",
   "metadata": {},
   "outputs": [],
   "source": [
    "video_linking"
   ]
  },
  {
   "cell_type": "code",
   "execution_count": null,
   "id": "6291b680",
   "metadata": {},
   "outputs": [],
   "source": [
    "correct_linking = find_linking(video_linking)\n",
    "print(correct_linking)"
   ]
  },
  {
   "cell_type": "code",
   "execution_count": null,
   "id": "798b187b",
   "metadata": {},
   "outputs": [],
   "source": [
    "def concatenate_video_clips(video_file_paths):\n",
    "    clips = [VideoFileClip(file) for file in video_file_paths]\n",
    "    final_clip = concatenate_videoclips(clips)\n",
    "    return final_clip"
   ]
  },
  {
   "cell_type": "code",
   "execution_count": null,
   "id": "c3248805",
   "metadata": {},
   "outputs": [],
   "source": [
    "concatenated_clip = concatenate_video_clips(correct_linking)\n",
    "print(concatenated_clip.fps)"
   ]
  },
  {
   "cell_type": "code",
   "execution_count": null,
   "id": "4ffab072",
   "metadata": {},
   "outputs": [],
   "source": [
    "concatenated_clip.audio.to_soundarray()"
   ]
  },
  {
   "cell_type": "code",
   "execution_count": null,
   "id": "03c74203",
   "metadata": {},
   "outputs": [],
   "source": []
  }
 ],
 "metadata": {
  "language_info": {
   "name": "python"
  }
 },
 "nbformat": 4,
 "nbformat_minor": 5
}
