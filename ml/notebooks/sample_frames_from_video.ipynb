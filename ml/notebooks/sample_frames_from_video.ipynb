{
 "cells": [
  {
   "cell_type": "code",
   "execution_count": null,
   "id": "e7d4814c",
   "metadata": {},
   "outputs": [],
   "source": [
    "import os\n",
    "import cv2\n",
    "import random\n",
    "import matplotlib.pyplot as plt"
   ]
  },
  {
   "cell_type": "code",
   "execution_count": null,
   "id": "4f65d550",
   "metadata": {},
   "outputs": [],
   "source": [
    "ROOT_DIR = os.path.dirname(os.getcwd())\n",
    "DATA_FOLDER = os.path.join(ROOT_DIR, \"data\")"
   ]
  },
  {
   "cell_type": "code",
   "execution_count": null,
   "id": "19282020",
   "metadata": {},
   "outputs": [],
   "source": [
    "video_L_path = os.path.join(DATA_FOLDER, \"keparoicam_clipL_synchronized.mp4\")\n",
    "video_R_path = os.path.join(DATA_FOLDER, \"keparoicam_clipR_synchronized.mp4\")"
   ]
  },
  {
   "cell_type": "code",
   "execution_count": null,
   "id": "ce832582",
   "metadata": {},
   "outputs": [],
   "source": [
    "video_left_capture = cv2.VideoCapture(video_L_path)\n",
    "video_right_capture = cv2.VideoCapture(video_R_path)"
   ]
  },
  {
   "cell_type": "code",
   "execution_count": null,
   "id": "72261293",
   "metadata": {},
   "outputs": [],
   "source": [
    "def sample_frames_from_video(capture, n_frames=1, frame_ids=None):\n",
    "    max_frame = int(capture.get(cv2.CAP_PROP_FRAME_COUNT))\n",
    "    frames = []\n",
    "    \n",
    "    if frame_ids is None:\n",
    "        frame_ids = [id for id in random.sample(range(0, max_frame), n_frames)]\n",
    "    \n",
    "    for frame_id in frame_ids:\n",
    "        capture.set(cv2.CAP_PROP_POS_FRAMES, frame_id)\n",
    "        ret, frame = capture.read()\n",
    "        if ret is True:\n",
    "            frames.append(frame)\n",
    "        else:\n",
    "            print(f\"Reading frame {frame_id} failed, ret: {ret}\")\n",
    "            \n",
    "    return frames"
   ]
  },
  {
   "cell_type": "code",
   "execution_count": null,
   "id": "8c725d8c",
   "metadata": {},
   "outputs": [],
   "source": [
    "left_frames = sample_frames_from_video(video_left_capture, frame_ids=[1000])\n",
    "right_frames = sample_frames_from_video(video_right_capture, frame_ids=[1000])"
   ]
  },
  {
   "cell_type": "code",
   "execution_count": null,
   "id": "cce9012d",
   "metadata": {},
   "outputs": [],
   "source": [
    "plt.imshow(left_frames[0])\n",
    "plt.show()\n",
    "plt.imshow(right_frames[0])\n",
    "plt.show()"
   ]
  },
  {
   "cell_type": "code",
   "execution_count": null,
   "id": "a6659586",
   "metadata": {},
   "outputs": [],
   "source": [
    "left_frame_path = os.path.join(DATA_FOLDER, \"keparoi_left_frame.jpg\")\n",
    "cv2.imwrite(left_frame_path, left_frames[0])\n",
    "right_frame_path = os.path.join(DATA_FOLDER, \"keparoi_right_frame.jpg\")\n",
    "cv2.imwrite(right_frame_path, right_frames[0])"
   ]
  },
  {
   "cell_type": "code",
   "execution_count": null,
   "id": "0611235a",
   "metadata": {},
   "outputs": [],
   "source": []
  }
 ],
 "metadata": {
  "kernelspec": {
   "display_name": "meow",
   "language": "python",
   "name": "meow"
  },
  "language_info": {
   "codemirror_mode": {
    "name": "ipython",
    "version": 3
   },
   "file_extension": ".py",
   "mimetype": "text/x-python",
   "name": "python",
   "nbconvert_exporter": "python",
   "pygments_lexer": "ipython3",
   "version": "3.10.6"
  }
 },
 "nbformat": 4,
 "nbformat_minor": 5
}
