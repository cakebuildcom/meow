{
 "cells": [
  {
   "cell_type": "code",
   "execution_count": null,
   "id": "11031ea5",
   "metadata": {},
   "outputs": [],
   "source": [
    "import numpy as np\n",
    "import matplotlib.pyplot as plt\n",
    "import cv2\n",
    "from cv2 import MSER\n",
    "import os\n",
    "from matplotlib.colors import hsv_to_rgb"
   ]
  },
  {
   "cell_type": "code",
   "execution_count": null,
   "id": "85a8631e",
   "metadata": {},
   "outputs": [],
   "source": [
    "ROOT_PATH = os.path.dirname(os.getcwd())\n",
    "DATA_PATH = os.path.join(ROOT_PATH, \"data\")"
   ]
  },
  {
   "cell_type": "code",
   "execution_count": null,
   "id": "2c94fc54",
   "metadata": {},
   "outputs": [],
   "source": [
    "left_test_image = cv2.imread(os.path.join(DATA_PATH, \"keparoi_left_frame.jpg\"))\n",
    "right_test_image = cv2.imread(os.path.join(DATA_PATH, \"keparoi_right_frame.jpg\"))"
   ]
  },
  {
   "cell_type": "code",
   "execution_count": null,
   "id": "f75bbe7c",
   "metadata": {},
   "outputs": [],
   "source": [
    "left_test_image.shape"
   ]
  },
  {
   "cell_type": "code",
   "execution_count": null,
   "id": "bda33943",
   "metadata": {},
   "outputs": [],
   "source": [
    "left_test_image = cv2.cvtColor(left_test_image, cv2.COLOR_BGR2RGB) "
   ]
  },
  {
   "cell_type": "code",
   "execution_count": null,
   "id": "31de7e5d",
   "metadata": {},
   "outputs": [],
   "source": [
    "blurred_image = cv2.GaussianBlur(left_test_image, (51,51), 0)\n",
    "plt.imshow(blurred_image)"
   ]
  },
  {
   "cell_type": "code",
   "execution_count": null,
   "id": "51b18501",
   "metadata": {},
   "outputs": [],
   "source": [
    "median_blurred_image = cv2.medianBlur(right_test_image, 51)\n",
    "plt.imshow(median_blurred_image)"
   ]
  },
  {
   "cell_type": "code",
   "execution_count": null,
   "id": "4baa1e17",
   "metadata": {},
   "outputs": [],
   "source": [
    "plt.imshow(left_test_image)"
   ]
  },
  {
   "cell_type": "code",
   "execution_count": null,
   "id": "95d840bb",
   "metadata": {},
   "outputs": [],
   "source": [
    "r_channel, g_channel, b_channel = cv2.split(median_blurred_image)"
   ]
  },
  {
   "cell_type": "code",
   "execution_count": null,
   "id": "998815c3",
   "metadata": {},
   "outputs": [],
   "source": [
    "r_channel.shape"
   ]
  },
  {
   "cell_type": "code",
   "execution_count": null,
   "id": "116115fd",
   "metadata": {},
   "outputs": [],
   "source": [
    "plt.imshow(r_channel, cmap=\"gray\")"
   ]
  },
  {
   "cell_type": "code",
   "execution_count": null,
   "id": "ed316387",
   "metadata": {},
   "outputs": [],
   "source": [
    "plt.imshow(g_channel, cmap=\"gray\")"
   ]
  },
  {
   "cell_type": "code",
   "execution_count": null,
   "id": "005f4a38",
   "metadata": {},
   "outputs": [],
   "source": [
    "plt.imshow(b_channel, cmap=\"gray\")"
   ]
  },
  {
   "cell_type": "code",
   "execution_count": null,
   "id": "6c264570",
   "metadata": {},
   "outputs": [],
   "source": [
    "g_channel"
   ]
  },
  {
   "cell_type": "code",
   "execution_count": null,
   "id": "6f6cd6af",
   "metadata": {},
   "outputs": [],
   "source": [
    "g_thresh = cv2.threshold(src=g_channel, thresh=75, maxval=255, type=cv2.THRESH_BINARY)[1]\n",
    "b_thresh = cv2.threshold(src=b_channel, thresh=100, maxval=255, type=cv2.THRESH_BINARY)[1]\n",
    "r_thresh = cv2.threshold(src=r_channel, thresh=100, maxval=255, type=cv2.THRESH_BINARY)[1]"
   ]
  },
  {
   "cell_type": "code",
   "execution_count": null,
   "id": "5e6d1f44",
   "metadata": {},
   "outputs": [],
   "source": [
    "plt.imshow(g_thresh)"
   ]
  },
  {
   "cell_type": "code",
   "execution_count": null,
   "id": "087527c0",
   "metadata": {},
   "outputs": [],
   "source": [
    "plt.imshow(b_thresh)"
   ]
  },
  {
   "cell_type": "code",
   "execution_count": null,
   "id": "a97d4b48",
   "metadata": {},
   "outputs": [],
   "source": [
    "plt.imshow(r_thresh)"
   ]
  },
  {
   "cell_type": "code",
   "execution_count": null,
   "id": "24872134",
   "metadata": {},
   "outputs": [],
   "source": [
    "gray_image = cv2.cvtColor(median_blurred_image, cv2.COLOR_RGB2GRAY)\n",
    "plt.imshow(gray_image)"
   ]
  },
  {
   "cell_type": "code",
   "execution_count": null,
   "id": "77ab365e",
   "metadata": {},
   "outputs": [],
   "source": [
    "_ , mask = cv2.threshold(gray_image, 100, 255, cv2.THRESH_BINARY)\n",
    "mask = cv2.erode(mask, np.ones((9, 9), np.uint8))\n",
    "plt.imshow(mask)"
   ]
  },
  {
   "cell_type": "code",
   "execution_count": null,
   "id": "1cc4af25",
   "metadata": {},
   "outputs": [],
   "source": [
    "contours, _ = cv2.findContours(mask, cv2.RETR_EXTERNAL, cv2.CHAIN_APPROX_SIMPLE)"
   ]
  },
  {
   "cell_type": "code",
   "execution_count": null,
   "id": "303a3f78",
   "metadata": {},
   "outputs": [],
   "source": []
  },
  {
   "cell_type": "code",
   "execution_count": null,
   "id": "9d2e886d",
   "metadata": {},
   "outputs": [],
   "source": [
    "mser = cv2.MSER_create()\n",
    "regions, _ = mser.detectRegions(gray_image)"
   ]
  },
  {
   "cell_type": "code",
   "execution_count": null,
   "id": "6b608149",
   "metadata": {},
   "outputs": [],
   "source": [
    "image_copy = left_test_image.copy()\n",
    "hulls = [cv2.convexHull(p.reshape(-1, 1, 2)) for p in regions]\n",
    "cv2.polylines(image_copy, hulls, 1, (0, 0, 255), 2)\n",
    "plt.imshow(image_copy)"
   ]
  },
  {
   "cell_type": "code",
   "execution_count": null,
   "id": "ea50d8a3",
   "metadata": {},
   "outputs": [],
   "source": [
    "light_green = (144,150,124)\n",
    "dark_green = (45,60,53)\n",
    "light_white = (0, 0, 200)\n",
    "dark_white = (145, 60, 255)\n",
    "light_g = (55, 26, 74)\n",
    "dark_g = (148, 15, 34)\n",
    "light_orange = (1, 190, 200)\n",
    "dark_orange = (18, 255, 255)\n"
   ]
  },
  {
   "cell_type": "code",
   "execution_count": null,
   "id": "f6617132",
   "metadata": {},
   "outputs": [],
   "source": [
    "light_square = np.full((10, 10, 3), light_green, dtype=np.uint8) / 255.0\n",
    "dark_square = np.full((10, 10, 3), dark_green, dtype=np.uint8) / 255.0\n",
    "plt.subplot(1, 2, 1)\n",
    "plt.imshow(hsv_to_rgb(light_square))\n",
    "plt.subplot(1, 2, 2)\n",
    "plt.imshow(hsv_to_rgb(dark_square))\n",
    "plt.show()"
   ]
  },
  {
   "cell_type": "code",
   "execution_count": null,
   "id": "90147af8",
   "metadata": {},
   "outputs": [],
   "source": [
    "hsv_image = cv2.cvtColor(left_test_image, cv2.COLOR_RGB2HSV)\n",
    "\n",
    "field_mask = cv2.inRange(hsv_image, light_green, dark_green)"
   ]
  },
  {
   "cell_type": "code",
   "execution_count": null,
   "id": "b2d70c8d",
   "metadata": {},
   "outputs": [],
   "source": [
    "plt.imshow(field_mask)"
   ]
  },
  {
   "cell_type": "code",
   "execution_count": null,
   "id": "ceea758c",
   "metadata": {},
   "outputs": [],
   "source": [
    "def mask_field_from_image(frame):\n",
    "    median_blurred_image = cv2.medianBlur(frame, 51)\n",
    "    gray_image = cv2.cvtColor(median_blurred_image, cv2.COLOR_RGB2GRAY)\n",
    "    _ , mask = cv2.threshold(gray_image, 100, 255, cv2.THRESH_BINARY)\n",
    "    mask = ~mask\n",
    "    kernel = cv2.getStructuringElement(cv2.MORPH_RECT, (69,69))\n",
    "    mask = cv2.morphologyEx(mask,cv2.MORPH_CLOSE, kernel)\n",
    "    contours, hierarchy = cv2.findContours(mask, cv2.RETR_TREE, cv2.CHAIN_APPROX_NONE)\n",
    "    max_contour = max(contours, key = cv2.contourArea)\n",
    "    approx = cv2.approxPolyDP(max_contour, 0.1 * cv2.arcLength(max_contour, True), True)\n",
    "    mask = cv2.cvtColor(mask, cv2.COLOR_GRAY2RGB)\n",
    "    cv2.drawContours(mask, [approx], 0, (100, 100, 100), 5)\n",
    "    final_mask = np.zeros(gray_image.shape, np.uint8)\n",
    "    cv2.drawContours(final_mask, [approx], 0, (255),-1)\n",
    "    final_mask = ~final_mask\n",
    "    return final_mask"
   ]
  },
  {
   "cell_type": "code",
   "execution_count": null,
   "id": "6fe4136c",
   "metadata": {},
   "outputs": [],
   "source": [
    "mask = mask_field_from_image(left_test_image)\n",
    "new_image = cv2.bitwise_and(left_test_image, left_test_image, mask=mask)\n",
    "plt.imshow(new_image)\n",
    "plt.show()"
   ]
  },
  {
   "cell_type": "code",
   "execution_count": null,
   "id": "0b657072",
   "metadata": {},
   "outputs": [],
   "source": [
    "mask = mask_field_from_image(right_test_image)\n",
    "new_image = cv2.bitwise_and(right_test_image, right_test_image, mask=mask)\n",
    "plt.imshow(new_image)\n",
    "plt.show()"
   ]
  },
  {
   "cell_type": "code",
   "execution_count": null,
   "id": "d01a093b",
   "metadata": {},
   "outputs": [],
   "source": []
  }
 ],
 "metadata": {
  "kernelspec": {
   "display_name": "meow",
   "language": "python",
   "name": "meow"
  },
  "language_info": {
   "codemirror_mode": {
    "name": "ipython",
    "version": 3
   },
   "file_extension": ".py",
   "mimetype": "text/x-python",
   "name": "python",
   "nbconvert_exporter": "python",
   "pygments_lexer": "ipython3",
   "version": "3.10.12"
  }
 },
 "nbformat": 4,
 "nbformat_minor": 5
}
