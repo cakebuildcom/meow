{
 "cells": [
  {
   "cell_type": "code",
   "execution_count": null,
   "id": "7c8f0b57",
   "metadata": {},
   "outputs": [],
   "source": [
    "import sys\n",
    "import os"
   ]
  },
  {
   "cell_type": "code",
   "execution_count": null,
   "id": "0ae8b87c",
   "metadata": {},
   "outputs": [],
   "source": [
    "ROOT_PATH = os.path.dirname(os.getcwd())\n",
    "DATA_PATH = os.path.join(ROOT_PATH, \"data\")\n",
    "MODELS_PATH = os.path.join(ROOT_PATH, \"models\")\n",
    "YOLOV7_PATH = os.path.join(ROOT_PATH, \"yolov7\")\n",
    "sys.path.append(YOLOV7_PATH)"
   ]
  },
  {
   "cell_type": "code",
   "execution_count": null,
   "id": "99d5c31e",
   "metadata": {},
   "outputs": [],
   "source": [
    "import matplotlib\n",
    "import matplotlib.pyplot as plt\n",
    "import torch\n",
    "import cv2\n",
    "import numpy as np\n",
    "from torchvision import transforms\n",
    "from utils.datasets import letterbox\n",
    "from utils.general import non_max_suppression_kpt\n",
    "from utils.plots import output_to_keypoint, plot_skeleton_kpts\n",
    "\n",
    "\n",
    "%matplotlib ipympl"
   ]
  },
  {
   "cell_type": "code",
   "execution_count": null,
   "id": "0ef3686e",
   "metadata": {},
   "outputs": [],
   "source": [
    "device = torch.device(\"cuda:0\" if torch.cuda.is_available() else \"cpu\")\n",
    "weigths = torch.load(os.path.join(MODELS_PATH, 'yolov7.pt'))\n",
    "model = weigths['model']\n",
    "model = model.half().to(device)\n",
    "_ = model.eval()"
   ]
  },
  {
   "cell_type": "code",
   "execution_count": null,
   "id": "15e494a5",
   "metadata": {},
   "outputs": [],
   "source": [
    "model.yaml"
   ]
  },
  {
   "cell_type": "code",
   "execution_count": null,
   "id": "6b53a215",
   "metadata": {},
   "outputs": [],
   "source": [
    "# Hack to torch 1.13.1\n",
    "import torch.nn as nn\n",
    "\n",
    "for m in model.modules():\n",
    "    if isinstance(m, nn.Upsample):\n",
    "        m.recompute_scale_factor = None"
   ]
  },
  {
   "cell_type": "code",
   "execution_count": null,
   "id": "1f4f68e7",
   "metadata": {},
   "outputs": [],
   "source": [
    "left_test_image = cv2.imread(os.path.join(DATA_PATH, \"keparoi_left_frame.jpg\"))\n",
    "right_test_image = cv2.imread(os.path.join(DATA_PATH, \"keparoi_right_frame.jpg\"))"
   ]
  },
  {
   "cell_type": "code",
   "execution_count": null,
   "id": "61870642",
   "metadata": {},
   "outputs": [],
   "source": [
    "plt.imshow(left_test_image)\n",
    "plt.show()"
   ]
  },
  {
   "cell_type": "code",
   "execution_count": null,
   "id": "888f7963",
   "metadata": {},
   "outputs": [],
   "source": [
    "%%time\n",
    "\n",
    "def detect(orig_image):\n",
    "    frame_width = orig_image.shape[1]\n",
    "    frame_height = orig_image.shape[0]\n",
    "    \n",
    "    image = cv2.cvtColor(orig_image, cv2.COLOR_BGR2RGB)\n",
    "    image = letterbox(image, (frame_width), stride=64, auto=True)[0]\n",
    "    image_ = image.copy()\n",
    "    image = transforms.ToTensor()(image)\n",
    "    image = torch.tensor(np.array([image.numpy()]))\n",
    "    image = image.to(device)\n",
    "    image = image.half()\n",
    "\n",
    "    with torch.no_grad():\n",
    "        output, _ = model(image)\n",
    "\n",
    "    output = non_max_suppression_kpt(output, 0.25, 0.65, nc=model.yaml['nc'])\n",
    "    output = output_to_keypoint(output)\n",
    "    #nimg = image[0].permute(1, 2, 0) * 255\n",
    "    #nimg = nimg.cpu().numpy().astype(np.uint8)\n",
    "    #nimg = cv2.cvtColor(nimg, cv2.COLOR_RGB2BGR)\n",
    "    \n",
    "    n_players = 0\n",
    "    \n",
    "    for idx in range(output.shape[0]):\n",
    "\n",
    "        class_id = output[idx][1]\n",
    "        confidence = output[idx][6]\n",
    "\n",
    "        if class_id != 0:\n",
    "            continue\n",
    "\n",
    "        if confidence < 0.7:\n",
    "            continue\n",
    "\n",
    "        #xmin, ymin = (output[idx, 2]-output[idx, 4]/2), (output[idx, 3]-output[idx, 5]/2)\n",
    "        #max, ymax = (output[idx, 2]+output[idx, 4]/2), (output[idx, 3]+output[idx, 5]/2)\n",
    "        #cv2.rectangle(\n",
    "        # nimg,\n",
    "        # (int(xmin), int(ymin)),\n",
    "        # (int(xmax), int(ymax)),\n",
    "        #  color=(255, 0, 0),\n",
    "        #  thickness=1,\n",
    "        #  lineType=cv2.LINE_AA\n",
    "        #)\n",
    "        \n",
    "        n_players +=1\n",
    "        \n",
    "    print(f\"Detected {n_players} players\")\n",
    "\n",
    "    #plt.imshow(nimg)\n",
    "    #plt.show()"
   ]
  },
  {
   "cell_type": "code",
   "execution_count": null,
   "id": "b1ed8122",
   "metadata": {},
   "outputs": [],
   "source": [
    "%%time\n",
    "detect(left_test_image)\n",
    "detect(right_test_image)"
   ]
  },
  {
   "cell_type": "code",
   "execution_count": null,
   "id": "630c1d4c",
   "metadata": {},
   "outputs": [],
   "source": []
  }
 ],
 "metadata": {
  "kernelspec": {
   "display_name": "meow",
   "language": "python",
   "name": "meow"
  },
  "language_info": {
   "codemirror_mode": {
    "name": "ipython",
    "version": 3
   },
   "file_extension": ".py",
   "mimetype": "text/x-python",
   "name": "python",
   "nbconvert_exporter": "python",
   "pygments_lexer": "ipython3",
   "version": "3.10.6"
  }
 },
 "nbformat": 4,
 "nbformat_minor": 5
}
