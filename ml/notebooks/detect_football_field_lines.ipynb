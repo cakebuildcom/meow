{
 "cells": [
  {
   "cell_type": "code",
   "execution_count": null,
   "id": "29747b03",
   "metadata": {},
   "outputs": [],
   "source": [
    "import cv2\n",
    "import numpy as np\n",
    "import math\n",
    "import os\n",
    "import matplotlib.pyplot as plt"
   ]
  },
  {
   "cell_type": "code",
   "execution_count": null,
   "id": "928cab23",
   "metadata": {},
   "outputs": [],
   "source": [
    "ROOT_PATH = os.path.dirname(os.getcwd())\n",
    "DATA_PATH = os.path.join(ROOT_PATH, \"data\")"
   ]
  },
  {
   "cell_type": "code",
   "execution_count": null,
   "id": "025a94da",
   "metadata": {},
   "outputs": [],
   "source": [
    "left_test_image = cv2.imread(os.path.join(DATA_PATH, \"keparoi_left_frame.jpg\"))\n",
    "right_test_image = cv2.imread(os.path.join(DATA_PATH, \"keparoi_right_frame.jpg\"))"
   ]
  },
  {
   "cell_type": "code",
   "execution_count": null,
   "id": "caffc197",
   "metadata": {},
   "outputs": [],
   "source": [
    "blurred_image = cv2.GaussianBlur(left_test_image, (9, 9), 0)"
   ]
  },
  {
   "cell_type": "code",
   "execution_count": null,
   "id": "9468ae00",
   "metadata": {},
   "outputs": [],
   "source": [
    "input_image = cv2.cvtColor(blurred_image, cv2.COLOR_BGR2GRAY)\n",
    "edges = cv2.Canny(input_image, 50, 200, None, 3)"
   ]
  },
  {
   "cell_type": "code",
   "execution_count": null,
   "id": "4eb05447",
   "metadata": {},
   "outputs": [],
   "source": [
    "plt.imshow(input_image)"
   ]
  },
  {
   "cell_type": "code",
   "execution_count": null,
   "id": "e0a305bb",
   "metadata": {},
   "outputs": [],
   "source": [
    "plt.imshow(edges)"
   ]
  },
  {
   "cell_type": "code",
   "execution_count": null,
   "id": "7fbfae69",
   "metadata": {},
   "outputs": [],
   "source": [
    "input_copy = np.copy(left_test_image)\n",
    "\n",
    "lines = cv2.HoughLinesP(edges, 1, np.pi / 180, 50, None, 200, 50)\n",
    "\n",
    "print(len(lines))\n",
    "print(lines)\n",
    "if lines is not None:\n",
    "    for i in range(0, len(lines)):\n",
    "        l = lines[i][0]\n",
    "        cv2.line(input_copy, (l[0], l[1]), (l[2], l[3]), (0,0,255), 3, cv2.LINE_AA)"
   ]
  },
  {
   "cell_type": "code",
   "execution_count": null,
   "id": "fea15dc5",
   "metadata": {},
   "outputs": [],
   "source": [
    "plt.imshow(input_copy)"
   ]
  },
  {
   "cell_type": "code",
   "execution_count": null,
   "id": "d91f5a22",
   "metadata": {},
   "outputs": [],
   "source": []
  }
 ],
 "metadata": {
  "language_info": {
   "name": "python"
  }
 },
 "nbformat": 4,
 "nbformat_minor": 5
}
