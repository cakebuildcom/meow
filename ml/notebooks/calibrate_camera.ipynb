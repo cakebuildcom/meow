{
 "cells": [
  {
   "cell_type": "code",
   "execution_count": null,
   "id": "c301b20c",
   "metadata": {},
   "outputs": [],
   "source": [
    "import cv2\n",
    "import glob\n",
    "import os\n",
    "import numpy as np\n",
    "import matplotlib.pyplot as plt\n",
    "import pickle\n",
    "from tqdm.notebook import tqdm\n",
    "import lensfunpy"
   ]
  },
  {
   "cell_type": "code",
   "execution_count": null,
   "id": "0ebcbcd3",
   "metadata": {},
   "outputs": [],
   "source": [
    "ROOT_DIR = os.path.dirname(os.getcwd())\n",
    "DATA_FOLDER = os.path.join(ROOT_DIR, \"data\")"
   ]
  },
  {
   "cell_type": "code",
   "execution_count": null,
   "id": "cd2e648c",
   "metadata": {},
   "outputs": [],
   "source": [
    "images = glob.glob(f\"{os.path.join(DATA_FOLDER, 'camera_calibration')}/*.JPG\")"
   ]
  },
  {
   "cell_type": "code",
   "execution_count": null,
   "id": "86837949",
   "metadata": {},
   "outputs": [],
   "source": [
    "img_shape = cv2.imread(images[0]).shape[0:2]"
   ]
  },
  {
   "cell_type": "code",
   "execution_count": null,
   "id": "441ad5fe",
   "metadata": {},
   "outputs": [],
   "source": [
    "CHECKERBOARD = (7, 9)"
   ]
  },
  {
   "cell_type": "code",
   "execution_count": null,
   "id": "195f07dd",
   "metadata": {},
   "outputs": [],
   "source": [
    "criteria = (cv2.TERM_CRITERIA_EPS + cv2.TERM_CRITERIA_MAX_ITER, 30, 0.001)\n",
    "\n",
    "three_d_points = []\n",
    "two_d_points = []\n",
    "\n",
    "objectp3d = np.zeros((1, CHECKERBOARD[0] * CHECKERBOARD[1], 3), np.float32)\n",
    "objectp3d[0, :, :2] = np.mgrid[0:CHECKERBOARD[0], 0:CHECKERBOARD[1]].T.reshape(-1, 2)\n",
    "img_shape = cv2.imread(images[0]).shape[0:2]\n",
    "print(img_shape)\n",
    "\n",
    "for filename in tqdm(images):\n",
    "    image = cv2.imread(filename)\n",
    "    gray_image = cv2.cvtColor(image, cv2.COLOR_BGR2GRAY)\n",
    "\n",
    "    # Find the chess board corners\n",
    "    # If desired number of corners are\n",
    "    # found in the image then ret = true\n",
    "    ret, corners = cv2.findChessboardCorners(gray_image, CHECKERBOARD, \n",
    "                                             cv2.CALIB_CB_ADAPTIVE_THRESH + cv2.CALIB_CB_FAST_CHECK + cv2.CALIB_CB_NORMALIZE_IMAGE)\n",
    "    # If desired number of corners can be detected then,\n",
    "    # refine the pixel coordinates and display\n",
    "    # them on the images of checker board\n",
    "    if ret == True:\n",
    "        three_d_points.append(objectp3d)\n",
    "        # Refining pixel coordinates\n",
    "        # for given 2d points.\n",
    "        corners2 = cv2.cornerSubPix(gray_image, corners, (11, 11), (-1, -1), criteria)\n",
    "        two_d_points.append(corners2)\n",
    "        # Draw and display the corners\n",
    "        #image = cv2.drawChessboardCorners(image, CHECKERBOARD, corners2, ret)\n",
    "        #plt.imshow(undistorted_image)\n",
    "        #plt.show()\n",
    "    else:\n",
    "        print(f\"Pattern was not found on image {filename}\")\n",
    "    \n",
    "    "
   ]
  },
  {
   "cell_type": "code",
   "execution_count": null,
   "id": "5716ac48",
   "metadata": {},
   "outputs": [],
   "source": [
    "# Perform camera calibration by\n",
    "# passing the value of above found out 3D points (threedpoints)\n",
    "# and its corresponding pixel coordinates of the\n",
    "# detected corners (twodpoints)\n",
    "ret, intrinsic_matrix, distortion, r_vecs, t_vecs = cv2.calibrateCamera(\n",
    "    three_d_points, two_d_points, img_shape[::-1], None, None\n",
    ")\n",
    "# Displaying required output\n",
    "print(\"Camera matrix: \")\n",
    "print(intrinsic_matrix)\n",
    "print(\"Distortion coefficient: \")\n",
    "print(distortion)"
   ]
  },
  {
   "cell_type": "code",
   "execution_count": null,
   "id": "715930c9",
   "metadata": {},
   "outputs": [],
   "source": [
    "projection_error = 0\n",
    "for i in range(len(three_d_points)):\n",
    "    img_points2, _ = cv2.projectPoints(three_d_points[i], r_vecs[i], t_vecs[i], intrinsic_matrix, distortion)\n",
    "    error = cv2.norm(two_d_points[i], img_points2, cv2.NORM_L2) / len(img_points2)\n",
    "    projection_error += error\n",
    "\n",
    "print(f\"Total projection error: {projection_error}\")"
   ]
  },
  {
   "cell_type": "code",
   "execution_count": null,
   "id": "fefeadb2",
   "metadata": {},
   "outputs": [],
   "source": [
    "camera_matrix_path = os.path.join(DATA_FOLDER, \"camera_matrix.npy\")\n",
    "camera_matrix_txt_path = os.path.join(DATA_FOLDER, \"camera_matrix.txt\")\n",
    "camera_distortion_path = os.path.join(DATA_FOLDER, \"camera_distortion.npy\")\n",
    "camera_distortion_txt_path = os.path.join(DATA_FOLDER, \"camera_distortion.txt\")"
   ]
  },
  {
   "cell_type": "code",
   "execution_count": null,
   "id": "00a98144",
   "metadata": {},
   "outputs": [],
   "source": [
    "#np.save(camera_matrix_path, intrinsic_matrix)\n",
    "#np.savetxt(camera_matrix_txt_path, intrinsic_matrix)\n",
    "#np.save(camera_distortion_path, distortion)\n",
    "#np.savetxt(camera_distortion_txt_path, distortion)"
   ]
  },
  {
   "cell_type": "code",
   "execution_count": null,
   "id": "4a1a108e",
   "metadata": {},
   "outputs": [],
   "source": [
    "intrinsic_matrix = np.load(camera_matrix_path)\n",
    "distortion = np.load(camera_distortion_path)"
   ]
  },
  {
   "cell_type": "code",
   "execution_count": null,
   "id": "972d7545",
   "metadata": {},
   "outputs": [],
   "source": [
    "h, w = 3000, 4000\n",
    "undistorted_matrix, roi = cv2.getOptimalNewCameraMatrix(intrinsic_matrix, distortion, (w,h), 1, (w,h))"
   ]
  },
  {
   "cell_type": "code",
   "execution_count": null,
   "id": "2efa3369",
   "metadata": {},
   "outputs": [],
   "source": [
    "undistorted_camera_matrix_path = os.path.join(DATA_FOLDER, \"undistorted_camera_matrix_2K.npy\")"
   ]
  },
  {
   "cell_type": "code",
   "execution_count": null,
   "id": "a9870304",
   "metadata": {},
   "outputs": [],
   "source": [
    "np.save(undistorted_camera_matrix_path, undistorted_matrix)"
   ]
  },
  {
   "cell_type": "code",
   "execution_count": null,
   "id": "fba6dd43",
   "metadata": {},
   "outputs": [],
   "source": [
    "image = cv2.imread(images[10])\n",
    "undistorted_image = cv2.undistort(image, intrinsic_matrix, distortion, None, undistorted_matrix)\n",
    "\n",
    "#x, y, w, h = roi\n",
    "#undistorted_image = undistorted_image[y:y+h, x:x+w]\n",
    "plt.figure(figsize=(30,50))\n",
    "plt.subplot(1,2,1)\n",
    "plt.imshow(image)\n",
    "plt.subplot(1,2,2)\n",
    "plt.imshow(undistorted_image)\n",
    "plt.show()"
   ]
  },
  {
   "cell_type": "code",
   "execution_count": null,
   "id": "dc21fc88",
   "metadata": {},
   "outputs": [],
   "source": [
    "h, w = 1080, 1920\n",
    "undistorted_matrix, roi = cv2.getOptimalNewCameraMatrix(intrinsic_matrix, distortion, (w,h), 1, (w,h))\n",
    "\n",
    "keparoi_image_path = os.path.join(DATA_FOLDER, \"keparoi_left_frame.jpg\")\n",
    "image = cv2.imread(keparoi_image_path)\n",
    "undistorted_image = cv2.undistort(image, intrinsic_matrix, distortion, None, undistorted_matrix)\n",
    "\n",
    "x, y, w, h = roi\n",
    "undistorted_image = undistorted_image[y:y+h, x:x+w]\n",
    "plt.figure(figsize=(30,50))\n",
    "plt.subplot(1,2,1)\n",
    "plt.imshow(image)\n",
    "plt.subplot(1,2,2)\n",
    "plt.imshow(undistorted_image)\n",
    "plt.show()"
   ]
  },
  {
   "cell_type": "code",
   "execution_count": null,
   "id": "f570edf8",
   "metadata": {},
   "outputs": [],
   "source": [
    "cam_maker = 'GoPro'\n",
    "cam_model = 'HERO5 Black'\n",
    "lens_maker = 'GoPro'\n",
    "lens_model = 'fixed lens'\n",
    "\n",
    "db = lensfunpy.Database()\n",
    "db\n",
    "cam = db.find_cameras(cam_maker, cam_model)[0]\n",
    "print(cam)\n",
    "lens = db.find_lenses(cam, lens_maker, lens_model)[0]\n",
    "print(lens)"
   ]
  },
  {
   "cell_type": "code",
   "execution_count": null,
   "id": "1a720804",
   "metadata": {},
   "outputs": [],
   "source": [
    "focal_length = 15.0\n",
    "aperture = 1.4\n",
    "distance = 1\n",
    "\n",
    "mod = lensfunpy.Modifier(lens, cam.crop_factor, w, h)\n",
    "mod.initialize(focal_length, aperture, distance)\n",
    "\n",
    "undist_coords = mod.apply_geometry_distortion()\n",
    "im_undistorted = cv2.remap(image, undist_coords, None, cv2.INTER_LANCZOS4)\n",
    "plt.imshow(im_undistorted)\n",
    "plt.show()"
   ]
  },
  {
   "cell_type": "code",
   "execution_count": null,
   "id": "e81d7933",
   "metadata": {},
   "outputs": [],
   "source": []
  }
 ],
 "metadata": {
  "language_info": {
   "name": "python"
  }
 },
 "nbformat": 4,
 "nbformat_minor": 5
}
