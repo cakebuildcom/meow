{
 "cells": [
  {
   "cell_type": "code",
   "execution_count": null,
   "id": "49303fa9",
   "metadata": {},
   "outputs": [],
   "source": [
    "import os\n",
    "import math\n",
    "import numpy as np\n",
    "import ffmpeg\n",
    "import cv2\n",
    "import imutils\n",
    "from imutils.video import count_frames\n",
    "import matplotlib.pyplot as plt\n",
    "from tqdm.notebook import tqdm\n",
    "from vidstab import VidStab"
   ]
  },
  {
   "cell_type": "code",
   "execution_count": null,
   "id": "cfd048a1",
   "metadata": {},
   "outputs": [],
   "source": [
    "ROOT_DIR = os.path.dirname(os.getcwd())\n",
    "DATA_FOLDER = os.path.join(ROOT_DIR, \"data\")"
   ]
  },
  {
   "cell_type": "code",
   "execution_count": null,
   "id": "fc9ea33a",
   "metadata": {},
   "outputs": [],
   "source": [
    "video_waltter_path = os.path.join(DATA_FOLDER, \"example_waltter.MOV\")\n",
    "video_waltter_stabilized_path = os.path.join(DATA_FOLDER, \"example_waltter_stablized.MOV\")"
   ]
  },
  {
   "cell_type": "code",
   "execution_count": null,
   "id": "95dc2dec",
   "metadata": {},
   "outputs": [],
   "source": [
    "stabilizer = VidStab()\n",
    "stabilizer.stabilize(input_path=video_waltter_path, output_path=video_waltter_stabilized_path)"
   ]
  },
  {
   "cell_type": "code",
   "execution_count": null,
   "id": "23235700",
   "metadata": {},
   "outputs": [],
   "source": []
  }
 ],
 "metadata": {
  "language_info": {
   "name": "python"
  }
 },
 "nbformat": 4,
 "nbformat_minor": 5
}
