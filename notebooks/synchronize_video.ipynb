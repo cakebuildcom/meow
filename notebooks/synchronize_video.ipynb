{
 "cells": [
  {
   "cell_type": "code",
   "execution_count": null,
   "id": "680bc047",
   "metadata": {},
   "outputs": [],
   "source": [
    "import scipy\n",
    "import matplotlib.pyplot as plt\n",
    "import os\n",
    "import ffmpeg\n",
    "import moviepy.editor as mp\n",
    "from scipy.io.wavfile import read\n",
    "import numpy as np\n",
    "from scipy.fft import fft, ifft\n",
    "import math\n",
    "import numpy as np"
   ]
  },
  {
   "cell_type": "code",
   "execution_count": null,
   "id": "9c9a9062",
   "metadata": {},
   "outputs": [],
   "source": [
    "ROOT_DIR = os.path.dirname(os.getcwd())\n",
    "DATA_FOLDER = os.path.join(ROOT_DIR, \"data\")"
   ]
  },
  {
   "cell_type": "code",
   "execution_count": null,
   "id": "8c101900",
   "metadata": {},
   "outputs": [],
   "source": [
    "video_waltter_path = os.path.join(DATA_FOLDER, \"example_waltter.MOV\")\n",
    "video_vikture_path = os.path.join(DATA_FOLDER, \"example_vikture.MOV\")\n",
    "audio_waltter_path = os.path.join(DATA_FOLDER, \"example_waltter.wav\")\n",
    "audio_vikture_path = os.path.join(DATA_FOLDER, \"example_vikture.wav\")\n",
    "\n",
    "video_waltter_e15_path = os.path.join(DATA_FOLDER, \"example_waltter_early_15s.MOV\")\n",
    "video_vikture_e15_path = os.path.join(DATA_FOLDER, \"example_vikture_early_15s.MOV\")\n",
    "audio_waltter_e15_path = os.path.join(DATA_FOLDER, \"example_waltter_early_15s.wav\")\n",
    "audio_vikture_e15_path = os.path.join(DATA_FOLDER, \"example_vikture_early_15s.wav\")\n",
    "\n",
    "video_waltter_l15_path = os.path.join(DATA_FOLDER, \"example_waltter_late_15s.MOV\")\n",
    "video_vikture_l15_path = os.path.join(DATA_FOLDER, \"example_vikture_late_15s.MOV\")\n",
    "audio_waltter_l15_path = os.path.join(DATA_FOLDER, \"example_waltter_late_15s.wav\")\n",
    "audio_vikture_l15_path = os.path.join(DATA_FOLDER, \"example_vikture_late_15s.wav\")\n",
    "\n",
    "video_waltter_e30_path = os.path.join(DATA_FOLDER, \"example_waltter_early_30s.MOV\")\n",
    "video_vikture_e30_path = os.path.join(DATA_FOLDER, \"example_vikture_early_30s.MOV\")\n",
    "audio_waltter_e30_path = os.path.join(DATA_FOLDER, \"example_waltter_early_30s.wav\")\n",
    "audio_vikture_e30_path = os.path.join(DATA_FOLDER, \"example_vikture_early_30s.wav\")"
   ]
  },
  {
   "cell_type": "code",
   "execution_count": null,
   "id": "b43bd6da",
   "metadata": {},
   "outputs": [],
   "source": [
    "def extract_audio(video_path):\n",
    "    video = mp.VideoFileClip(video_path)\n",
    "    audio = video.audio\n",
    "    return audio"
   ]
  },
  {
   "cell_type": "code",
   "execution_count": null,
   "id": "60e45745",
   "metadata": {},
   "outputs": [],
   "source": [
    "print(audio)"
   ]
  },
  {
   "cell_type": "code",
   "execution_count": null,
   "id": "1a911c08",
   "metadata": {},
   "outputs": [],
   "source": [
    "= print(type(audio))"
   ]
  },
  {
   "cell_type": "code",
   "execution_count": null,
   "id": "d60e08db",
   "metadata": {},
   "outputs": [],
   "source": [
    "def plot_audio(data):\n",
    "    plt.title(\"Audio\")\n",
    "    plt.plot(data)\n",
    "    plt.show()"
   ]
  },
  {
   "cell_type": "code",
   "execution_count": null,
   "id": "0e37a021",
   "metadata": {},
   "outputs": [],
   "source": [
    "def stereo_to_mono(wav_array: np.ndarray):\n",
    "    mono_wav = wav_array.mean(axis=1)\n",
    "    return mono_wav"
   ]
  },
  {
   "cell_type": "code",
   "execution_count": null,
   "id": "08dea13d",
   "metadata": {},
   "outputs": [],
   "source": [
    "def normalize_wav(wav_array: np.ndarray):\n",
    "    normalized_wav_array = 2.*(wav_array - np.min(wav_array))/np.ptp(wav_array)-1\n",
    "    return normalized_wav_array"
   ]
  },
  {
   "cell_type": "code",
   "execution_count": null,
   "id": "7c31710e",
   "metadata": {},
   "outputs": [],
   "source": [
    "def contrast_audio(audio_array: np.ndarray):\n",
    "    return audio_array**2"
   ]
  },
  {
   "cell_type": "code",
   "execution_count": null,
   "id": "b18fd81d",
   "metadata": {},
   "outputs": [],
   "source": [
    "def preprocess_audio(audio_file_path: str, to_mono=True, normalize=True, contrast=True):\n",
    "    sample_rate, audio = read(audio_file_path)\n",
    "    audio_data = np.array(audio, dtype=float)\n",
    "    if to_mono:\n",
    "        audio_data = stereo_to_mono(audio_data)\n",
    "    if normalize:\n",
    "        audio_data = normalize_wav(audio_data)\n",
    "    if contrast:\n",
    "        audio_data = contrast_audio(audio_data)\n",
    "    return audio_data"
   ]
  },
  {
   "cell_type": "code",
   "execution_count": null,
   "id": "7ddf2b41",
   "metadata": {},
   "outputs": [],
   "source": [
    "audio_waltter = preprocess_audio(audio_waltter_path)\n",
    "audio_vikture = preprocess_audio(audio_vikture_path)\n",
    "\n",
    "plot_audio(audio_waltter)\n",
    "plot_audio(audio_vikture)\n",
    "\n",
    "audio_waltter_e15 = preprocess_audio(audio_waltter_e15_path)\n",
    "audio_vikture_e15 = preprocess_audio(audio_vikture_e15_path)\n",
    "\n",
    "plot_audio(audio_waltter_e15)\n",
    "plot_audio(audio_vikture_e15)\n",
    "\n",
    "audio_waltter_l15 = preprocess_audio(audio_waltter_l15_path)\n",
    "audio_vikture_l15 = preprocess_audio(audio_vikture_l15_path)\n",
    "\n",
    "plot_audio(audio_waltter_l15)\n",
    "plot_audio(audio_vikture_l15)"
   ]
  },
  {
   "cell_type": "code",
   "execution_count": null,
   "id": "0c62132c",
   "metadata": {},
   "outputs": [],
   "source": [
    "audio_samples = [audio_waltter, audio_vikture, audio_waltter_e15, audio_vikture_e15, audio_waltter_l15, audio_vikture_l15]"
   ]
  },
  {
   "cell_type": "code",
   "execution_count": null,
   "id": "b5970087",
   "metadata": {},
   "outputs": [],
   "source": [
    "def wav_to_blocks(wav_array: np.ndarray, block_size=882, overlap=441, aggregation_func=np.mean):\n",
    "    blocks = []\n",
    "    array_length = len(wav_array)\n",
    "    block_amount = math.ceil(array_length / (block_size - overlap))\n",
    "    for i in range(block_amount):\n",
    "        block_start = (block_size - overlap) * i\n",
    "        block_end = min(block_start + block_size, array_length)\n",
    "        current_block = wav_array[block_start : block_end]\n",
    "        block_aggregate = aggregation_func(current_block)\n",
    "        blocks.append(block_aggregate)\n",
    "        \n",
    "    return blocks"
   ]
  },
  {
   "cell_type": "code",
   "execution_count": null,
   "id": "6fba4723",
   "metadata": {},
   "outputs": [],
   "source": [
    "for sample in audio_samples:\n",
    "    sample_blocks = wav_to_blocks(sample)\n",
    "    plot_audio(sample_blocks)"
   ]
  },
  {
   "cell_type": "code",
   "execution_count": null,
   "id": "6bb367ba",
   "metadata": {},
   "outputs": [],
   "source": [
    "plot_audio(waltter_blocks)"
   ]
  },
  {
   "cell_type": "code",
   "execution_count": null,
   "id": "a05b7e77",
   "metadata": {},
   "outputs": [],
   "source": [
    "print(sorted(np.argpartition(waltter_blocks, -100)[-100:]))\n",
    "print(sorted(np.argpartition(vikture_blocks, -100)[-100:]))"
   ]
  },
  {
   "cell_type": "code",
   "execution_count": null,
   "id": "531f195b",
   "metadata": {},
   "outputs": [],
   "source": [
    "print(sorted(np.argpartition(normalized_waltter, -1000)[-1000:]))\n",
    "print(sorted(np.argpartition(normalized_vikture, -1000)[-1000:]))"
   ]
  },
  {
   "cell_type": "code",
   "execution_count": null,
   "id": "936a2495",
   "metadata": {},
   "outputs": [],
   "source": [
    "waltter_extreme_blocks = wav_to_blocks(extrame_normalized_waltter, block_size=2205, overlap=0) \n",
    "print(len(waltter_extreme_blocks))\n",
    "\n",
    "vikture_extreme_blocks = wav_to_blocks(extreme_normalized_vikture, block_size=2205, overlap=0) \n",
    "print(len(vikture_extreme_blocks))"
   ]
  },
  {
   "cell_type": "code",
   "execution_count": null,
   "id": "4d01d008",
   "metadata": {},
   "outputs": [],
   "source": [
    "print(sorted(np.argpartition(waltter_extreme_blocks, -10)[-10:]))\n",
    "print(sorted(np.argpartition(vikture_extreme_blocks, -10)[-10:]))"
   ]
  },
  {
   "cell_type": "code",
   "execution_count": null,
   "id": "a54ce7be",
   "metadata": {},
   "outputs": [],
   "source": []
  },
  {
   "cell_type": "code",
   "execution_count": null,
   "id": "d0da10e7",
   "metadata": {},
   "outputs": [],
   "source": []
  }
 ],
 "metadata": {
  "kernelspec": {
   "display_name": "meow",
   "language": "python",
   "name": "meow"
  },
  "language_info": {
   "codemirror_mode": {
    "name": "ipython",
    "version": 3
   },
   "file_extension": ".py",
   "mimetype": "text/x-python",
   "name": "python",
   "nbconvert_exporter": "python",
   "pygments_lexer": "ipython3",
   "version": "3.8.10"
  }
 },
 "nbformat": 4,
 "nbformat_minor": 5
}
