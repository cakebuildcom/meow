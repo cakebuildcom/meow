{
 "cells": [
  {
   "cell_type": "code",
   "execution_count": null,
   "id": "680bc047",
   "metadata": {},
   "outputs": [],
   "source": [
    "import scipy\n",
    "import matplotlib.pyplot as plt\n",
    "import os\n",
    "import ffmpeg\n",
    "import moviepy.editor as mp\n",
    "from scipy.io.wavfile import read\n",
    "import numpy as np\n",
    "from scipy.fft import fft, ifft\n",
    "import math\n",
    "import numpy as np"
   ]
  },
  {
   "cell_type": "code",
   "execution_count": null,
   "id": "9c9a9062",
   "metadata": {},
   "outputs": [],
   "source": [
    "ROOT_DIR = os.path.dirname(os.getcwd())\n",
    "DATA_FOLDER = os.path.join(ROOT_DIR, \"data\")"
   ]
  },
  {
   "cell_type": "code",
   "execution_count": null,
   "id": "8c101900",
   "metadata": {},
   "outputs": [],
   "source": [
    "video_waltter_path = os.path.join(DATA_FOLDER, \"example_waltter.MOV\")\n",
    "video_vikture_path = os.path.join(DATA_FOLDER, \"example_vikture.MOV\")\n",
    "audio_waltter_path = os.path.join(DATA_FOLDER, \"example_waltter.wav\")\n",
    "audio_vikture_path = os.path.join(DATA_FOLDER, \"example_vikture.wav\")\n",
    "\n",
    "video_waltter_e15_path = os.path.join(DATA_FOLDER, \"example_waltter_early_15s.MOV\")\n",
    "video_vikture_e15_path = os.path.join(DATA_FOLDER, \"example_vikture_early_15s.MOV\")\n",
    "audio_waltter_e15_path = os.path.join(DATA_FOLDER, \"example_waltter_early_15s.wav\")\n",
    "audio_vikture_e15_path = os.path.join(DATA_FOLDER, \"example_vikture_early_15s.wav\")\n",
    "\n",
    "video_waltter_l15_path = os.path.join(DATA_FOLDER, \"example_waltter_late_15s.MOV\")\n",
    "video_vikture_l15_path = os.path.join(DATA_FOLDER, \"example_vikture_late_15s.MOV\")\n",
    "audio_waltter_l15_path = os.path.join(DATA_FOLDER, \"example_waltter_late_15s.wav\")\n",
    "audio_vikture_l15_path = os.path.join(DATA_FOLDER, \"example_vikture_late_15s.wav\")\n",
    "\n",
    "video_waltter_e30_path = os.path.join(DATA_FOLDER, \"example_waltter_early_30s.MOV\")\n",
    "video_vikture_e30_path = os.path.join(DATA_FOLDER, \"example_vikture_early_30s.MOV\")\n",
    "audio_waltter_e30_path = os.path.join(DATA_FOLDER, \"example_waltter_early_30s.wav\")\n",
    "audio_vikture_e30_path = os.path.join(DATA_FOLDER, \"example_vikture_early_30s.wav\")"
   ]
  },
  {
   "cell_type": "code",
   "execution_count": null,
   "id": "b43bd6da",
   "metadata": {},
   "outputs": [],
   "source": [
    "def extract_audio(video_path):\n",
    "    video = mp.VideoFileClip(video_path)\n",
    "    audio = video.audio\n",
    "    return audio"
   ]
  },
  {
   "cell_type": "code",
   "execution_count": null,
   "id": "d60e08db",
   "metadata": {},
   "outputs": [],
   "source": [
    "def plot_audio(data):\n",
    "    plt.title(\"Audio\")\n",
    "    plt.plot(data)\n",
    "    plt.show()"
   ]
  },
  {
   "cell_type": "code",
   "execution_count": null,
   "id": "0e37a021",
   "metadata": {},
   "outputs": [],
   "source": [
    "def stereo_to_mono(wav_array: np.ndarray):\n",
    "    mono_wav = wav_array.mean(axis=1)\n",
    "    return mono_wav"
   ]
  },
  {
   "cell_type": "code",
   "execution_count": null,
   "id": "08dea13d",
   "metadata": {},
   "outputs": [],
   "source": [
    "def normalize_wav(wav_array: np.ndarray):\n",
    "    normalized_wav_array = 2.*(wav_array - np.min(wav_array))/np.ptp(wav_array)-1\n",
    "    return normalized_wav_array"
   ]
  },
  {
   "cell_type": "code",
   "execution_count": null,
   "id": "7c31710e",
   "metadata": {},
   "outputs": [],
   "source": [
    "def contrast_audio(audio_array: np.ndarray):\n",
    "    return audio_array**2"
   ]
  },
  {
   "cell_type": "code",
   "execution_count": null,
   "id": "b18fd81d",
   "metadata": {},
   "outputs": [],
   "source": [
    "def preprocess_audio(audio_file_path: str, to_mono=True, normalize=True, contrast=True):\n",
    "    sample_rate, audio = read(audio_file_path)\n",
    "    audio_data = np.array(audio, dtype=float)\n",
    "    if to_mono:\n",
    "        audio_data = stereo_to_mono(audio_data)\n",
    "    if normalize:\n",
    "        audio_data = normalize_wav(audio_data)\n",
    "    if contrast:\n",
    "        audio_data = contrast_audio(audio_data)\n",
    "    return audio_data"
   ]
  },
  {
   "cell_type": "code",
   "execution_count": null,
   "id": "86fc4d96",
   "metadata": {},
   "outputs": [],
   "source": [
    "plot_audio(preprocess_audio(audio_waltter_path, normalize=False, contrast=False))\n",
    "plot_audio(preprocess_audio(audio_waltter_path, normalize=True, contrast=False))\n",
    "plot_audio(preprocess_audio(audio_waltter_path, normalize=True, contrast=True))"
   ]
  },
  {
   "cell_type": "code",
   "execution_count": null,
   "id": "7ddf2b41",
   "metadata": {},
   "outputs": [],
   "source": [
    "audio_waltter = preprocess_audio(audio_waltter_path)\n",
    "audio_vikture = preprocess_audio(audio_vikture_path)\n",
    "\n",
    "plot_audio(audio_waltter)\n",
    "plot_audio(audio_vikture)\n",
    "\n",
    "audio_waltter_e15 = preprocess_audio(audio_waltter_e15_path)\n",
    "audio_vikture_e15 = preprocess_audio(audio_vikture_e15_path)\n",
    "\n",
    "plot_audio(audio_waltter_e15)\n",
    "plot_audio(audio_vikture_e15)\n",
    "\n",
    "audio_waltter_l15 = preprocess_audio(audio_waltter_l15_path)\n",
    "audio_vikture_l15 = preprocess_audio(audio_vikture_l15_path)\n",
    "\n",
    "plot_audio(audio_waltter_l15)\n",
    "plot_audio(audio_vikture_l15)"
   ]
  },
  {
   "cell_type": "code",
   "execution_count": null,
   "id": "0c62132c",
   "metadata": {},
   "outputs": [],
   "source": [
    "audio_samples = [audio_waltter, audio_vikture, audio_waltter_e15, audio_vikture_e15, audio_waltter_l15, audio_vikture_l15]"
   ]
  },
  {
   "cell_type": "code",
   "execution_count": null,
   "id": "b5970087",
   "metadata": {},
   "outputs": [],
   "source": [
    "def wav_to_blocks(wav_array: np.ndarray, block_size=882, overlap=441, aggregation_func=np.mean):\n",
    "    blocks = np.array([])\n",
    "    array_length = len(wav_array)\n",
    "    block_amount = math.ceil(array_length / (block_size - overlap))\n",
    "    for i in range(block_amount):\n",
    "        block_start = (block_size - overlap) * i\n",
    "        block_end = min(block_start + block_size, array_length)\n",
    "        current_block = wav_array[block_start : block_end]\n",
    "        block_aggregate = aggregation_func(current_block)\n",
    "        blocks = np.append(blocks, block_aggregate)\n",
    "        \n",
    "    return blocks"
   ]
  },
  {
   "cell_type": "code",
   "execution_count": null,
   "id": "6fba4723",
   "metadata": {},
   "outputs": [],
   "source": [
    "for sample in audio_samples:\n",
    "    sample_blocks = wav_to_blocks(sample)\n",
    "    plot_audio(sample_blocks)"
   ]
  },
  {
   "cell_type": "code",
   "execution_count": null,
   "id": "6bb367ba",
   "metadata": {},
   "outputs": [],
   "source": [
    "plot_audio(waltter_blocks)"
   ]
  },
  {
   "cell_type": "code",
   "execution_count": null,
   "id": "a05b7e77",
   "metadata": {},
   "outputs": [],
   "source": [
    "print(sorted(np.argpartition(waltter_blocks, -100)[-100:]))\n",
    "print(sorted(np.argpartition(vikture_blocks, -100)[-100:]))"
   ]
  },
  {
   "cell_type": "code",
   "execution_count": null,
   "id": "531f195b",
   "metadata": {},
   "outputs": [],
   "source": [
    "print(sorted(np.argpartition(normalized_waltter, -1000)[-1000:]))\n",
    "print(sorted(np.argpartition(normalized_vikture, -1000)[-1000:]))"
   ]
  },
  {
   "cell_type": "code",
   "execution_count": null,
   "id": "936a2495",
   "metadata": {},
   "outputs": [],
   "source": [
    "waltter_extreme_blocks = wav_to_blocks(extrame_normalized_waltter, block_size=2205, overlap=0) \n",
    "print(len(waltter_extreme_blocks))\n",
    "\n",
    "vikture_extreme_blocks = wav_to_blocks(extreme_normalized_vikture, block_size=2205, overlap=0) \n",
    "print(len(vikture_extreme_blocks))"
   ]
  },
  {
   "cell_type": "code",
   "execution_count": null,
   "id": "4d01d008",
   "metadata": {},
   "outputs": [],
   "source": [
    "print(sorted(np.argpartition(waltter_extreme_blocks, -10)[-10:]))\n",
    "print(sorted(np.argpartition(vikture_extreme_blocks, -10)[-10:]))"
   ]
  },
  {
   "cell_type": "code",
   "execution_count": null,
   "id": "a54ce7be",
   "metadata": {},
   "outputs": [],
   "source": [
    "audio_waltter = preprocess_audio(audio_vikture_path, normalize=True, contrast=True)\n",
    "audio_vikture = preprocess_audio(audio_vikture_l15_path, normalize=True, contrast=True)"
   ]
  },
  {
   "cell_type": "code",
   "execution_count": null,
   "id": "d0da10e7",
   "metadata": {},
   "outputs": [],
   "source": [
    "# Calculate absolute distance between audio samples\n",
    "def audio_mse_score(audio1, audio2, blocks=False):\n",
    "    assert len(audio1) == len(audio2)\n",
    "    \n",
    "    if blocks:\n",
    "        audio1_blocks = np.array(wav_to_blocks(audio1, block_size=441, overlap=0))\n",
    "        audio2_blocks = np.array(wav_to_blocks(audio2, block_size=441, overlap=0))\n",
    "        mse_score = (np.square(audio1_blocks - audio2_blocks)).mean()\n",
    "    else:\n",
    "        mse_score = (np.square(audio1 - audio2)).mean()\n",
    "        \n",
    "    return mse_score"
   ]
  },
  {
   "cell_type": "code",
   "execution_count": null,
   "id": "7b62bcf9",
   "metadata": {},
   "outputs": [],
   "source": [
    "# Calculate absolute distance between audio samples\n",
    "def audio_absolute_distance_score(audio1, audio2, blocks=False):\n",
    "    assert len(audio1) == len(audio2)\n",
    "    \n",
    "    if blocks:\n",
    "        audio1_blocks = np.array(wav_to_blocks(audio1, block_size=441, overlap=0))\n",
    "        audio2_blocks = np.array(wav_to_blocks(audio2, block_size=441, overlap=0))\n",
    "        distance_score = (np.abs(audio1_blocks - audio2_blocks)).sum()\n",
    "    else:\n",
    "        distance_score = (np.abs(audio1 - audio2)).sum()\n",
    "    \n",
    "    return distance_score"
   ]
  },
  {
   "cell_type": "code",
   "execution_count": null,
   "id": "fa1f2f83",
   "metadata": {},
   "outputs": [],
   "source": [
    "def safe_division(first, second):\n",
    "    if first == 0 or second == 0:\n",
    "        return 0\n",
    "    else:\n",
    "        return first / second\n",
    "\n",
    "# Compare windows from audio1 to audio2 and find windows that minimizes the distance between audio files\n",
    "def calculate_distance_plot(audio1, audio2, verbose=False):\n",
    "    a1a2_distance_scores = []\n",
    "    a2a1_distance_scores = [] \n",
    "\n",
    "    # Accuracy of 1000th of a second\n",
    "    window_increment = math.floor(44100 / 100)\n",
    "    window_size_factor = 2\n",
    "    \n",
    "    audio1_lenght = len(audio1)\n",
    "    window_size_1 = math.floor(audio1_lenght / window_size_factor)\n",
    "    print(f\"Windows size 1: {window_size_1}\")\n",
    "    windows_amount_1 = math.ceil((audio1_lenght - window_size_1) / window_increment)\n",
    "    \n",
    "    # We don't know which audio files is delayed compared to the other, so we need to run the analysis both ways, \n",
    "    # first comparing audio1 window to audio2 start and then comparing audio2 windows to audio1 start \n",
    "    \n",
    "    print(\"Comparing audio1 to audio2\")\n",
    "    for i in range(windows_amount_1):\n",
    "        window_start = window_increment * i\n",
    "        window_end = min(window_start + window_size_1, audio1_lenght)\n",
    "        audio1_window = audio1[window_start : window_end]\n",
    "        audio2_window = audio2[0 : window_size_1]\n",
    "        mse_score = audio_absolute_distance_score(audio1_window, audio2_window)\n",
    "        a1a2_distance_scores.append(mse_score)\n",
    "        \n",
    "        if verbose and  i % math.floor(windows_amount_1 / 100) == 0:\n",
    "            print(f\"{round(safe_division(i, windows_amount_1) * 100, 2)}%\")\n",
    "     \n",
    "    audio2_lenght = len(audio2)\n",
    "    window_size_2 = math.floor(audio2_lenght / window_size_factor)\n",
    "    print(f\"Windows size 2: {window_size_2}\")\n",
    "    windows_amount_2 = math.ceil((audio2_lenght - window_size_2) / window_increment)\n",
    "\n",
    "    print(\"Comparing audio2 to audio1\")\n",
    "    for i in range(windows_amount_2):\n",
    "        window_start = window_increment * i\n",
    "        window_end = min(window_start + window_size_2, audio2_lenght)\n",
    "        audio1_window = audio1[0 : window_size_2]\n",
    "        audio2_window = audio2[window_start : window_end]\n",
    "        mse_score = audio_absolute_distance_score(audio1_window, audio2_window)\n",
    "        a2a1_distance_scores.append(mse_score)\n",
    "        \n",
    "        if verbose and i % math.floor(windows_amount_2 / 100) == 0:\n",
    "            print(f\"{round(safe_division(i, windows_amount_2) * 100, 2)}%\")\n",
    "            \n",
    "    plt.plot(a1a2_distance_scores)\n",
    "    plt.title(\"Audio 1 sliding window MSE\")\n",
    "    plt.show()\n",
    "    \n",
    "    plt.plot(a2a1_distance_scores)\n",
    "    plt.title(\"Audio 2 sliding window MSE\")\n",
    "    plt.show()\n",
    "\n",
    "    a1a2_distance_scores_np = np.array(a1a2_distance_scores)\n",
    "    a2a1_distance_scores_np = np.array(a2a1_distance_scores)\n",
    "\n",
    "    a1a2_lowest_score_arg = np.argmin(a1a2_distance_scores_np)\n",
    "    a2a1_lowest_score_arg = np.argmin(a2a1_distance_scores_np)\n",
    "    \n",
    "    print(a1a2_lowest_score_arg)\n",
    "    print(a2a1_lowest_score_arg)\n",
    "    \n",
    "    a1a2_lowest_score = np.min(a1a2_distance_scores)\n",
    "    a2a1_lowest_score = np.min(a2a1_distance_scores)\n",
    "    \n",
    "    lowest_score = min(a1a2_lowest_score, a2a1_lowest_score)\n",
    "    lowest_score_arg = min(a1a2_lowest_score, a2a1_lowest_score)\n",
    "\n",
    "    if a1a2_lowest_score < a2a1_lowest_score:\n",
    "        delay = (a1a2_lowest_score_arg * window_increment) / 44100\n",
    "        print(f\"Audio 1 needs {delay} second delay\")\n",
    "    else:\n",
    "        delay = (a2a1_lowest_score_arg * window_increment) / 44100\n",
    "        print(f\"Audio 2 needs {delay} second delay\")"
   ]
  },
  {
   "cell_type": "code",
   "execution_count": null,
   "id": "beed9027",
   "metadata": {},
   "outputs": [],
   "source": [
    "calculate_distance_plot(audio_waltter, audio_vikture, verbose=True)"
   ]
  },
  {
   "cell_type": "code",
   "execution_count": null,
   "id": "4cf04357",
   "metadata": {},
   "outputs": [],
   "source": []
  }
 ],
 "metadata": {
  "kernelspec": {
   "display_name": "meow",
   "language": "python",
   "name": "meow"
  },
  "language_info": {
   "codemirror_mode": {
    "name": "ipython",
    "version": 3
   },
   "file_extension": ".py",
   "mimetype": "text/x-python",
   "name": "python",
   "nbconvert_exporter": "python",
   "pygments_lexer": "ipython3",
   "version": "3.8.10"
  }
 },
 "nbformat": 4,
 "nbformat_minor": 5
}
