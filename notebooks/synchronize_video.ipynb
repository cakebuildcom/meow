{
 "cells": [
  {
   "cell_type": "code",
   "execution_count": null,
   "id": "680bc047",
   "metadata": {},
   "outputs": [],
   "source": [
    "import scipy\n",
    "import matplotlib.pyplot as plt\n",
    "import os\n",
    "import ffmpeg\n",
    "import moviepy.editor as mp\n",
    "from scipy.io.wavfile import read\n",
    "import numpy as np\n",
    "from scipy.fft import fft, ifft\n",
    "import math\n",
    "import numpy as np\n",
    "from pathlib import Path\n",
    "from moviepy.video.io.ffmpeg_tools import ffmpeg_extract_subclip\n",
    "from typing import Tuple, Dict, Union\n",
    "import ffmpeg"
   ]
  },
  {
   "cell_type": "code",
   "execution_count": null,
   "id": "9c9a9062",
   "metadata": {},
   "outputs": [],
   "source": [
    "ROOT_DIR = os.path.dirname(os.getcwd())\n",
    "DATA_FOLDER = os.path.join(ROOT_DIR, \"data\")"
   ]
  },
  {
   "cell_type": "code",
   "execution_count": null,
   "id": "8c101900",
   "metadata": {},
   "outputs": [],
   "source": [
    "video_waltter_path = os.path.join(DATA_FOLDER, \"example_waltter.MOV\")\n",
    "video_vikture_path = os.path.join(DATA_FOLDER, \"example_vikture.MOV\")\n",
    "\n",
    "video_waltter_e15_path = os.path.join(DATA_FOLDER, \"example_waltter_early_15s.MOV\")\n",
    "video_vikture_e15_path = os.path.join(DATA_FOLDER, \"example_vikture_early_15s.MOV\")\n",
    "\n",
    "video_waltter_l15_path = os.path.join(DATA_FOLDER, \"example_waltter_late_15s.MOV\")\n",
    "video_vikture_l15_path = os.path.join(DATA_FOLDER, \"example_vikture_late_15s.MOV\")\n",
    "\n",
    "video_waltter_e30_path = os.path.join(DATA_FOLDER, \"example_waltter_early_30s.MOV\")\n",
    "video_vikture_e30_path = os.path.join(DATA_FOLDER, \"example_vikture_early_30s.MOV\")"
   ]
  },
  {
   "cell_type": "code",
   "execution_count": null,
   "id": "061c9ed6",
   "metadata": {},
   "outputs": [],
   "source": [
    "# Get delay from synchronize_audio notebook\n",
    "delay = 14.839274376417233"
   ]
  },
  {
   "cell_type": "code",
   "execution_count": null,
   "id": "5648efac",
   "metadata": {},
   "outputs": [],
   "source": [
    "def get_video_info(video_path) -> Dict[str, Union[int, float, str]]:\n",
    "    probe = ffmpeg.probe(video_path)\n",
    "    file_path = str(probe['format']['filename'])\n",
    "    video_stream = next((stream for stream in probe['streams'] if stream['codec_type'] == 'video'), None)\n",
    "    width = int(video_stream['width'])\n",
    "    height = int(video_stream['height'])\n",
    "    duration = float(probe['format']['duration'])\n",
    "    # Frame rate removed in notebook because cannot import relative local utils\n",
    "    \n",
    "    return {\n",
    "        \"file_path\" : file_path,\n",
    "        \"frame_height\": height,\n",
    "        \"frame_width\": width,\n",
    "        #\"frame_rate\": frame_rate,\n",
    "        \"duration\": duration\n",
    "    }"
   ]
  },
  {
   "cell_type": "code",
   "execution_count": null,
   "id": "f242e25c",
   "metadata": {},
   "outputs": [],
   "source": [
    "print(get_video_info(video_waltter_path))"
   ]
  },
  {
   "cell_type": "code",
   "execution_count": null,
   "id": "4c8855e2",
   "metadata": {},
   "outputs": [],
   "source": [
    "def extract_filename_without_extension(path) -> str:\n",
    "    filename = Path(path).stem\n",
    "    return filename\n",
    "\n",
    "\n",
    "def split_file_from_extension(path, without_dot=True) -> Tuple[str, str]:\n",
    "    filename, extension = os.path.splitext(path)\n",
    "    if without_dot:\n",
    "        extension = extension.replace('.', '').lower()\n",
    "    return filename, extension\n",
    "\n",
    "def extract_folder_from_path(path) -> str:\n",
    "    return os.path.dirname(path)\n",
    "\n",
    "\n",
    "# Separate path to three parts: folder, filename, file extension\n",
    "def separate_path_to_parts(path) -> Tuple[str, str, str]:\n",
    "    filename = extract_filename_without_extension(path)\n",
    "    file_extension = split_file_from_extension(path)[1]\n",
    "    folder = extract_folder_from_path(path)\n",
    "    \n",
    "    return folder, filename, file_extension\n",
    "\n",
    "\n",
    "print(separate_path_to_parts(video_waltter_path))"
   ]
  },
  {
   "cell_type": "code",
   "execution_count": null,
   "id": "f17215d5",
   "metadata": {},
   "outputs": [],
   "source": [
    "# If delay is positive, audio1 needs to be delayed and negative if audio2 needs to be delayed\n",
    "def synchronize_videos(video1_path, video2_path, delay: float, output_path=None):\n",
    "    video1_info = get_video_info(video1_path)\n",
    "    video2_info = get_video_info(video2_path)\n",
    "    video1_path_separated = separate_path_to_parts(video1_path)\n",
    "    video2_path_separated = separate_path_to_parts(video2_path)\n",
    "\n",
    "    final_duration = min(video1_info['duration'], video2_info['duration']) - abs(delay)\n",
    "    \n",
    "    if delay >= 0:\n",
    "        video1_start_time = delay\n",
    "        video1_end_time = final_duration + delay\n",
    "        video1_name = os.path.join(video1_path_separated[0], f\"{video1_path_separated[1]}_synchronized.{video1_path_separated[2]}\")\n",
    "        video2_start_time = 0\n",
    "        video2_end_time = final_duration\n",
    "        video2_name = os.path.join(video2_path_separated[0], f\"{video2_path_separated[1]}_synchronized.{video2_path_separated[2]}\")\n",
    "\n",
    "        ffmpeg_extract_subclip(video1_path, video1_start_time, video1_end_time, targetname=video1_name)\n",
    "        ffmpeg_extract_subclip(video2_path, video2_start_time, video2_end_time, targetname=video2_name)\n",
    "\n",
    "    else:\n",
    "        video1_start_time = 0\n",
    "        video1_end_time = final_duration\n",
    "        video1_name = os.path.join(video1_path_separated[0], f\"{video1_path_separated[1]}_synchronized.{video1_path_separated[2]}\")\n",
    "\n",
    "        video2_start_time = delay\n",
    "        video2_end_time = final_duration + delay\n",
    "        video2_name = os.path.join(video2_path_separated[0], f\"{video2_path_separated[1]}_synchronized.{video2_path_separated[2]}\")\n",
    "\n",
    "        ffmpeg_extract_subclip(video1_path, video1_start_time, video1_end_time, targetname=video1_name)\n",
    "        ffmpeg_extract_subclip(video2_path, video2_start_time, video2_end_time, targetname=video2_name)\n"
   ]
  },
  {
   "cell_type": "code",
   "execution_count": null,
   "id": "ae64917d",
   "metadata": {},
   "outputs": [],
   "source": [
    "synchronize_videos(video_waltter_path, video_vikture_l15_path, delay=delay)"
   ]
  },
  {
   "cell_type": "code",
   "execution_count": null,
   "id": "429921fb",
   "metadata": {},
   "outputs": [],
   "source": []
  }
 ],
 "metadata": {
  "kernelspec": {
   "display_name": "meow",
   "language": "python",
   "name": "meow"
  },
  "language_info": {
   "codemirror_mode": {
    "name": "ipython",
    "version": 3
   },
   "file_extension": ".py",
   "mimetype": "text/x-python",
   "name": "python",
   "nbconvert_exporter": "python",
   "pygments_lexer": "ipython3",
   "version": "3.8.10"
  }
 },
 "nbformat": 4,
 "nbformat_minor": 5
}
