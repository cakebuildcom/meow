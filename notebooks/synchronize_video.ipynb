{
 "cells": [
  {
   "cell_type": "code",
   "execution_count": null,
   "id": "680bc047",
   "metadata": {},
   "outputs": [],
   "source": [
    "import scipy\n",
    "import matplotlib.pyplot as plt\n",
    "import os\n",
    "import ffmpeg\n",
    "import moviepy.editor as mp\n",
    "from scipy.io.wavfile import read\n",
    "import numpy as np\n",
    "from scipy.fft import fft, ifft"
   ]
  },
  {
   "cell_type": "code",
   "execution_count": null,
   "id": "9c9a9062",
   "metadata": {},
   "outputs": [],
   "source": [
    "ROOT_DIR = os.path.dirname(os.getcwd())\n",
    "DATA_FOLDER = os.path.join(ROOT_DIR, \"data\")"
   ]
  },
  {
   "cell_type": "code",
   "execution_count": null,
   "id": "8c101900",
   "metadata": {},
   "outputs": [],
   "source": [
    "video_waltter_path = os.path.join(DATA_FOLDER, \"example_waltter.MOV\")\n",
    "video_vikture_path = os.path.join(DATA_FOLDER, \"example_vikture.MOV\")\n",
    "audio_waltter_path = os.path.join(DATA_FOLDER, \"example_waltter.wav\")\n",
    "audio_vikture_path = os.path.join(DATA_FOLDER, \"example_vikture.wav\")"
   ]
  },
  {
   "cell_type": "code",
   "execution_count": null,
   "id": "b43bd6da",
   "metadata": {},
   "outputs": [],
   "source": [
    "def extract_audio(video_path):\n",
    "    video = mp.VideoFileClip(video_path)\n",
    "    audio = video.audio\n",
    "    return audio"
   ]
  },
  {
   "cell_type": "code",
   "execution_count": null,
   "id": "5cc571b0",
   "metadata": {},
   "outputs": [],
   "source": [
    "audio = extract_audio(video_vikture_path)"
   ]
  },
  {
   "cell_type": "code",
   "execution_count": null,
   "id": "60e45745",
   "metadata": {},
   "outputs": [],
   "source": [
    "print(audio)"
   ]
  },
  {
   "cell_type": "code",
   "execution_count": null,
   "id": "1a911c08",
   "metadata": {},
   "outputs": [],
   "source": [
    "print(type(audio))"
   ]
  },
  {
   "cell_type": "code",
   "execution_count": null,
   "id": "1807e3fe",
   "metadata": {},
   "outputs": [],
   "source": [
    "audio.write_audiofile(os.path.join(DATA_FOLDER, f\"example_vikture.wav\"))"
   ]
  },
  {
   "cell_type": "code",
   "execution_count": null,
   "id": "d60e08db",
   "metadata": {},
   "outputs": [],
   "source": [
    "def plot_audio(data):\n",
    "    plt.title(\"Audio\")\n",
    "    plt.plot(data)\n",
    "    plt.show()"
   ]
  },
  {
   "cell_type": "code",
   "execution_count": null,
   "id": "7ddf2b41",
   "metadata": {},
   "outputs": [],
   "source": [
    "audio_waltter = read(audio_waltter_path)\n",
    "print(audio_waltter)\n",
    "audio_waltter = np.array(audio_waltter[1], dtype=float)\n",
    "plot_audio(audio_waltter)"
   ]
  },
  {
   "cell_type": "code",
   "execution_count": null,
   "id": "5a05d865",
   "metadata": {},
   "outputs": [],
   "source": [
    "audio_vikture = read(audio_vikture_path)\n",
    "audio_vikture = np.array(audio_vikture[1], dtype=float)\n",
    "plot_audio(audio_vikture)"
   ]
  },
  {
   "cell_type": "code",
   "execution_count": null,
   "id": "6c98cd16",
   "metadata": {},
   "outputs": [],
   "source": [
    "print(np.max(audio_waltter))"
   ]
  },
  {
   "cell_type": "code",
   "execution_count": null,
   "id": "56350e75",
   "metadata": {},
   "outputs": [],
   "source": [
    "print(len(audio_waltter))\n",
    "print(audio_waltter.shape)\n",
    "print(audio_waltter[0])"
   ]
  },
  {
   "cell_type": "code",
   "execution_count": null,
   "id": "f61dc5b6",
   "metadata": {},
   "outputs": [],
   "source": [
    "normalized_track = [(element / 2 ** 16) * 2 - 1 for element in audio_waltter]\n",
    "print(normalized_track)"
   ]
  },
  {
   "cell_type": "code",
   "execution_count": null,
   "id": "398b92d4",
   "metadata": {},
   "outputs": [],
   "source": [
    "normalized_track_2 = 2.*(audio_waltter - np.min(audio_waltter))/np.ptp(audio_waltter)-1\n",
    "print(normalized_track_2)\n",
    "plot_audio(normalized_track_2)"
   ]
  },
  {
   "cell_type": "code",
   "execution_count": null,
   "id": "0a493a0b",
   "metadata": {},
   "outputs": [],
   "source": [
    "audio_waltter_fft = fft(audio_waltter)\n",
    "print(audio_waltter_fft)\n",
    "plot_audio(audio_waltter_fft)"
   ]
  },
  {
   "cell_type": "code",
   "execution_count": null,
   "id": "1c14cca4",
   "metadata": {},
   "outputs": [],
   "source": []
  }
 ],
 "metadata": {
  "kernelspec": {
   "display_name": "meow",
   "language": "python",
   "name": "meow"
  },
  "language_info": {
   "codemirror_mode": {
    "name": "ipython",
    "version": 3
   },
   "file_extension": ".py",
   "mimetype": "text/x-python",
   "name": "python",
   "nbconvert_exporter": "python",
   "pygments_lexer": "ipython3",
   "version": "3.8.10"
  }
 },
 "nbformat": 4,
 "nbformat_minor": 5
}
