{
 "cells": [
  {
   "cell_type": "code",
   "execution_count": null,
   "id": "5960a385",
   "metadata": {},
   "outputs": [],
   "source": [
    "import numpy as np\n",
    "import os\n",
    "import sys"
   ]
  },
  {
   "cell_type": "code",
   "execution_count": null,
   "id": "32dba70c",
   "metadata": {},
   "outputs": [],
   "source": [
    "os.path.dirname(os.path.dirname(os.path.dirname(os.getcwd())))"
   ]
  },
  {
   "cell_type": "code",
   "execution_count": null,
   "id": "f61d110f",
   "metadata": {},
   "outputs": [],
   "source": [
    "ROOT_DIR = os.path.dirname(os.getcwd())\n",
    "HOME_DIR = os.path.dirname(os.path.dirname(os.path.dirname(os.getcwd())))\n",
    "DATA_FOLDER = os.path.join(ROOT_DIR, \"data\")\n",
    "SYNC_KIT_PATH = os.path.join(HOME_DIR, 'testit/audio-sync-kit')\n",
    "sys.path.append(SYNC_KIT_PATH)"
   ]
  },
  {
   "cell_type": "code",
   "execution_count": null,
   "id": "ed83e97c",
   "metadata": {},
   "outputs": [],
   "source": [
    "import audio_sync"
   ]
  },
  {
   "cell_type": "code",
   "execution_count": null,
   "id": "46589f97",
   "metadata": {},
   "outputs": [],
   "source": [
    "audio_keparoicamL_path = os.path.join(DATA_FOLDER, \"keparoicam_clipL.wav\")\n",
    "audio_keparoicamR_path = os.path.join(DATA_FOLDER, \"keparoicam_clipR.wav\")"
   ]
  },
  {
   "cell_type": "code",
   "execution_count": null,
   "id": "310861a4",
   "metadata": {},
   "outputs": [],
   "source": [
    "latencies, dropouts  = audio_sync.AnalyzeAudios(audio_keparoicamL_path, audio_keparoicamR_path)"
   ]
  },
  {
   "cell_type": "code",
   "execution_count": null,
   "id": "8de0c971",
   "metadata": {},
   "outputs": [],
   "source": [
    "latencies"
   ]
  },
  {
   "cell_type": "code",
   "execution_count": null,
   "id": "3e5db0b0",
   "metadata": {},
   "outputs": [],
   "source": [
    "dropouts"
   ]
  },
  {
   "cell_type": "code",
   "execution_count": null,
   "id": "b599c0a1",
   "metadata": {},
   "outputs": [],
   "source": []
  }
 ],
 "metadata": {
  "kernelspec": {
   "display_name": "meow",
   "language": "python",
   "name": "meow"
  },
  "language_info": {
   "codemirror_mode": {
    "name": "ipython",
    "version": 3
   },
   "file_extension": ".py",
   "mimetype": "text/x-python",
   "name": "python",
   "nbconvert_exporter": "python",
   "pygments_lexer": "ipython3",
   "version": "3.8.10"
  }
 },
 "nbformat": 4,
 "nbformat_minor": 5
}
