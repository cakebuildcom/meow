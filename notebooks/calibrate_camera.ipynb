{
 "cells": [
  {
   "cell_type": "code",
   "execution_count": null,
   "id": "c301b20c",
   "metadata": {},
   "outputs": [],
   "source": [
    "import cv2\n",
    "import glob\n",
    "import os\n",
    "import numpy as np\n",
    "import matplotlib.pyplot as plt\n",
    "import picklöe"
   ]
  },
  {
   "cell_type": "code",
   "execution_count": null,
   "id": "0ebcbcd3",
   "metadata": {},
   "outputs": [],
   "source": [
    "ROOT_DIR = os.path.dirname(os.getcwd())\n",
    "DATA_FOLDER = os.path.join(ROOT_DIR, \"data\")"
   ]
  },
  {
   "cell_type": "code",
   "execution_count": null,
   "id": "cd2e648c",
   "metadata": {},
   "outputs": [],
   "source": [
    "images = glob.glob(f\"{os.path.join(DATA_FOLDER, 'camera_calibration')}/*.JPG\")"
   ]
  },
  {
   "cell_type": "code",
   "execution_count": null,
   "id": "441ad5fe",
   "metadata": {},
   "outputs": [],
   "source": [
    "CHECKERBOARD = (7, 9)"
   ]
  },
  {
   "cell_type": "code",
   "execution_count": null,
   "id": "195f07dd",
   "metadata": {},
   "outputs": [],
   "source": [
    "criteria = (cv2.TERM_CRITERIA_EPS + cv2.TERM_CRITERIA_MAX_ITER, 30, 0.001)\n",
    "\n",
    "three_d_points = []\n",
    "two_d_points = []\n",
    "\n",
    "objectp3d = np.zeros((1, CHECKERBOARD[0] * CHECKERBOARD[1], 3), np.float32)\n",
    "objectp3d[0, :, :2] = np.mgrid[0:CHECKERBOARD[0], 0:CHECKERBOARD[1]].T.reshape(-1, 2)\n",
    "img_shape = cv2.imread(images[0]).shape[0:2]\n",
    "print(img_shape)\n",
    "\n",
    "for filename in images:\n",
    "    image = cv2.imread(filename)\n",
    "    gray_image = cv2.cvtColor(image, cv2.COLOR_BGR2GRAY)\n",
    "\n",
    "    # Find the chess board corners\n",
    "    # If desired number of corners are\n",
    "    # found in the image then ret = true\n",
    "    ret, corners = cv2.findChessboardCorners(gray_image, CHECKERBOARD, \n",
    "                                             cv2.CALIB_CB_ADAPTIVE_THRESH + cv2.CALIB_CB_FAST_CHECK + cv2.CALIB_CB_NORMALIZE_IMAGE)\n",
    "    # If desired number of corners can be detected then,\n",
    "    # refine the pixel coordinates and display\n",
    "    # them on the images of checker board\n",
    "    if ret == True:\n",
    "        three_d_points.append(objectp3d)\n",
    "        # Refining pixel coordinates\n",
    "        # for given 2d points.\n",
    "        corners2 = cv2.cornerSubPix(gray_image, corners, (11, 11), (-1, -1), criteria)\n",
    "        two_d_points.append(corners2)\n",
    "        # Draw and display the corners\n",
    "        image = cv2.drawChessboardCorners(image, CHECKERBOARD, corners2, ret)\n",
    "    else:\n",
    "        print(f\"Pattern was not found on image {filename}\")\n",
    "    \n",
    "    "
   ]
  },
  {
   "cell_type": "code",
   "execution_count": null,
   "id": "5716ac48",
   "metadata": {},
   "outputs": [],
   "source": [
    "# Perform camera calibration by\n",
    "# passing the value of above found out 3D points (threedpoints)\n",
    "# and its corresponding pixel coordinates of the\n",
    "# detected corners (twodpoints)\n",
    "ret, matrix, distortion, r_vecs, t_vecs = cv2.calibrateCamera(\n",
    "    three_d_points, two_d_points, img_shape[::-1], None, None\n",
    ")\n",
    "# Displaying required output\n",
    "print(\"Camera matrix: \")\n",
    "print(matrix)\n",
    "print(\"Distortion coefficient: \")\n",
    "print(distortion)"
   ]
  },
  {
   "cell_type": "code",
   "execution_count": null,
   "id": "fefeadb2",
   "metadata": {},
   "outputs": [],
   "source": [
    "camera_matrix_path = os.path.join(DATA_FOLDER, \"camera_matrix.npy\")\n",
    "np.save(camera_matrix_path, matrix)\n",
    "\n",
    "camera_matrix_txt_path = os.path.join(DATA_FOLDER, \"camera_matrix.txt\")\n",
    "np.savetxt(camera_matrix_txt_path, matrix)\n",
    "\n",
    "camera_distortion_path = os.path.join(DATA_FOLDER, \"camera_distortion.npy\")\n",
    "np.save(camera_distortion_path, distortion)\n",
    "\n",
    "camera_distortion_txt_path = os.path.join(DATA_FOLDER, \"camera_distortion.txt\")\n",
    "np.savetxt(camera_distortion_txt_path, distortion)"
   ]
  },
  {
   "cell_type": "code",
   "execution_count": null,
   "id": "972d7545",
   "metadata": {},
   "outputs": [],
   "source": [
    "h, w = img_shape\n",
    "undistorted_matrix, roi = cv2.getOptimalNewCameraMatrix(matrix, distortion, (w,h), 0, (w,h))"
   ]
  },
  {
   "cell_type": "code",
   "execution_count": null,
   "id": "fba6dd43",
   "metadata": {},
   "outputs": [],
   "source": [
    "image = cv2.imread(images[10])\n",
    "undistorted_image = cv2.undistort(image, matrix, distortion, None, undistorted_matrix)\n",
    "\n",
    "x, y, w, h = roi\n",
    "undistorted_image = undistorted_image[y:y+h, x:x+w]\n",
    "plt.figure(figsize=(30,50))\n",
    "plt.subplot(1,2,1)\n",
    "plt.imshow(image)\n",
    "plt.subplot(1,2,2)\n",
    "plt.imshow(undistorted_image)\n",
    "plt.show()"
   ]
  },
  {
   "cell_type": "code",
   "execution_count": null,
   "id": "f570edf8",
   "metadata": {},
   "outputs": [],
   "source": []
  }
 ],
 "metadata": {
  "kernelspec": {
   "display_name": "meow",
   "language": "python",
   "name": "meow"
  },
  "language_info": {
   "codemirror_mode": {
    "name": "ipython",
    "version": 3
   },
   "file_extension": ".py",
   "mimetype": "text/x-python",
   "name": "python",
   "nbconvert_exporter": "python",
   "pygments_lexer": "ipython3",
   "version": "3.10.6"
  }
 },
 "nbformat": 4,
 "nbformat_minor": 5
}
